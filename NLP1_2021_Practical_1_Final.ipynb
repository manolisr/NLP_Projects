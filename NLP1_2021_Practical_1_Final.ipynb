{
  "nbformat": 4,
  "nbformat_minor": 0,
  "metadata": {
    "colab": {
      "name": "NLP1_2021_Practical_1.ipynb",
      "provenance": [],
      "collapsed_sections": []
    },
    "kernelspec": {
      "display_name": "Python 3 (ipykernel)",
      "language": "python",
      "name": "python3"
    },
    "language_info": {
      "codemirror_mode": {
        "name": "ipython",
        "version": 3
      },
      "file_extension": ".py",
      "mimetype": "text/x-python",
      "name": "python",
      "nbconvert_exporter": "python",
      "pygments_lexer": "ipython3",
      "version": "3.8.8"
    }
  },
  "cells": [
    {
      "cell_type": "markdown",
      "metadata": {
        "id": "lIZrAUx57vsM"
      },
      "source": [
        "Practical 1: Sentiment Detection in Movie Reviews\n",
        "========================================\n",
        "\n"
      ]
    },
    {
      "cell_type": "markdown",
      "metadata": {
        "id": "J4kXPMhyngZW"
      },
      "source": [
        "This practical concerns detecting sentiment in movie reviews. This is a typical NLP classification task.\n",
        "In [this file](https://gist.githubusercontent.com/bastings/d47423301cca214e3930061a5a75e177/raw/5113687382919e22b1f09ce71a8fecd1687a5760/reviews.json) (80MB) you will find 1000 positive and 1000 negative **movie reviews**.\n",
        "Each review is a **document** and consists of one or more sentences.\n",
        "\n",
        "To prepare yourself for this practical, you should\n",
        "have a look at a few of these texts to understand the difficulties of\n",
        "the task: how might one go about classifying the texts? You will write\n",
        "code that decides whether a movie review conveys positive or\n",
        "negative sentiment.\n",
        "\n",
        "Please make sure you have read the following paper:\n",
        "\n",
        ">   Bo Pang, Lillian Lee, and Shivakumar Vaithyanathan\n",
        "(2002). \n",
        "[Thumbs up? Sentiment Classification using Machine Learning\n",
        "Techniques](https://dl.acm.org/citation.cfm?id=1118704). EMNLP.\n",
        "\n",
        "Bo Pang et al. introduced the movie review sentiment\n",
        "classification task, and the above paper was one of the first papers on\n",
        "the topic. The first version of your sentiment classifier will do\n",
        "something similar to Pang et al.'s system. If you have questions about it,\n",
        "you should resolve you doubts as soon as possible with your TA.\n"
      ]
    },
    {
      "cell_type": "markdown",
      "metadata": {
        "id": "cb7errgRASzZ"
      },
      "source": [
        "**Advice**\n",
        "\n",
        "Please read through the entire practical and familiarise\n",
        "yourself with all requirements before you start coding or otherwise\n",
        "solving the tasks. Writing clean and concise code can make the difference\n",
        "between solving the assignment in a matter of hours, and taking days to\n",
        "run all experiments.\n",
        "\n",
        "## Environment\n",
        "\n",
        "All code should be written in **Python 3**. \n",
        "This is the default in Google Colab."
      ]
    },
    {
      "cell_type": "code",
      "metadata": {
        "id": "SaZnxptMJiD7"
      },
      "source": [
        "!python --version"
      ],
      "execution_count": null,
      "outputs": []
    },
    {
      "cell_type": "markdown",
      "metadata": {
        "id": "BYZyIF7lJnGn"
      },
      "source": [
        "If you want to run code on your own computer, then download this notebook through `File -> Download .ipynb`.\n",
        "The easiest way to\n",
        "install Python is through downloading\n",
        "[Anaconda](https://www.anaconda.com/download). \n",
        "After installation, you can start the notebook by typing `jupyter notebook filename.ipynb`.\n",
        "You can also use an IDE\n",
        "such as [PyCharm](https://www.jetbrains.com/pycharm/download/) to make\n",
        "coding and debugging easier. It is good practice to create a [virtual\n",
        "environment](https://docs.python.org/3/tutorial/venv.html) for this\n",
        "project, so that any Python packages don’t interfere with other\n",
        "projects. \n",
        " \n",
        "\n",
        "**Learning Python 3**\n",
        "\n",
        "If you are new to Python 3, you may want to check out a few of these resources:\n",
        "- https://learnxinyminutes.com/docs/python3/\n",
        "- https://www.learnpython.org/\n",
        "- https://docs.python.org/3/tutorial/"
      ]
    },
    {
      "cell_type": "markdown",
      "metadata": {
        "id": "9qdyq6x6ZNzY"
      },
      "source": [
        "### *General information on running our notebook:*\n",
        " \n",
        "- In addition to the libraries from the Google colab version of notebook we use the following libraries for data handling, efficient computing and evaluating algorithm performance:\n",
        "   - tqdm (to show progress bars in loops)- https://pypi.org/project/tqdm/#installation\n",
        "   - wget (to download the datasets locally) - https://anaconda.org/anaconda/wget\n",
        "   - time (to get program execution times)\n",
        "   - pandas (for data handling) - https://pandas.pydata.org/docs/getting_started/install.html\n",
        "   - scipy (for efficient computations) - https://scipy.org/install/\n",
        "   \n",
        "- We use *Class* based approach and techniques to run our expirements. This makes coding tractable and easy to debug.\n",
        "- Additional information is provided as comments at required places."
      ]
    },
    {
      "cell_type": "code",
      "metadata": {
        "colab": {
          "base_uri": "https://localhost:8080/"
        },
        "id": "xoqD2EcBZTdc",
        "outputId": "ec74640d-0a44-4aea-af76-6d7ffde3f786"
      },
      "source": [
        "!pip install wget"
      ],
      "execution_count": 2,
      "outputs": [
        {
          "output_type": "stream",
          "name": "stdout",
          "text": [
            "Collecting wget\n",
            "  Downloading wget-3.2.zip (10 kB)\n",
            "Building wheels for collected packages: wget\n",
            "  Building wheel for wget (setup.py) ... \u001b[?25l\u001b[?25hdone\n",
            "  Created wheel for wget: filename=wget-3.2-py3-none-any.whl size=9672 sha256=52f0780d173a5de5b5ad7892d01db89fa5fae83a88cd47770dfed0f1b5cf8708\n",
            "  Stored in directory: /root/.cache/pip/wheels/a1/b6/7c/0e63e34eb06634181c63adacca38b79ff8f35c37e3c13e3c02\n",
            "Successfully built wget\n",
            "Installing collected packages: wget\n",
            "Successfully installed wget-3.2\n"
          ]
        }
      ]
    },
    {
      "cell_type": "code",
      "metadata": {
        "id": "hok-BFu9lGoK"
      },
      "source": [
        "import math\n",
        "import os\n",
        "import sys\n",
        "from subprocess import call\n",
        "from nltk import FreqDist\n",
        "from nltk.util import ngrams\n",
        "from nltk.stem.porter import PorterStemmer\n",
        "import sklearn as sk\n",
        "#from google.colab import drive #uncomment the import if running in colab\n",
        "import pickle\n",
        "import json\n",
        "from collections import Counter\n",
        "import requests\n",
        "import matplotlib.pyplot as plt\n",
        "import numpy as np\n",
        "import wget  #comment this import if running in colab\n",
        "from tqdm import tqdm\n",
        "import time\n",
        "import pandas as pd\n",
        "import scipy"
      ],
      "execution_count": 3,
      "outputs": []
    },
    {
      "cell_type": "markdown",
      "metadata": {
        "id": "bXWyGHwE-ieQ"
      },
      "source": [
        "## Loading the data\n",
        "\n",
        "**Download the sentiment lexicon and the movie reviews dataset.**"
      ]
    },
    {
      "cell_type": "code",
      "metadata": {
        "colab": {
          "base_uri": "https://localhost:8080/",
          "height": 35
        },
        "id": "lm-rakqtlMOT",
        "scrolled": true,
        "outputId": "48cacd3b-fb8e-4a15-9f87-587a07afd446"
      },
      "source": [
        "'''\n",
        "NOTE:\n",
        "    1. If the notebook is run locally this cell is required to be run only once- \n",
        "    (generally the first time the notebook is run) because the datasets are downloaded locally. \n",
        "    2. Uncomment the !wget and comment the wget.download if running in colab. \n",
        "'''\n",
        "# download sentiment lexicon\n",
        "#!wget https://gist.githubusercontent.com/bastings/d6f99dcb6c82231b94b013031356ba05/raw/f80a0281eba8621b122012c89c8b5e2200b39fd6/sent_lexicon\n",
        "wget.download('https://gist.githubusercontent.com/bastings/d6f99dcb6c82231b94b013031356ba05/raw/f80a0281eba8621b122012c89c8b5e2200b39fd6/sent_lexicon','sent_lexicon')\n",
        "# download review data\n",
        "#!wget https://gist.githubusercontent.com/bastings/d47423301cca214e3930061a5a75e177/raw/5113687382919e22b1f09ce71a8fecd1687a5760/reviews.json\n",
        "wget.download('https://gist.githubusercontent.com/bastings/d47423301cca214e3930061a5a75e177/raw/5113687382919e22b1f09ce71a8fecd1687a5760/reviews.json','reviews.json')"
      ],
      "execution_count": 4,
      "outputs": [
        {
          "output_type": "execute_result",
          "data": {
            "application/vnd.google.colaboratory.intrinsic+json": {
              "type": "string"
            },
            "text/plain": [
              "'reviews.json'"
            ]
          },
          "metadata": {},
          "execution_count": 4
        }
      ]
    },
    {
      "cell_type": "markdown",
      "metadata": {
        "id": "AkPwuHp5LSuQ"
      },
      "source": [
        "**Load the movie reviews.**\n",
        "\n",
        "Each word in a review comes with its part-of-speech tag. For documentation on POS-tags, see https://catalog.ldc.upenn.edu/docs/LDC99T42/tagguid1.pdf.\n"
      ]
    },
    {
      "cell_type": "code",
      "metadata": {
        "colab": {
          "base_uri": "https://localhost:8080/"
        },
        "id": "careEKj-mRpl",
        "scrolled": true,
        "outputId": "9809c743-ff1c-455e-9534-9f3900e7c3ee"
      },
      "source": [
        "# file structure:\n",
        "# [\n",
        "#  {\"cv\": integer, \"sentiment\": str, \"content\": list} \n",
        "#  {\"cv\": integer, \"sentiment\": str, \"content\": list} \n",
        "#   ..\n",
        "# ]\n",
        "# where `content` is a list of sentences, \n",
        "# with a sentence being a list of (token, pos_tag) pairs.\n",
        "\n",
        "with open(\"reviews.json\", mode=\"r\", encoding=\"utf-8\") as f:\n",
        "    reviews = json.load(f)\n",
        "\n",
        "print(\"Total number of reviews:\", len(reviews), '\\n')\n",
        "\n",
        "def print_sentence_with_pos(s): \n",
        "    print(\" \".join(\"%s/%s\" % (token, pos_tag) for token, pos_tag in s))\n",
        "\n",
        "for i, r in enumerate(reviews):\n",
        "    print(r[\"cv\"], r[\"sentiment\"], len(r[\"content\"]))  # cv, sentiment, num sents \n",
        "    print_sentence_with_pos(r[\"content\"][0]) \n",
        "    if i == 4: \n",
        "        break\n",
        "    \n",
        "c = Counter()\n",
        "for review in reviews: \n",
        "    for sentence in review[\"content\"]: \n",
        "        for token, pos_tag in sentence:\n",
        "            c[token.lower()] += 1\n",
        "\n",
        "print(\"\\nNumber of word types:\", len(c))\n",
        "print(\"Number of word tokens:\", sum(c.values()))\n",
        "\n",
        "print(\"\\nMost common tokens:\")\n",
        "for token, count in c.most_common(20): \n",
        "    print(\"%10s : %8d\" % (token, count))"
      ],
      "execution_count": 5,
      "outputs": [
        {
          "output_type": "stream",
          "name": "stdout",
          "text": [
            "Total number of reviews: 2000 \n",
            "\n",
            "0 NEG 29\n",
            "Two/CD teen/JJ couples/NNS go/VBP to/TO a/DT church/NN party/NN ,/, drink/NN and/CC then/RB drive/NN ./.\n",
            "1 NEG 11\n",
            "Damn/JJ that/IN Y2K/CD bug/NN ./.\n",
            "2 NEG 24\n",
            "It/PRP is/VBZ movies/NNS like/IN these/DT that/WDT make/VBP a/DT jaded/JJ movie/NN viewer/NN thankful/JJ for/IN the/DT invention/NN of/IN the/DT Timex/NNP IndiGlo/NNP watch/NN ./.\n",
            "3 NEG 19\n",
            "QUEST/NN FOR/IN CAMELOT/NNP ``/`` Quest/NNP for/IN Camelot/NNP ''/'' is/VBZ Warner/NNP Bros./NNP '/POS first/JJ feature-length/JJ ,/, fully-animated/JJ attempt/NN to/TO steal/VB clout/NN from/IN Disney/NNP 's/POS cartoon/NN empire/NN ,/, but/CC the/DT mouse/NN has/VBZ no/DT reason/NN to/TO be/VB worried/VBN ./.\n",
            "4 NEG 38\n",
            "Synopsis/NNPS :/: A/DT mentally/RB unstable/JJ man/NN undergoing/VBG psychotherapy/NN saves/VBZ a/DT boy/NN from/IN a/DT potentially/RB fatal/JJ accident/NN and/CC then/RB falls/VBZ in/IN love/NN with/IN the/DT boy/NN 's/POS mother/NN ,/, a/DT fledgling/NN restauranteur/NN ./.\n",
            "\n",
            "Number of word types: 47743\n",
            "Number of word tokens: 1512359\n",
            "\n",
            "Most common tokens:\n",
            "         , :    77842\n",
            "       the :    75948\n",
            "         . :    59027\n",
            "         a :    37583\n",
            "       and :    35235\n",
            "        of :    33864\n",
            "        to :    31601\n",
            "        is :    25972\n",
            "        in :    21563\n",
            "        's :    18043\n",
            "        it :    15904\n",
            "      that :    15820\n",
            "     -rrb- :    11768\n",
            "     -lrb- :    11670\n",
            "        as :    11312\n",
            "      with :    10739\n",
            "       for :     9816\n",
            "       his :     9542\n",
            "      this :     9497\n",
            "      film :     9404\n"
          ]
        }
      ]
    },
    {
      "cell_type": "markdown",
      "metadata": {
        "id": "E6PWaEoh8B34"
      },
      "source": [
        "# Lexicon-based approach (3.5pts)\n",
        "\n"
      ]
    },
    {
      "cell_type": "markdown",
      "metadata": {
        "id": "JsTSMb6ma4E8"
      },
      "source": [
        "A traditional approach to classify documents according to their sentiment is the lexicon-based approach. To implement this approach, you need a **sentiment lexicon**, i.e., a list of words annotated with a sentiment label (e.g., positive and negative, or a score from 0 to 5).\n",
        "\n",
        "In this practical, you will use the sentiment\n",
        "lexicon released by Wilson et al. (2005).\n",
        "\n",
        "> Theresa Wilson, Janyce Wiebe, and Paul Hoffmann\n",
        "(2005). [Recognizing Contextual Polarity in Phrase-Level Sentiment\n",
        "Analysis](http://www.aclweb.org/anthology/H/H05/H05-1044.pdf). HLT-EMNLP.\n",
        "\n",
        "Pay attention to all the information available in the sentiment lexicon. The field *word1* contains the lemma, *priorpolarity* contains the sentiment label (positive, negative, both, or neutral), *type* gives you the magnitude of the word's sentiment (strong or weak), and *pos1* gives you the part-of-speech tag of the lemma. Some lemmas can have multiple part-of-speech tags and thus multiple entries in the lexicon. The path of the lexicon file is `\"sent_lexicon\"`.\n"
      ]
    },
    {
      "cell_type": "code",
      "metadata": {
        "colab": {
          "base_uri": "https://localhost:8080/"
        },
        "id": "Ogq0Eq2hQglh",
        "outputId": "9b40cbf7-5acb-458e-8c0b-86ba84e9e4ec"
      },
      "source": [
        "with open(\"sent_lexicon\", mode=\"r\", encoding=\"utf-8\") as f:\n",
        "    line_cnt = 0 \n",
        "    for line in f:\n",
        "        print(line.strip()) \n",
        "        line_cnt += 1\n",
        "        if line_cnt > 4:\n",
        "            break"
      ],
      "execution_count": 17,
      "outputs": [
        {
          "output_type": "stream",
          "name": "stdout",
          "text": [
            "type=weaksubj len=1 word1=abandoned pos1=adj stemmed1=n priorpolarity=negative\n",
            "type=weaksubj len=1 word1=abandonment pos1=noun stemmed1=n priorpolarity=negative\n",
            "type=weaksubj len=1 word1=abandon pos1=verb stemmed1=y priorpolarity=negative\n",
            "type=strongsubj len=1 word1=abase pos1=verb stemmed1=y priorpolarity=negative\n",
            "type=strongsubj len=1 word1=abasement pos1=anypos stemmed1=y priorpolarity=negative\n"
          ]
        }
      ]
    },
    {
      "cell_type": "markdown",
      "metadata": {
        "id": "dPUwK4MmlwDx"
      },
      "source": [
        ""
      ]
    },
    {
      "cell_type": "markdown",
      "metadata": {
        "id": "Mml4nOtIUBhn"
      },
      "source": [
        "Lexica such as this can be used to solve\n",
        "the classification task without using Machine Learning. For example, one might look up every word $w_1 ... w_n$ in a document, and compute a **binary score**\n",
        "$S_{binary}$ by counting how many words have a positive or a\n",
        "negative label in the sentiment lexicon $SLex$.\n",
        "\n",
        "$$S_{binary}(w_1 w_2 ... w_n) = \\sum_{i = 1}^{n}\\text{sign}(SLex\\big[w_i\\big])$$\n",
        "\n",
        "where $\\text{sign}(SLex\\big[w_i\\big])$ refers to the polarity of $w_i$.\n",
        "\n",
        "**Threshold.** On average, there are more positive than negative words per review (~7.13 more positive than negative per review) to take this bias into account you should use a threshold of **8** (roughly the bias itself) to make it harder to classify as positive.\n",
        "\n",
        "$$\n",
        "\\text{classify}(S_{binary}(w_1 w_2 ... w_n)) = \\bigg\\{\\begin{array}{ll}\n",
        "        \\text{positive} & \\text{if } S_{binary}(w_1w_2...w_n) > threshold\\\\\n",
        "        \\text{negative} & \\text{otherwise}\n",
        "        \\end{array}\n",
        "$$\n"
      ]
    },
    {
      "cell_type": "markdown",
      "metadata": {
        "id": "tOFnMvbeeZrc"
      },
      "source": [
        "#### (Q1.1) Implement this approach and report its classification accuracy. (1 pt)"
      ]
    },
    {
      "cell_type": "code",
      "metadata": {
        "id": "ED2aTEYutW1-"
      },
      "source": [
        "# YOUR CODE HERE\n",
        "\n",
        "'''We first format the Lexicon as a dictionary which makes data retrival efficient and fast'''\n",
        "\n",
        "lexicon = {}\n",
        "with open(\"sent_lexicon\", mode=\"r\", encoding=\"utf-8\") as f:\n",
        "    for line in f:\n",
        "        key = line.split('word1=',maxsplit=1)[1].split(maxsplit=1)[0]\n",
        "        senti = line.split('priorpolarity=',maxsplit=1)[1].rstrip('\\n')\n",
        "        senti_mag = line.split('type=',maxsplit=1)[1].split()[0]\n",
        "        lexicon[key] = [senti, senti_mag]\n",
        "\n",
        "'''\n",
        "Now we create Lexicon based classifier. To use the classifier:\n",
        "    1. Instantiate the class Lex_Approach with arguments:\n",
        "        1. document: reviews\n",
        "        2. sentiment lexicon: the lexicon\n",
        "        3. multiplier: assigns weight based on magnitude informattion. Default value is 1\n",
        "        4. use_better_threshold: a boolean value indicating whether to use threshod based on document length. Defalut in False\n",
        "    2. Then call the method classify(), which returns the accuracy of the classifier.\n",
        "\n",
        "Eg: suppose we want a classifier with multiplier 2 (strong sentiments are weighted 2x more than weak).Then do\n",
        "lex_classifier = Lex_Approach(reviews, lexicon, 2, False)\n",
        "accuracy = lex_classifier.classify()\n",
        "\n",
        "Helper functions: \n",
        "    1. plotter(): Helps to visualize how accuracy varies with multiplier and using a better threshold       \n",
        "'''\n",
        "class Lex_Approach:\n",
        "\n",
        "    def __init__(self, document, sentiment_lexicon, multiplier=1, use_better_threshold=False):\n",
        "        self.document = document\n",
        "        self.lexicon = sentiment_lexicon\n",
        "        self.multiplier = multiplier\n",
        "        self.threshold = 8\n",
        "        self.use_better_threshold = use_better_threshold\n",
        "        self.results, self.score_list, self.doc_length = [], [], 0\n",
        "        \n",
        "        \n",
        "    def compute_threshold(self):\n",
        "        review_list = []\n",
        "        scale_factor = 1\n",
        "        for review in self.document:\n",
        "            review_length = 0\n",
        "            senti_counter = Counter()\n",
        "            for sentence in review['content']:\n",
        "                self.doc_length += len(sentence)\n",
        "                review_length += len(sentence)\n",
        "                for token, pos_tag in sentence:\n",
        "                    if self.lexicon.get(token.lower()) == None:\n",
        "                        pass\n",
        "                    else:\n",
        "                        if self.lexicon[token.lower()][1] == 'strongsubj':\n",
        "                            senti_counter[self.lexicon[token.lower()][0]] += self.multiplier  \n",
        "                        else:\n",
        "                            senti_counter[self.lexicon[token.lower()][0]] += 1 \n",
        "                    \n",
        "            self.score_list.append(senti_counter['positive']-senti_counter['negative'])\n",
        "            \n",
        "            if self.use_better_threshold:\n",
        "                scale_factor = review_length #when using the better threshold scale factor is review length\n",
        "                \n",
        "            review_list.append([senti_counter, scale_factor])  \n",
        "                \n",
        "        if self.use_better_threshold:\n",
        "            self.threshold = np.sum(self.score_list)/self.doc_length\n",
        "        else:\n",
        "            if self.multiplier==1:   \n",
        "                pass\n",
        "            else:\n",
        "                self.threshold = np.mean(self.score_list) \n",
        "            \n",
        "        return review_list\n",
        "    \n",
        "    \n",
        "    def classify(self):\n",
        "        review_list = self.compute_threshold()\n",
        "        \n",
        "        for idx, i in enumerate(review_list):\n",
        "            if (i[0]['positive'] - (i[1]*self.threshold)) > i[0]['negative']:  \n",
        "                classify = 'POS'\n",
        "            else:\n",
        "                classify = 'NEG'\n",
        "\n",
        "            if classify==self.document[idx]['sentiment']:\n",
        "                self.results.append(1)\n",
        "            else:\n",
        "                self.results.append(0)\n",
        "                \n",
        "        return np.mean(self.results)  \n",
        "    \n",
        "    @staticmethod\n",
        "    def plotter(doc, lex, better_thres,max_multiplier=5):\n",
        "        \n",
        "        assert better_thres in [True,False], 'Can only take boolean values: True or False'\n",
        "        if better_thres: title_string = ' using a better threshold'\n",
        "        else: title_string = ''\n",
        "            \n",
        "        multiplier_list = np.linspace(0,max_multiplier)\n",
        "        accuracy_list = []\n",
        "        for i in tqdm(multiplier_list):\n",
        "            lex_classifier = Lex_Approach(document=doc, sentiment_lexicon=lex, multiplier=i,use_better_threshold=better_thres)\n",
        "            accuracy = lex_classifier.classify()\n",
        "            accuracy_list.append(accuracy)\n",
        "            \n",
        "        max_idx = np.argmax(accuracy_list)\n",
        "        x_max, y_max = multiplier_list[max_idx],accuracy_list[max_idx]\n",
        "        fig, ax = plt.subplots(dpi=150)\n",
        "        ax.set_title('Lexicon based classifier accuracy'+ title_string)\n",
        "        ax.plot(multiplier_list, accuracy_list,label='accuracy')\n",
        "        ax.set_xlim(0,max_multiplier)\n",
        "        ax.set_ylim(0.5,y_max+0.1)\n",
        "\n",
        "        ax.annotate('max accuracy',xy=(x_max,y_max),xytext=(x_max+0.5, y_max-0.05),arrowprops=dict(arrowstyle='-|>'))\n",
        "        x_ticks = np.append(ax.get_xticks(), float('{:.2f}'.format(x_max)))\n",
        "        y_ticks = np.append(ax.get_yticks(), float('{:.3f}'.format(y_max)))\n",
        "\n",
        "        ax.set_xticks(x_ticks)\n",
        "        ax.set_yticks(y_ticks)\n",
        "        x_labels = ax.get_xticklabels()\n",
        "        y_labels = ax.get_yticklabels()\n",
        "\n",
        "        x_labels[-1].set_fontsize(6)\n",
        "        x_labels[-1].set_weight(\"bold\")\n",
        "        x_labels[-1].set_rotation(90)\n",
        "\n",
        "        y_labels[-1].set_fontsize(6)\n",
        "        y_labels[-1].set_weight(\"bold\")\n",
        "        y_labels[-1].set_rotation(45)\n",
        "\n",
        "        ax.hlines(y_max,0,x_max,'r',lw=0.5,ls='--')\n",
        "        ax.vlines(x_max,0,y_max,'r',lw=0.5,ls='--')\n",
        "        ax.set_ylabel('accuracy')\n",
        "        ax.set_xlabel('multiplier')\n",
        "        ax.tick_params(axis='both', which='major', labelsize=7)\n",
        "        plt.grid(alpha=0.5)\n",
        "        plt.tight_layout()\n",
        "        plt.legend()\n",
        "        plt.show()"
      ],
      "execution_count": 7,
      "outputs": []
    },
    {
      "cell_type": "code",
      "metadata": {
        "colab": {
          "base_uri": "https://localhost:8080/"
        },
        "id": "iy528EUTphz5",
        "outputId": "a432efd6-23a8-4775-fec5-afddf5ee6d59"
      },
      "source": [
        "# token_results should be a list of binary indicators; for example [1, 0, 1, ...] \n",
        "# where 1 indicates a correct classification and 0 an incorrect classification.\n",
        "lex_classifier = Lex_Approach(document=reviews, sentiment_lexicon=lexicon, multiplier=1, use_better_threshold=False)\n",
        "token_accuracy = lex_classifier.classify()\n",
        "token_results = lex_classifier.results\n",
        "\n",
        "print(\"Accuracy: %0.2f\" % token_accuracy)"
      ],
      "execution_count": 8,
      "outputs": [
        {
          "output_type": "stream",
          "name": "stdout",
          "text": [
            "Accuracy: 0.68\n"
          ]
        }
      ]
    },
    {
      "cell_type": "markdown",
      "metadata": {
        "id": "Twox0s_3eS0V"
      },
      "source": [
        "As the sentiment lexicon also has information about the **magnitude** of\n",
        "sentiment (e.g., *“excellent\"* has the same sentiment _polarity_ as *“good\"* but it has a higher magnitude), we can take a more fine-grained approach by adding up all\n",
        "sentiment scores, and deciding the polarity of the movie review using\n",
        "the sign of the weighted score $S_{weighted}$.\n",
        "\n",
        "$$S_{weighted}(w_1w_2...w_n) = \\sum_{i = 1}^{n}SLex\\big[w_i\\big]$$\n",
        "\n",
        "\n",
        "Make sure you define an appropriate threshold for this approach.\n",
        "\n",
        "#### (Q1.2) Now incorporate magnitude information and report the classification accuracy. Don't forget to use the threshold. (1pt)"
      ]
    },
    {
      "cell_type": "code",
      "metadata": {
        "colab": {
          "base_uri": "https://localhost:8080/",
          "height": 619
        },
        "id": "qG3hUDnPtkhS",
        "outputId": "81d889d1-6591-4695-8f7e-019441d7fa44"
      },
      "source": [
        "# YOUR CODE HERE\n",
        "\n",
        "#lets 1st visualise how accuracy varies with multiplier\n",
        "Lex_Approach.plotter(doc=reviews, lex=lexicon, better_thres=False, max_multiplier=5)"
      ],
      "execution_count": 9,
      "outputs": [
        {
          "output_type": "stream",
          "name": "stderr",
          "text": [
            "100%|██████████| 50/50 [00:38<00:00,  1.29it/s]\n"
          ]
        },
        {
          "output_type": "display_data",
          "data": {
            "image/png": "[encoded data removed]",
            "text/plain": [
              "<Figure size 900x600 with 1 Axes>"
            ]
          },
          "metadata": {
            "needs_background": "light"
          }
        }
      ]
    },
    {
      "cell_type": "code",
      "metadata": {
        "colab": {
          "base_uri": "https://localhost:8080/"
        },
        "id": "9vVk7CvDpyka",
        "outputId": "fe99d177-703f-4e09-afc2-35fa1ca2f0c9"
      },
      "source": [
        "#now use the multiplier that gives maximum accuracy\n",
        "lex_classifier_with_mag = Lex_Approach(document=reviews, sentiment_lexicon=lexicon, multiplier=2.86, use_better_threshold=False)\n",
        "magnitude_accuracy = lex_classifier_with_mag.classify()\n",
        "magnitude_results = lex_classifier_with_mag.results # a list of binary indicators\n",
        "\n",
        "print(\"Accuracy: %0.2f\" % magnitude_accuracy)"
      ],
      "execution_count": 10,
      "outputs": [
        {
          "output_type": "stream",
          "name": "stdout",
          "text": [
            "Accuracy: 0.70\n"
          ]
        }
      ]
    },
    {
      "cell_type": "markdown",
      "metadata": {
        "id": "h9SHoGPfsAHV"
      },
      "source": [
        "#### (Q.1.4) Make a barplot of the two results (0.5pt)"
      ]
    },
    {
      "cell_type": "code",
      "metadata": {
        "id": "8LgBcYcXsEk3",
        "colab": {
          "base_uri": "https://localhost:8080/",
          "height": 404
        },
        "outputId": "42619d75-96ec-4b13-8a8f-308bbf48d79e"
      },
      "source": [
        "# YOUR CODE HERE\n",
        "plt.figure(dpi=100)\n",
        "height = [token_accuracy, magnitude_accuracy]\n",
        "bars = ('without magnitude', 'with magnitude')\n",
        "x_pos = np.arange(len(bars))\n",
        " \n",
        "plt.bar(x_pos, height)\n",
        " \n",
        "# Add title and axis names\n",
        "plt.title('Lexicon based classifer accuracy')\n",
        "plt.xlabel('Categories')\n",
        "plt.ylabel('Accuracy')\n",
        " \n",
        "plt.xticks(x_pos, bars)\n",
        "plt.grid(alpha=0.5)\n",
        "plt.show()"
      ],
      "execution_count": 11,
      "outputs": [
        {
          "output_type": "display_data",
          "data": {
            "image/png": "[encoded data removed]",
            "text/plain": [
              "<Figure size 600x400 with 1 Axes>"
            ]
          },
          "metadata": {
            "needs_background": "light"
          }
        }
      ]
    },
    {
      "cell_type": "markdown",
      "metadata": {
        "id": "sNhS8OCVxMHd"
      },
      "source": [
        "#### (Q1.3) A better threshold (1pt)\n",
        "Above we have defined a threshold to account for an inherent bias in the dataset: there are more positive than negative words per review.\n",
        "However, that threshold does not take into account *document length*. Explain why this is a problem and implement an alternative way to compute the threshold."
      ]
    },
    {
      "cell_type": "markdown",
      "metadata": {
        "id": "mC6TGKF8ZNzg"
      },
      "source": [
        "**Answer**  \n",
        "\n",
        "The thresholds we used above is based on an averaged absolute difference in positive and negative words. However this won't be fair for short documents which are likely to have less positive words than longer documents. In other words, we can't be sure if more number of positive words is actually due to document length or sentiment class.  For instance, if we assume that positive words occur at 1.05 times as often as negative words, i.e $5\\%$ more, then very long documents will easily pass the threshold, even if their overall sentiment is negative.\n",
        "\n",
        "We can avoid this by computing the average score for each word over the whole document and requiring that each review has an individual threshold which we compute as the average score times the length of each review, given as:\n",
        "$$\\begin{align}\n",
        "\\text{threshold for review}_i &= \\text{average score for all words}\\times\\text{length of}\\text{ review}_i\\\\\n",
        "                   &= \\frac{\\sum_{i=1}^{N}\\text{score of }\\text{review}_i}{\\sum_{i=1}^{N}\\text{length of }\\text{review}_i}\\times\\text{length of}\\text{ review}_i,\\quad \\forall \\,i \\in \\{1,2\\dots N\\}\n",
        "\\end{align}$$"
      ]
    },
    {
      "cell_type": "code",
      "metadata": {
        "colab": {
          "base_uri": "https://localhost:8080/",
          "height": 619
        },
        "id": "Dwt0B8h8aKjr",
        "outputId": "290b26d6-3279-4e35-88a3-51d2421c7f99"
      },
      "source": [
        "# YOUR CODE HERE\n",
        "#lets see how accuracy changes by using the better threshold \n",
        "Lex_Approach.plotter(doc=reviews, lex=lexicon, better_thres=True, max_multiplier=5)"
      ],
      "execution_count": 12,
      "outputs": [
        {
          "output_type": "stream",
          "name": "stderr",
          "text": [
            "100%|██████████| 50/50 [00:38<00:00,  1.28it/s]\n"
          ]
        },
        {
          "output_type": "display_data",
          "data": {
            "image/png": "[encoded data removed]",
            "text/plain": [
              "<Figure size 900x600 with 1 Axes>"
            ]
          },
          "metadata": {
            "needs_background": "light"
          }
        }
      ]
    },
    {
      "cell_type": "code",
      "metadata": {
        "id": "uL8BQ65bZNzg",
        "outputId": "d9de7f54-d9d5-4aa7-cb84-2484a95a54dd"
      },
      "source": [
        "#using the multiplier that maximizes accuracy\n",
        "lex_better_thresh = Lex_Approach(document=reviews, sentiment_lexicon=lexicon, multiplier=2.55, use_better_threshold=True)\n",
        "better_accuracy = lex_better_thresh.classify()\n",
        "print(\"Accuracy: %0.2f\" % better_accuracy)"
      ],
      "execution_count": null,
      "outputs": [
        {
          "name": "stdout",
          "output_type": "stream",
          "text": [
            "Accuracy: 0.70\n"
          ]
        }
      ]
    },
    {
      "cell_type": "markdown",
      "metadata": {
        "id": "LibV4nR89BXb"
      },
      "source": [
        "# Naive Bayes (9.5pts)"
      ]
    },
    {
      "cell_type": "markdown",
      "metadata": {
        "id": "fnF9adQnuwia"
      },
      "source": [
        "\n",
        "Your second task is to program a simple Machine Learning approach that operates\n",
        "on a simple Bag-of-Words (BoW) representation of the text data, as\n",
        "described by Pang et al. (2002). In this approach, the only features we\n",
        "will consider are the words in the text themselves, without bringing in\n",
        "external sources of information. The BoW model is a popular way of\n",
        "representing texts as vectors, making it\n",
        "easy to apply classical Machine Learning algorithms on NLP tasks.\n",
        "However, the BoW representation is also very crude, since it discards\n",
        "all information related to word order and grammatical structure in the\n",
        "original text—as the name suggests.\n",
        "\n",
        "## Writing your own classifier (4pts)\n",
        "\n",
        "Write your own code to implement the Naive Bayes (NB) classifier. As\n",
        "a reminder, the Naive Bayes classifier works according to the following\n",
        "equation:\n",
        "$$\\hat{c} = \\operatorname*{arg\\,max}_{c \\in C} P(c|\\bar{f}) = \\operatorname*{arg\\,max}_{c \\in C} P(c)\\prod^n_{i=1} P(f_i|c)$$\n",
        "where $C = \\{ \\text{POS}, \\text{NEG} \\}$ is the set of possible classes,\n",
        "$\\hat{c} \\in C$ is the most probable class, and $\\bar{f}$ is the feature\n",
        "vector. Remember that we use the log of these probabilities when making\n",
        "a prediction:\n",
        "$$\\hat{c} = \\operatorname*{arg\\,max}_{c \\in C} \\Big\\{\\log P(c) + \\sum^n_{i=1} \\log P(f_i|c)\\Big\\}$$\n",
        "\n",
        "You can find more details about Naive Bayes in [Jurafsky &\n",
        "Martin](https://web.stanford.edu/~jurafsky/slp3/). You can also look at\n",
        "this helpful\n",
        "[pseudo-code](https://nlp.stanford.edu/IR-book/html/htmledition/naive-bayes-text-classification-1.html).\n",
        "\n",
        "*Note: this section and the next aim to put you in a position to replicate\n",
        "    Pang et al.'s Naive Bayes results. However, your numerical results\n",
        "    will differ from theirs, as they used different data.*\n",
        "\n",
        "**You must write the Naive Bayes training and prediction code from\n",
        "scratch.** You will not be given credit for using off-the-shelf Machine\n",
        "Learning libraries.\n",
        "\n",
        "The data contains the text of the reviews, where each document consists\n",
        "of the sentences in the review, the sentiment of the review and an index\n",
        "(cv) that you will later use for cross-validation. The\n",
        "text has already been tokenised and POS-tagged for you. Your algorithm\n",
        "should read in the text, **lowercase it**, store the words and their\n",
        "frequencies in an appropriate data structure that allows for easy\n",
        "computation of the probabilities used in the Naive Bayes algorithm, and\n",
        "then make predictions for new instances.\n"
      ]
    },
    {
      "cell_type": "markdown",
      "metadata": {
        "id": "vEpyQSBSkb33"
      },
      "source": [
        "#### (Q2.1) Unseen words (1pt)\n",
        "The presence of words in the test dataset that\n",
        "have not been seen during training can cause probabilities in the Naive Bayes classifier to equal $0$.\n",
        "These can be words which are unseen in both positive and negative training reviews (case 1), but also words which are seen in reviews _of only one sentiment class_ in the training dataset (case 2). In both cases, **you should skip these words for both classes**.  What would be the problem instead with skipping words only for one class in case 2? "
      ]
    },
    {
      "cell_type": "markdown",
      "metadata": {
        "id": "BanFiYYnoxDW"
      },
      "source": [
        "**Answer**  \n",
        "\n",
        "Skipping a word means assigning it a probability 1, i.e $P(f_i|c) = 1$. If we skip a word for the class for which it did not occur in training but include it for the other one, this would increase the likelihood of the class for which the word did not occur. This is would clearly bias our classification results."
      ]
    },
    {
      "cell_type": "markdown",
      "metadata": {
        "id": "gsZRhaI3WvzC"
      },
      "source": [
        "#### (Q2.2) Train your classifier on (positive and negative) reviews with cv-value 000-899, and test it on the remaining (positive and negative) reviews cv900–cv999.  Report results using classification accuracy as your evaluation metric. Your  features are the word vocabulary. The value of a feature is the count of that feature (word) in the document. (2pts)\n"
      ]
    },
    {
      "cell_type": "code",
      "metadata": {
        "id": "G7zaJYGFvIJ3"
      },
      "source": [
        "# YOUR CODE HERE\n",
        "'''\n",
        "We create two Classes:\n",
        "    1. BAG_OF_WORDS: this builds our bag of words with different stratergies. See the init function to see the parameters\n",
        "                     this class accepts. This class will be used both by Naive Bayes and SVM classifier.\n",
        "    2. Naive_Bayes: this is our Naive Bayes classifier with different stratergies. See the init function for parameters.\n",
        "    \n",
        "Note: Since we use inheritance, the parameters for BAG_OF_WORDS can be used across both Naive_Bayes and SVM classes.      \n",
        "'''\n",
        "\n",
        "class BAG_OF_WORDS:\n",
        "    def __init__(self, stemmer=None, use_ngrams=False):\n",
        "        assert use_ngrams in [True,False], 'use_ngrams can only take True or False'\n",
        "        self.use_ngrams = use_ngrams\n",
        "        self.stemmer = stemmer\n",
        "        self.SVM_flag = False\n",
        "        self.train_df = None\n",
        "        self.Ng = 1\n",
        "        if self.use_ngrams: \n",
        "            self.Ng = int(input(\"Enter max number of grams you want to use as features: \")) \n",
        "            assert (type(self.Ng)==int and self.Ng>=2), 'Number of grams should be an integer >= 2!'\n",
        "        \n",
        "    def create_bow(self, document, is_train=True, use_pos=False, discard_cc=False):\n",
        "        BOW = {'POS':Counter(), 'NEG':Counter()}\n",
        "        stemmed_dict = {}\n",
        "        sentiment_encoder = {'POS':1,'NEG':0} #used for encoding when using SVM\n",
        "        \n",
        "        OPEN_CLASS = ['JJ', 'JJR', 'JJS', 'NN', 'NNS', 'NNP', 'NNPS', 'RB', 'RBR','RBS','MD','VB','VBD','VBG'\n",
        "                      'VBN','VBP','VBZ'] \n",
        "        if self.SVM_flag:\n",
        "            feature_list = [] \n",
        "            label_list = []\n",
        "            \n",
        "        for review in document:\n",
        "            temp_counter = Counter()  #use temporary counter for SVM\n",
        "            senti = review['sentiment']\n",
        "            if self.SVM_flag:\n",
        "                for sentence in review['content']:\n",
        "                    for token, pos_tag in sentence:\n",
        "                        if discard_cc:\n",
        "                            if pos_tag not in OPEN_CLASS:\n",
        "                                continue #skip closed class words \n",
        "                        if use_pos: word = token.lower()+ '/'+ pos_tag.lower()\n",
        "                        else: word = token.lower()\n",
        "                        temp_counter[word] += 1\n",
        "                        \n",
        "                feature_list.append(dict(temp_counter))\n",
        "                label_list.append(sentiment_encoder[senti]) #encode the categorical labels 'NEG' and 'POS'\n",
        "                \n",
        "            else:\n",
        "                for sentence in review['content']:\n",
        "                    if self.Ng!=1:     \n",
        "                        grams = [item for sublist in [list(ngrams([w.lower() for w, _ in sentence], n = k))\n",
        "                                                      for k in range(2,self.Ng+1)] for item in sublist]\n",
        "                        for g in grams:\n",
        "                            BOW[senti][g] += 1\n",
        "\n",
        "                    for token,pos_tag in sentence:\n",
        "                        word = token.lower()\n",
        "                        if self.stemmer!=None:\n",
        "                            if word not in stemmed_dict:\n",
        "                                stem = self.stemmer.stem(word)\n",
        "                                stemmed_dict[word] = stem    \n",
        "                            word = stemmed_dict[word]                  \n",
        "                    \n",
        "                        BOW[senti][word] += 1\n",
        "        \n",
        "        if self.SVM_flag:\n",
        "            if is_train:\n",
        "                self.train_df = pd.DataFrame(feature_list)\n",
        "                self.train_df.fillna(0,inplace=True) #replace all NaNs with 0\n",
        "                features_mat = scipy.sparse.csr_matrix(self.train_df.values) #convert to a sparse matrix for efficient computations\n",
        "                return features_mat, np.array(label_list) #returns features and labels\n",
        "            else:\n",
        "                assert len(self.train_df!=None), 'First create bag of words with a Train corpus!'\n",
        "                index_dict = {key:idx for idx,key in enumerate(self.train_df.columns)} #contains all the word in train corpus\n",
        "                rows, cols = len(label_list), len(self.train_df.columns)\n",
        "                feature_array = np.zeros((rows, cols))\n",
        "                for idx, word_dict in enumerate(feature_list):\n",
        "                    for word in word_dict: #filter unseen words\n",
        "                        if word in index_dict:\n",
        "                            feature_array[idx, index_dict[word]] = word_dict[word]\n",
        "                        \n",
        "                features_mat = scipy.sparse.csr_matrix(feature_array)\n",
        "                return features_mat, np.array(label_list)\n",
        "    \n",
        "        else:\n",
        "            return BOW, len(BOW['POS']+BOW['NEG'])    #returns the BoW and the size of vocabulary\n",
        "                \n",
        "\n",
        "class Naive_Bayes(BAG_OF_WORDS):\n",
        "    def __init__(self, train, test, stemmer=None, use_ngrams=False, smoothing=0):\n",
        "        super().__init__(stemmer,use_ngrams)\n",
        "        assert (smoothing>=0), 'Smoothing takes positive values only!'\n",
        "        self.train = train\n",
        "        self.test = test\n",
        "        self.smoothing = smoothing\n",
        "        self.results = []\n",
        "        self.V = 0\n",
        "        self.confusion_mat = np.zeros((2,2))\n",
        "                    \n",
        "    def classify(self):\n",
        "        \n",
        "        #create a bag of words\n",
        "        BOW, self.V = self.create_bow(self.train)\n",
        "        #calculate the prior probablities\n",
        "        N_doc = len(self.train)\n",
        "        N_pos = sum([1 for x in self.train if x['sentiment']=='POS'])\n",
        "        prior_pos = N_pos/N_doc\n",
        "        prior_neg = 1- prior_pos\n",
        "        total_pos = sum(BOW['POS'].values()) \n",
        "        total_neg = sum(BOW['NEG'].values()) \n",
        "        \n",
        "        for review in self.test:\n",
        "            pos_log_likelihood, neg_log_likelihood = np.log10(prior_pos), np.log10(prior_neg)\n",
        "            if self.stemmer!=None:\n",
        "                feature_list = [self.stemmer.stem(token.lower()) for sentence in review['content'] \n",
        "                                for token, pos_tag in sentence]\n",
        "            else:\n",
        "                feature_list = [token.lower() for sentence in review['content'] for token, pos_tag in sentence]\n",
        "                \n",
        "            if self.use_ngrams:\n",
        "                for sentence in review['content']:\n",
        "                    test_grams = [item for sublist in [list(ngrams([w.lower() for w, _ in sentence], n = k))\n",
        "                                                       for k in range(2,self.Ng+1)] for item in sublist]\n",
        "                    feature_list += test_grams\n",
        "                    \n",
        "            for feat in feature_list:\n",
        "                if self.smoothing==0:\n",
        "                    if BOW['POS'].get(feat) != None and BOW['NEG'].get(feat) != None:\n",
        "                        pos_log_likelihood += np.log10(BOW['POS'][feat]/total_pos)\n",
        "                        neg_log_likelihood += np.log10(BOW['NEG'][feat]/total_neg)\n",
        "                    else: continue \n",
        "                        \n",
        "                else:\n",
        "                    if BOW['POS'].get(feat) == None and BOW['NEG'].get(feat) == None: continue \n",
        "                    else:\n",
        "                        pos_log_likelihood += np.log10((BOW['POS'][feat] + self.smoothing)/(total_pos + (self.smoothing*self.V)))\n",
        "                        neg_log_likelihood += np.log10((BOW['NEG'][feat] + self.smoothing)/(total_neg+ (self.smoothing*self.V)))                     \n",
        "           \n",
        "            if pos_log_likelihood > neg_log_likelihood: classify = 'POS'\n",
        "            else: classify = 'NEG'\n",
        "                \n",
        "            if classify == review['sentiment']: \n",
        "                self.results.append(1)\n",
        "                if classify=='POS': self.confusion_mat[0][0] += 1\n",
        "                else: self.confusion_mat[1][1] += 1    \n",
        "            else: \n",
        "                self.results.append(0) \n",
        "                if classify == 'POS': self.confusion_mat[0][1] += 1\n",
        "                else: self.confusion_mat[1][0] += 1\n",
        "        \n",
        "        return np.mean(self.results)\n",
        "    \n",
        "    @staticmethod\n",
        "    def cross_validate(document, n_folds=10, kappa=0, stem_strat=None, use_svm=False, use_pos=False, \n",
        "                       discard_cc=False, use_ngrams=False):\n",
        "        \n",
        "        all_fold_indxs = [[n for n in range(len(document)) if n % n_folds==i] for i in range(n_folds)]\n",
        "        folds = [[document[idx] for idx in singl_fold_idx] for singl_fold_idx in all_fold_indxs]\n",
        "        accuracy_list = []\n",
        "        if use_ngrams:\n",
        "            N_g = int(input(\"\\nEnter max number of grams you want to use as features: \")) \n",
        "            assert (type(N_g)==int and N_g>=2), 'Number of grams should be an integer >= 2!'\n",
        "\n",
        "        for i in range(n_folds):\n",
        "            test_set = folds[i]\n",
        "            train_set = [rev for j in range(n_folds) if j != i for rev in folds[j]]\n",
        "            if use_svm:\n",
        "                svm_classifier = SVM(train_set, test_set,use_pos=use_pos, discard_cc=discard_cc)\n",
        "                start_time = time.time()\n",
        "                acc, _ = svm_classifier.classify()\n",
        "                execution_time = time.time() -start_time \n",
        "            else: \n",
        "                nb_classifier = Naive_Bayes(train_set, test_set, smoothing=kappa, stemmer=stem_strat)\n",
        "                if use_ngrams: nb_classifier.Ng = N_g #expicitly set the no. of grams to avoid multiple input prompts\n",
        "                start_time = time.time()\n",
        "                acc = nb_classifier.classify()\n",
        "                execution_time = time.time() -start_time \n",
        "            accuracy_list.append(acc)\n",
        "            print('CV[{}/{}]: Accuracy: {}, Time: {:.2f}'.format(i+1, n_folds, acc, execution_time))\n",
        "            \n",
        "        mean = sum(accuracy_list)/n_folds\n",
        "        variance = sum((np.array(accuracy_list)-mean)**2)/(n_folds-1)\n",
        "        \n",
        "        if use_ngrams: return mean, variance, N_g\n",
        "        else: return mean, variance"
      ],
      "execution_count": 13,
      "outputs": []
    },
    {
      "cell_type": "code",
      "metadata": {
        "colab": {
          "base_uri": "https://localhost:8080/"
        },
        "id": "s_avQtGIZNzh",
        "outputId": "d6dc8303-aed5-49fe-eca0-fd4c1e22d0a8"
      },
      "source": [
        "train_corpus = [rev for rev in reviews if rev[\"cv\"] < 900]\n",
        "test_corpus = [rev for rev in reviews if rev[\"cv\"] >= 900]\n",
        "nb_classifier1 = Naive_Bayes(train_corpus,test_corpus)\n",
        "accuracy1 = nb_classifier1.classify()\n",
        "print('Accuracy : {:.3f}'.format(accuracy1))"
      ],
      "execution_count": 14,
      "outputs": [
        {
          "output_type": "stream",
          "name": "stdout",
          "text": [
            "Accuracy : 0.825\n"
          ]
        }
      ]
    },
    {
      "cell_type": "markdown",
      "metadata": {
        "id": "0INK-PBoM6CB"
      },
      "source": [
        "#### (Q2.3) Would you consider accuracy to also be a good way to evaluate your classifier in a situation where 90% of your data instances are of positive movie reviews? (1pt)\n",
        "\n",
        "Simulate this scenario by keeping the positive reviews\n",
        "data unchanged, but only using negative reviews cv000–cv089 for\n",
        "training, and cv900–cv909 for testing. Calculate the classification\n",
        "accuracy, and explain what changed."
      ]
    },
    {
      "cell_type": "markdown",
      "metadata": {
        "id": "oFbcsYlipBAw"
      },
      "source": [
        "**Answer**  \n",
        "\n",
        "We observe below that the classification accuracy now has dropped to $60\\%$. This is because our classifier has been trained on a very imbalanced dataset, with very small number ($90$) of negative class instances. This is insufficient to identify negative reviews in a test set, which again is imbalanced.  \n",
        "The problem becomes evident if we analyse the confusion matrix from our classification results (shown below). We observe that our classifier has correctly labeled $9$ out of $10$ negative reviews correctly (2nd column in confusion matrix), suggesting a very high accuracy of $0.9$. However this would be incorrect because our classifier has also wrongly labeled 43 positive reviews as negative reviews. This shows accuracy as a metric is not suitable in such cases.  \n",
        "Instead we can use **precision**, a metric that emphasizes on things that are rare or not completely balanced in frequency.  It measures the percentage of the items that our model classified (i.e., the classifer labeled as negative) that are in fact negative (i.e., are negative according to the gold labels). Precision is given as: $$\\text{Precision}=\\frac{\\text{True Negatives}}{\\text{True Negatives}+\\text{False Negatives}}=\\frac{9}{9+43}=0.173$$\n",
        " This evaluation is more inline with our experimental results. Finally, Recall and F-Measure are also metrics that may be used in such cases.\n",
        "\n",
        "\n",
        "$Recall = \\frac{TP}{TP + FN} $ ,\n",
        "$ F-Measure= \\frac{(\\beta^2 + 1)PR}{\\beta^2 P + R}$ ,\\\n",
        "with P: Precision , R: Recall and β a tuning parameter."
      ]
    },
    {
      "cell_type": "code",
      "metadata": {
        "id": "GWDkt5ZrrFGp",
        "outputId": "54f182ea-a0bf-4267-a371-b816e96b37e3"
      },
      "source": [
        "# YOUR CODE HERE\n",
        "train_corpus = [rev for rev in reviews if (rev['cv'] <= 89 or (rev['cv']<=899 and rev['sentiment']=='POS'))]\n",
        "test_corpus = [rev for rev in reviews if ((900 <= rev['cv'] <= 909) or (rev['cv']>=900 and rev['sentiment']=='POS'))]\n",
        "nb_classifier2 = Naive_Bayes(train_corpus, test_corpus)\n",
        "accuracy2 = nb_classifier2.classify()\n",
        "print('Classification Accuracy : {:.3f}'.format(accuracy2))\n",
        "print('Confusion matrix \\n', pd.DataFrame(nb_classifier2.confusion_mat, columns=['Gold Positive','Gold Negative']\n",
        "            ,index=['Classifier Positive','Classifier Negative'],dtype=int))"
      ],
      "execution_count": null,
      "outputs": [
        {
          "name": "stdout",
          "output_type": "stream",
          "text": [
            "Classification Accuracy : 0.600\n",
            "Confusion matrix \n",
            "                      Gold Positive  Gold Negative\n",
            "Classifier Positive             57              1\n",
            "Classifier Negative             43              9\n"
          ]
        }
      ]
    },
    {
      "cell_type": "markdown",
      "metadata": {
        "id": "6wJzcHX3WUDm"
      },
      "source": [
        "## Smoothing (1pt)\n",
        "\n",
        "As mentioned above, the presence of words in the test dataset that\n",
        "have not been seen during training can cause probabilities in the Naive\n",
        "Bayes classifier to be $0$, thus making that particular test instance\n",
        "undecidable. The standard way to mitigate this effect (as well as to\n",
        "give more clout to rare words) is to use smoothing, in which the\n",
        "probability fraction\n",
        "$$\\frac{\\text{count}(w_i, c)}{\\sum\\limits_{w\\in V} \\text{count}(w, c)}$$ for a word\n",
        "$w_i$ becomes\n",
        "$$\\frac{\\text{count}(w_i, c) + \\text{smoothing}(w_i)}{\\sum\\limits_{w\\in V} \\text{count}(w, c) + \\sum\\limits_{w \\in V} \\text{smoothing}(w)}$$\n",
        "\n",
        "\n",
        "\n"
      ]
    },
    {
      "cell_type": "markdown",
      "metadata": {
        "id": "PBNIcbwUWphC"
      },
      "source": [
        "#### (Q2.4) Implement Laplace feature smoothing (1pt)\n",
        "Implement Laplace smoothing, i.e., smoothing with a constant value ($smoothing(w) = \\kappa, \\forall w \\in V$), in your Naive\n",
        "Bayes classifier’s code, and report the impact on performance. \n",
        "Use $\\kappa = 1$."
      ]
    },
    {
      "cell_type": "code",
      "metadata": {
        "id": "g03yflCc9kpW",
        "outputId": "45de8b06-a7de-4b2b-e873-641d6a4ceba1"
      },
      "source": [
        "# YOUR CODE HERE\n",
        "kappa = 1\n",
        "\n",
        "train_corpus = [rev for rev in reviews if rev[\"cv\"] < 900]\n",
        "test_corpus = [rev for rev in reviews if rev[\"cv\"] >= 900]\n",
        "nb_classifier_smooth = Naive_Bayes(train_corpus, test_corpus, smoothing=kappa)\n",
        "accuracy_smooth = nb_classifier_smooth.classify()\n",
        "print('Accuracy : {:.3f}'.format(accuracy_smooth))"
      ],
      "execution_count": null,
      "outputs": [
        {
          "name": "stdout",
          "output_type": "stream",
          "text": [
            "Accuracy : 0.825\n"
          ]
        }
      ]
    },
    {
      "cell_type": "markdown",
      "metadata": {
        "id": "ZiGcgwba87D5"
      },
      "source": [
        "## Cross-Validation (1.5pts)\n",
        "\n",
        "A serious danger in using Machine Learning on small datasets, with many\n",
        "iterations of slightly different versions of the algorithms, is ending up with Type III errors, also called the “testing hypotheses\n",
        "suggested by the data” errors. This type of error occurs when we make\n",
        "repeated improvements to our classifiers by playing with features and\n",
        "their processing, but we don’t get a fresh, never-before seen test\n",
        "dataset every time. Thus, we risk developing a classifier that gets better\n",
        "and better on our data, but only gets worse at generalizing to new, unseen data. In other words, we risk developping a classifier that overfits.\n",
        "\n",
        "A simple method to guard against Type III errors is to use\n",
        "Cross-Validation. In **N-fold Cross-Validation**, we divide the data into N\n",
        "distinct chunks, or folds. Then, we repeat the experiment N times: each\n",
        "time holding out one of the folds for testing, training our classifier\n",
        "on the remaining N - 1 data folds, and reporting performance on the\n",
        "held-out fold. We can use different strategies for dividing the data:\n",
        "\n",
        "-   Consecutive splitting:\n",
        "  - cv000–cv099 = Split 1\n",
        "  - cv100–cv199 = Split 2\n",
        "  - etc.\n",
        "  \n",
        "-   Round-robin splitting (mod 10):\n",
        "  - cv000, cv010, cv020, … = Split 1\n",
        "  - cv001, cv011, cv021, … = Split 2\n",
        "  - etc.\n",
        "\n",
        "-   Random sampling/splitting\n",
        "  - Not used here (but you may choose to split this way in a non-educational situation)\n",
        "\n"
      ]
    },
    {
      "cell_type": "markdown",
      "metadata": {
        "id": "8OeLcbSauGtR"
      },
      "source": [
        "#### (Q2.5) Write the code to implement 10-fold cross-validation using round-robin splitting for your Naive Bayes classifier from Q2.4 and compute the 10 accuracies. Report the final performance, which is the average of the performances per fold. If all splits perform equally well, this is a good sign. (1pt)"
      ]
    },
    {
      "cell_type": "code",
      "metadata": {
        "id": "3KeCGPa7Nuzx",
        "outputId": "622577d6-7ee2-4fec-ca2b-55e566340b69"
      },
      "source": [
        "# YOUR CODE HERE\n",
        "N = 10\n",
        "accuracy_mean, accuracy_var = Naive_Bayes.cross_validate(document=reviews, n_folds=N, kappa=1)\n",
        "print('\\n Mean accuracy of NB with smoothing: {:.3f}'.format(accuracy_mean))"
      ],
      "execution_count": null,
      "outputs": [
        {
          "name": "stdout",
          "output_type": "stream",
          "text": [
            "CV[1/10]: Accuracy: 0.79, Time: 1.02\n",
            "CV[2/10]: Accuracy: 0.835, Time: 1.05\n",
            "CV[3/10]: Accuracy: 0.805, Time: 1.03\n",
            "CV[4/10]: Accuracy: 0.825, Time: 0.96\n",
            "CV[5/10]: Accuracy: 0.78, Time: 0.96\n",
            "CV[6/10]: Accuracy: 0.845, Time: 0.99\n",
            "CV[7/10]: Accuracy: 0.83, Time: 0.99\n",
            "CV[8/10]: Accuracy: 0.775, Time: 1.02\n",
            "CV[9/10]: Accuracy: 0.83, Time: 1.00\n",
            "CV[10/10]: Accuracy: 0.84, Time: 0.93\n",
            "\n",
            " Mean accuracy of NB with smoothing: 0.816\n"
          ]
        }
      ]
    },
    {
      "cell_type": "markdown",
      "metadata": {
        "id": "otdlsDXBNyOa"
      },
      "source": [
        "#### (Q2.6) Report the variance of the 10 accuracy scores. (0.5pt)\n",
        "\n",
        "**Please report all future results using 10-fold cross-validation now\n",
        "(unless told to use the held-out test set).**"
      ]
    },
    {
      "cell_type": "code",
      "metadata": {
        "id": "ZoBQm1KuNzNR",
        "outputId": "52a7db57-b971-4a95-90f7-fb8ec0a00407"
      },
      "source": [
        "# YOUR CODE HERE\n",
        "print('Variance of the above 10-fold cross validation accuracy: {:.4f}'.format(accuracy_var))"
      ],
      "execution_count": null,
      "outputs": [
        {
          "name": "stdout",
          "output_type": "stream",
          "text": [
            "Variance of the above 10-fold cross validation accuracy: 0.0007\n"
          ]
        }
      ]
    },
    {
      "cell_type": "markdown",
      "metadata": {
        "id": "s6A2zX9_BRKm"
      },
      "source": [
        "## Features, overfitting, and the curse of dimensionality\n",
        "\n",
        "In the Bag-of-Words model, ideally we would like each distinct word in\n",
        "the text to be mapped to its own dimension in the output vector\n",
        "representation. However, real world text is messy, and we need to decide\n",
        "on what we consider to be a word. For example, is “`word`\" different\n",
        "from “`Word`\", from “`word`”, or from “`words`\"? Too strict a\n",
        "definition, and the number of features explodes, while our algorithm\n",
        "fails to learn anything generalisable. Too lax, and we risk destroying\n",
        "our learning signal. In the following section, you will learn about\n",
        "confronting the feature sparsity and the overfitting problems as they\n",
        "occur in NLP classification tasks."
      ]
    },
    {
      "cell_type": "markdown",
      "metadata": {
        "id": "EKK8FNt8VtcZ"
      },
      "source": [
        "### Stemming (1.5pts)\n",
        "\n",
        "To make your algorithm more robust, use stemming and hash different inflections of a word to the same feature in the BoW vector space. Please use the [Porter stemming\n",
        "    algorithm](http://www.nltk.org/howto/stem.html) from NLTK.\n",
        "\n"
      ]
    },
    {
      "cell_type": "code",
      "metadata": {
        "id": "NxtCul1IrBi_",
        "outputId": "5ada415d-6295-458e-9bc6-ed95dde36997"
      },
      "source": [
        "# YOUR CODE HERE\n",
        "porter = PorterStemmer()\n",
        "accuracy_stem, var_stem = Naive_Bayes.cross_validate(document=reviews, n_folds=N, stem_strat=porter, kappa=1)\n",
        "print('\\n Mean accuracy with stemming: {:.3f} with a variance of: {:.4f}'.format(accuracy_stem,var_stem))"
      ],
      "execution_count": null,
      "outputs": [
        {
          "name": "stdout",
          "output_type": "stream",
          "text": [
            "CV[1/10]: Accuracy: 0.78, Time: 3.82\n",
            "CV[2/10]: Accuracy: 0.84, Time: 4.00\n",
            "CV[3/10]: Accuracy: 0.805, Time: 3.86\n",
            "CV[4/10]: Accuracy: 0.84, Time: 3.87\n",
            "CV[5/10]: Accuracy: 0.775, Time: 3.67\n",
            "CV[6/10]: Accuracy: 0.84, Time: 3.83\n",
            "CV[7/10]: Accuracy: 0.82, Time: 3.92\n",
            "CV[8/10]: Accuracy: 0.775, Time: 3.79\n",
            "CV[9/10]: Accuracy: 0.83, Time: 3.75\n",
            "CV[10/10]: Accuracy: 0.83, Time: 3.73\n",
            "\n",
            " Mean accuracy with stemming: 0.814 with a variance of: 0.0008\n"
          ]
        }
      ]
    },
    {
      "cell_type": "markdown",
      "metadata": {
        "id": "6SrJ1BeLXTnk"
      },
      "source": [
        "#### (Q2.7): How does the performance of your classifier change when you use stemming on your training and test datasets? (1pt)\n",
        "Use cross-validation to evaluate the classifier. \n"
      ]
    },
    {
      "cell_type": "markdown",
      "metadata": {
        "id": "gYqKBOiIrInT"
      },
      "source": [
        "**Answer**  \n",
        "\n",
        "We observe that accuracy with *stemming+smoothing* is almost the same as with only *smoothing*. We also observe that the execution time while using stemming is significantly more. We hypothesize that though stemming reduces the dimensionality of our problem by reducing the number of features, stemming itself is adding to our computational expenses without any accuracy gains. In theory accuracy may increase as stemming cuts of details from words and keeps only their basis. In that way we get less unique words, with higher frequency of appearance. Subtracting letters from words though, may remove some useful information that captures a semantic meaning."
      ]
    },
    {
      "cell_type": "markdown",
      "metadata": {
        "id": "JkDHVq_1XUVP"
      },
      "source": [
        "#### (Q2.8) What happens to the number of features (i.e., the size of the vocabulary) when using stemming as opposed to (Q2.4)? (0.5pt)\n",
        "Give actual numbers. You can use the held-out training set to determine these."
      ]
    },
    {
      "cell_type": "code",
      "metadata": {
        "id": "MA3vee5-rJyy",
        "outputId": "f85cb273-e258-4a2d-f4a4-b1058857bd90"
      },
      "source": [
        "# YOUR CODE HERE\n",
        "train_corpus = [rev for rev in reviews if rev[\"cv\"] < 900]\n",
        "\n",
        "BOW = BAG_OF_WORDS()\n",
        "BOW_stemmed = BAG_OF_WORDS(stemmer=porter)\n",
        "bow, V = BOW.create_bow(train_corpus)\n",
        "bow_stemmed, V_stemmed = BOW_stemmed.create_bow(train_corpus)\n",
        "\n",
        "print('No. of features from Q2.4: {}'.format(V))\n",
        "print('No. of features with stemming: {}'.format(V_stemmed))"
      ],
      "execution_count": null,
      "outputs": [
        {
          "name": "stdout",
          "output_type": "stream",
          "text": [
            "No. of features from Q2.4: 45348\n",
            "No. of features with stemming: 32404\n"
          ]
        }
      ]
    },
    {
      "cell_type": "markdown",
      "metadata": {
        "id": "SoazfxbNV5Lq"
      },
      "source": [
        "### N-grams (1.5pts)\n",
        "\n",
        "A simple way of retaining some of the word\n",
        "order information when using bag-of-words representations is to use **n-gram** features. \n",
        "\n",
        "\n",
        "\n",
        "\n"
      ]
    },
    {
      "cell_type": "markdown",
      "metadata": {
        "id": "OHjy3I7-qWiu"
      },
      "source": [
        "#### (Q2.9) Retrain your classifier from (Q2.4) using **unigrams+bigrams** and **unigrams+bigrams+trigrams** as features. (1pt)\n",
        "Report accuracy and compare it with that of the approaches you have previously implemented. You are allowed to use NLTK to build n-grams from sentences."
      ]
    },
    {
      "cell_type": "code",
      "metadata": {
        "id": "uaGwkyuvZNzk",
        "outputId": "1069dd35-2a3b-4e04-cbd6-5d0c96ede3c9"
      },
      "source": [
        "'''You will be prompted to enter the max no. of grams to create. Enter 2 & 3 preferably '''\n",
        "\n",
        "acc_ngrams1, var_ngrams1, N_grams1 = Naive_Bayes.cross_validate(document=reviews, n_folds=N, use_ngrams=True, kappa=1)\n",
        "print('\\n Mean accuracy with using upto {}-grams as features: {:.3f} with a variance of: {:.4f}'\n",
        "      .format(N_grams1, acc_ngrams1, var_ngrams1))\n",
        "\n",
        "acc_ngrams2, var_ngrams2, N_grams2 = Naive_Bayes.cross_validate(document=reviews, n_folds=N, use_ngrams=True, kappa=1)\n",
        "print('\\n Mean accuracy with using upto {}-grams as features: {:.3f} with a variance of: {:.4f}'\n",
        "      .format(N_grams2, acc_ngrams2, var_ngrams2))"
      ],
      "execution_count": null,
      "outputs": [
        {
          "name": "stdout",
          "output_type": "stream",
          "text": [
            "\n",
            "Enter max number of grams you want to use as features: 2\n",
            "CV[1/10]: Accuracy: 0.78, Time: 2.37\n",
            "CV[2/10]: Accuracy: 0.83, Time: 2.33\n",
            "CV[3/10]: Accuracy: 0.805, Time: 2.60\n",
            "CV[4/10]: Accuracy: 0.82, Time: 2.30\n",
            "CV[5/10]: Accuracy: 0.785, Time: 2.30\n",
            "CV[6/10]: Accuracy: 0.835, Time: 2.33\n",
            "CV[7/10]: Accuracy: 0.825, Time: 2.31\n",
            "CV[8/10]: Accuracy: 0.77, Time: 2.30\n",
            "CV[9/10]: Accuracy: 0.78, Time: 2.32\n",
            "CV[10/10]: Accuracy: 0.785, Time: 2.34\n",
            "\n",
            " Mean accuracy with using upto 2-grams as features: 0.801 with a variance of: 0.0006\n",
            "\n",
            "Enter max number of grams you want to use as features: 3\n",
            "CV[1/10]: Accuracy: 0.75, Time: 4.15\n",
            "CV[2/10]: Accuracy: 0.77, Time: 4.07\n",
            "CV[3/10]: Accuracy: 0.75, Time: 4.08\n",
            "CV[4/10]: Accuracy: 0.785, Time: 4.07\n",
            "CV[5/10]: Accuracy: 0.755, Time: 4.10\n",
            "CV[6/10]: Accuracy: 0.76, Time: 4.23\n",
            "CV[7/10]: Accuracy: 0.815, Time: 4.21\n",
            "CV[8/10]: Accuracy: 0.745, Time: 4.07\n",
            "CV[9/10]: Accuracy: 0.775, Time: 4.14\n",
            "CV[10/10]: Accuracy: 0.755, Time: 4.27\n",
            "\n",
            " Mean accuracy with using upto 3-grams as features: 0.766 with a variance of: 0.0005\n"
          ]
        }
      ]
    },
    {
      "cell_type": "markdown",
      "metadata": {
        "id": "qKmsj_iwZNzk"
      },
      "source": [
        "**Answer**\n",
        "\n",
        "Comparing our results with our baseline *NB + smoothing* classifier we observe that accuracy has decreased by $1.5\\%$ and $5\\%$ while the computational time has more than *doubled* and *quadrupuled* for *bi-* and *tri-* grams respectively. We discuss more about this in the final discussion (**Q4**)"
      ]
    },
    {
      "cell_type": "markdown",
      "metadata": {
        "id": "dVrGGArkrWoL"
      },
      "source": [
        "\n",
        "#### Q2.10: How many features does the BoW model have to take into account now? (0.5pt)\n",
        "How would you expect the number of features to increase theoretically (e.g., linear, square, cubed, exponential)? How does this number compare, in practice, to the number of features at (Q2.8)?\n",
        "\n",
        "Use the held-out training set once again for this.\n"
      ]
    },
    {
      "cell_type": "markdown",
      "metadata": {
        "id": "yEGZ9SV8pPaa"
      },
      "source": [
        "**Answer**    \n",
        "\n",
        "From the *fundamental principle of counting* we know that *if there are $a$ ways of doing something and $b$ ways of doing another thing, then there are $a.b$ ways of performing both actions*. So theoretically we expect that the increase in number of features to be at most **quadratic** $(V\\times V)$ for bigrams and **cubed** $(V\\times V\\times V)$ for trigrams. However, such a large increase would only happen if all possible combinations of words actually occured. But many such combinations would be grammatically or semantically impossible to occur, so we would end up with a much lower feature count. Below we present a mathematical approach to obtain more tighter upper bounds which would help in visualizing the increase in dimensionality of features. \n",
        "\n",
        "For unigrams the vocabulary $V_1$ can be as high as the total number of unigrams $N_{\\text{1-gram}}$ in a sentence. This can be expressed as $$V_1\\leq N_{\\text{1-gram}}$$ \n",
        "Extending the above idea to n-grams, the vocabulary $V_n$ of any *n-grams* can be given as \n",
        "$$V_n\\leq N_{\\text{n-gram}}\\qquad (1)$$  \n",
        "Now, an intuitve way to find how the number of n-grams scales with the vocabulary of n-grams is to have a factor $k'_n$ that relates them as, $$N_{\\text{n-gram}}=k'_n.{V_n}\\qquad (2)$$  \n",
        "This a direct result from **Eqn (1)**, where we replace the inequality with an equality sign by introducing the factor $k'_n$. Also to make things more tractable it is wise to use the scaling w.r.t $V_1$, which is the vocabulary of unigrams or simply the vocabulary of all single words/tokens in a sentence.  $$N_{\\text{n-gram}}=k_n.{V_1}\\qquad(3)$$  Note that this substitution would not change the form of **(2)** because the scaling factor $k'_n$ is replaced by another constant $k_n$.  \n",
        "\n",
        "- **Number of features with (unigrams + bigrams)**  \n",
        "  For the LM using the BoW model, the features are simply the vocabulary created using *uni* and *bi*-grams.\n",
        "  Therefore, total number of features, $f_{1,2} = V_1+V_2$.  From **(1)** we know $$\n",
        "  \\begin{align}\n",
        "  V_1&\\leq N_{\\text{1-gram}}\\\\\n",
        "  V_2&\\leq N_{\\text{2-gram}}\n",
        "  \\end{align}$$  \n",
        "  Adding the above equations and using **(3)** we get:\n",
        "  $$\n",
        "  \\begin{align}\n",
        "  f_{1,2}&=V_1+V_2\\\\\n",
        "  \\Rightarrow f_{1,2}&\\leq N_{\\text{1-gram}}+N_{\\text{2-gram}}\\\\\n",
        "  \\Rightarrow f_{1,2}&\\leq k_1.V_1 + k_2.V_1\\\\\n",
        "  f_{1,2}&\\leq (k_1+k_2).V_1 \\qquad(4)\n",
        "  \\; \\llap{\\mathrel{\\boxed{\\phantom{f_{1,2}\\leq (k_1+k_2).V_1\\qquad(4)}}}}\n",
        "  \\end{align}$$  \n",
        "  \n",
        "- **Number of features with (unigrams + bigrams + trigrams)**  \n",
        "  The features for this LM are the vocabulary created using *uni*, *bi* and *tri*-grams.\n",
        "  Therefore, proceeding as above the total number of features $f_{1,2,3}$ are:\n",
        "  $$\n",
        "  \\begin{align}\n",
        "  f_{1,2,3}&=V_1+V_2+V_3\\\\\n",
        "  \\Rightarrow f_{1,2,3}&\\leq N_{\\text{1-gram}}+N_{\\text{2-gram}}+N_{\\text{3-gram}}\\\\\n",
        "  \\Rightarrow f_{1,2,3}&\\leq k_1.V_1 + k_2.V_1 + k_3.V_1\\\\\n",
        "  f_{1,2,3}&\\leq (k_1+k_2+k_3).V_1\\qquad(5)\n",
        "  \\; \\llap{\\mathrel{\\boxed{\\phantom{f_{1,2,3}\\leq (k_1+k_2+k_3).V_1\\qquad(5)}}}}\n",
        "  \\end{align}$$   \n",
        "  \n",
        "If we plot the $V_1$ on the $x$-axis and features $f$ on the $y$-axis, equations **(4)** and **(5)** suggest that the number of features are bounded by a **linear** growth. We confirm this theoretical estimate below with plots and also report the exact number of features. From the plot, we observe that the features for *bi-* and *tri-* gram models are bounded by a **linear** growth defined by **constant scaling factors** as discussed above. In contrast, the number of features with stemming from (*Q2.8*) are very less as shown with red curve in the plot."
      ]
    },
    {
      "cell_type": "code",
      "metadata": {
        "id": "4EzBcEqaZNzl",
        "outputId": "a61219cb-4ef0-4b40-cff8-5f34ffaf772f"
      },
      "source": [
        "'''\n",
        "To demonstrate the scaling of number of features with n-grams for BoW model, we create \n",
        "n-grams using train corpus of varying lengths (ranging from 3 to 50 reviews).\n",
        "We then calculate the theoretical upper bounds as discussed above to plot the results.\n",
        "You will be prompted twice to enter the max no. of grams to create. \n",
        "'''\n",
        "\n",
        "BOW = BAG_OF_WORDS() #default bag of words creates unigrams or single words\n",
        "BOW_ngrams1 = BAG_OF_WORDS(use_ngrams=True)\n",
        "BOW_ngrams2 = BAG_OF_WORDS(use_ngrams=True)\n",
        "BOW_stem = BAG_OF_WORDS(stemmer=PorterStemmer())\n",
        "\n",
        "no_of_reviews = np.arange(3,51) \n",
        "f1 , f2, f_stemmed = [], [], []\n",
        "V_list = []\n",
        "k1, k2, k3 = [], [], []\n",
        "for i in tqdm(no_of_reviews):\n",
        "    doc = train_corpus[:i]\n",
        "    bow, v = BOW.create_bow(doc)\n",
        "    V_list.append(v)\n",
        "    N1 = (len(list((bow['POS'] + bow['NEG']).elements()))) #this gives the total number of n-grams \n",
        "    k1.append(N1/v)\n",
        "    bow1, v1 = BOW_ngrams1.create_bow(doc)\n",
        "    bow_ngram1 = {'POS':bow1['POS']-bow['POS'] ,'NEG': bow1['NEG']-bow['NEG']} \n",
        "    N2 = (len(list((bow_ngram1['POS'] + bow_ngram1['NEG']).elements())))\n",
        "    k2.append(N2/v)\n",
        "    f1.append(v1)\n",
        "    bow2, v2 = BOW_ngrams2.create_bow(doc)\n",
        "    bow_ngram2 = {'POS':bow2['POS']-bow1['POS'] ,'NEG': bow2['NEG']-bow1['NEG']} \n",
        "    N3 = (len(list((bow_ngram2['POS'] + bow_ngram2['NEG']).elements())))\n",
        "    k3.append(N3/v)\n",
        "    f2.append(v2)\n",
        "    bow_stem, v_stem = BOW_stem.create_bow(doc)\n",
        "    f_stemmed.append(v_stem)"
      ],
      "execution_count": null,
      "outputs": [
        {
          "name": "stdout",
          "output_type": "stream",
          "text": [
            "Enter max number of grams you want to use as features: 2\n",
            "Enter max number of grams you want to use as features: 3\n"
          ]
        },
        {
          "name": "stderr",
          "output_type": "stream",
          "text": [
            "100%|██████████████████████████████████████████████████████████████████████████████████| 48/48 [00:09<00:00,  4.89it/s]\n"
          ]
        }
      ]
    },
    {
      "cell_type": "code",
      "metadata": {
        "id": "Y_OuCyECZNzl",
        "outputId": "2c0a94e0-5fec-4f27-a043-1c12ca5dedc7"
      },
      "source": [
        "fig, ax = plt.subplots(dpi=200)\n",
        "\n",
        "theor1 = (np.array(k1)+np.array(k2))*np.array(V_list)\n",
        "theor2 = (np.array(k1)+np.array(k2)+np.array(k3))*np.array(V_list) \n",
        "\n",
        "ax.plot(V_list, f1, color='b',label='observed features with {}-grams'.format(BOW_ngrams1.Ng))\n",
        "ax.plot(V_list, theor1, 'b-.', lw=0.7, label='theor. upper bound for {}-grams'.format(BOW_ngrams1.Ng))\n",
        "ax.plot(V_list,f2,color='g',label='observed features with {}-grams'.format(BOW_ngrams2.Ng))\n",
        "ax.plot(V_list,theor2,'g-.',lw=0.7, label='theor. upper bound for {}-grams'.format(BOW_ngrams2.Ng))\n",
        "ax.plot(V_list,f_stemmed,color='r',label='observed features with stemming')\n",
        "ax.set_title('Scaling of no. of features using n-grams with BoW model')\n",
        "ax.set_ylabel('No. of features $(f)$')\n",
        "ax.set_xlabel('Vocabulary $(V)$')\n",
        "plt.legend(bbox_to_anchor=(1.04,1), loc=\"upper left\")\n",
        "plt.show()"
      ],
      "execution_count": null,
      "outputs": [
        {
          "data": {
            "image/png": "[encoded data removed]",
            "text/plain": [
              "<Figure size 1200x800 with 1 Axes>"
            ]
          },
          "metadata": {
            "needs_background": "light"
          },
          "output_type": "display_data"
        }
      ]
    },
    {
      "cell_type": "code",
      "metadata": {
        "id": "_z8sAJeUrdtM",
        "outputId": "0153e602-fabe-4c42-b160-410b74c2e6c6"
      },
      "source": [
        "# YOUR CODE HERE\n",
        "'''Now we report the exact number of features for the entire train corpus\n",
        "'''\n",
        "BOW_ngrams1 = BAG_OF_WORDS(use_ngrams=True)\n",
        "BOW_ngrams2 = BAG_OF_WORDS(use_ngrams=True)\n",
        "bow1, V1 = BOW_ngrams1.create_bow(train_corpus)\n",
        "bow2, V2 = BOW_ngrams2.create_bow(train_corpus)\n",
        "print('No. of features using upto {}-grams as features: {}'.format(BOW_ngrams1.Ng,V1))\n",
        "print('No. of features using upto {}-grams as features: {}'.format(BOW_ngrams2.Ng,V2))"
      ],
      "execution_count": null,
      "outputs": [
        {
          "name": "stdout",
          "output_type": "stream",
          "text": [
            "Enter max number of grams you want to use as features: 2\n",
            "Enter max number of grams you want to use as features: 3\n",
            "No. of features using upto 2-grams as features: 465262\n",
            "No. of features using upto 3-grams as features: 1346107\n"
          ]
        }
      ]
    },
    {
      "cell_type": "markdown",
      "metadata": {
        "id": "CHWKDL3YV6vh"
      },
      "source": [
        "# Support Vector Machines (4pts)"
      ]
    },
    {
      "cell_type": "markdown",
      "metadata": {
        "id": "hJSYhcVaoJGt"
      },
      "source": [
        "Though simple to understand, implement, and debug, one\n",
        "major problem with the Naive Bayes classifier is that its performance\n",
        "deteriorates (becomes skewed) when it is being used with features which\n",
        "are not independent (i.e., are correlated). Another popular classifier\n",
        "that doesn’t scale as well to big data, and is not as simple to debug as\n",
        "Naive Bayes, but that doesn’t assume feature independence is the Support\n",
        "Vector Machine (SVM) classifier.\n",
        "\n",
        "You can find more details about SVMs in Chapter 7 of Bishop: Pattern Recognition and Machine Learning.\n",
        "Other sources for learning SVM:\n",
        "* http://web.mit.edu/zoya/www/SVM.pdf\n",
        "* http://www.cs.columbia.edu/~kathy/cs4701/documents/jason_svm_tutorial.pdf\n",
        "* https://pythonprogramming.net/support-vector-machine-intro-machine-learning-tutorial/\n",
        "\n",
        "\n",
        "\n",
        "\n",
        "\n",
        "\n",
        "\n",
        "Use the scikit-learn implementation of \n",
        "[SVM](http://scikit-learn.org/stable/modules/svm.html) with the default parameters. (You are not expected to perform any hyperparameter tuning, but feel free to do it if you think it gives you good insights for the discussion in question 5.)\n",
        "\n"
      ]
    },
    {
      "cell_type": "markdown",
      "metadata": {
        "id": "0LnzNtQBV8gr"
      },
      "source": [
        "#### (Q3.1): Train SVM and compare to Naive Bayes (2pts)\n",
        "\n",
        "Train an SVM classifier (sklearn.svm.LinearSVC) using the features collected for Naive Bayes. Compare the\n",
        "classification performance of the SVM classifier to that of the Naive\n",
        "Bayes classifier with smoothing.\n",
        "Use cross-validation to evaluate the performance of the classifiers.\n",
        "\n"
      ]
    },
    {
      "cell_type": "code",
      "metadata": {
        "id": "JBscui8Mvoz0"
      },
      "source": [
        "# YOUR CODE HERE\n",
        "\n",
        "'''\n",
        "We define the SVM classifier which inherits the BAG_OF_WORDS class to use them as the features.\n",
        "See the init method to know the parameters for the classifier.\n",
        "The classify method returns accuracy and classification report of the SVM classifier. If one wants to \n",
        "just use the accuracy, unpack the returned values and use the 1st value.\n",
        "\n",
        "NOTE: \n",
        "    1. We also use the cross-validate method from Naive_Bayes class.\n",
        "'''\n",
        "class SVM(BAG_OF_WORDS):\n",
        "    \n",
        "    def __init__(self, train, test, use_pos=False, discard_cc=False):\n",
        "        self.train = train\n",
        "        self.test = test\n",
        "        self.use_pos = use_pos\n",
        "        self.SVM_flag = True\n",
        "        self.discard_cc = discard_cc\n",
        "    \n",
        "    def classify(self):\n",
        "        train_features, train_labels = self.create_bow(self.train, use_pos = self.use_pos, discard_cc=self.discard_cc)\n",
        "        test_features, test_labels = self.create_bow(self.test, is_train=False, use_pos=self.use_pos, discard_cc=self.discard_cc)\n",
        "        model = sk.svm.LinearSVC(max_iter=20000)\n",
        "        model.fit(train_features, train_labels)\n",
        "        predicted_labels = model.predict(test_features)\n",
        "        accuracy = sum(predicted_labels==test_labels)/len(predicted_labels)\n",
        "        report = sk.metrics.classification_report(test_labels,predicted_labels)\n",
        "        \n",
        "        return accuracy, report"
      ],
      "execution_count": null,
      "outputs": []
    },
    {
      "cell_type": "code",
      "metadata": {
        "id": "01ptakDkZNzm",
        "outputId": "6c95d4ba-4f55-4379-9e21-e7b67afaa37e"
      },
      "source": [
        "N=10\n",
        "accuracy_SVM, var_SVM = Naive_Bayes.cross_validate(document=reviews, n_folds=N, use_svm=True)\n",
        "print('\\n Mean accuracy using SVM classifier: {:.3f} with a variance of: {:.4f}'.format(accuracy_SVM,var_SVM))"
      ],
      "execution_count": null,
      "outputs": [
        {
          "name": "stdout",
          "output_type": "stream",
          "text": [
            "CV[1/10]: Accuracy: 0.81, Time: 13.59\n",
            "CV[2/10]: Accuracy: 0.795, Time: 18.22\n",
            "CV[3/10]: Accuracy: 0.8, Time: 13.40\n",
            "CV[4/10]: Accuracy: 0.84, Time: 15.45\n",
            "CV[5/10]: Accuracy: 0.85, Time: 17.54\n",
            "CV[6/10]: Accuracy: 0.815, Time: 16.44\n",
            "CV[7/10]: Accuracy: 0.845, Time: 16.00\n",
            "CV[8/10]: Accuracy: 0.85, Time: 15.98\n",
            "CV[9/10]: Accuracy: 0.875, Time: 18.03\n",
            "CV[10/10]: Accuracy: 0.84, Time: 13.22\n",
            "\n",
            " Mean accuracy using SVM classifier: 0.832 with a variance of: 0.0007\n"
          ]
        }
      ]
    },
    {
      "cell_type": "markdown",
      "metadata": {
        "id": "HPIIsUXsZNzo"
      },
      "source": [
        "**Answer**  \n",
        "\n",
        "We dont perform any explicit hyperparameter tuning on the SVM classifier. However, to ensure that the optimization process, on which linear SVM is based, converges we set a large value *(20000)* of the *max_iter* parameter. Comparing our results with Naive Bayes classifier with smoothing, we observe that SVM classifier improves accuracy by about $1.6\\%$. SVM achieves good results, though parameter values for each feature do not enclose a semantic interpretation, as input data are projected to a higher dimensional space in order to become linearly separable.   \n",
        "However, the computational time for SVM classifier is more than $15$ times higher than the Naive Bayes. We believe this is because computations with Naive Bayes are fairly straight-forward and quick once the Bag of Words is created. On the other hand, solving the linear SVM is just like solving a quadratic optimization problem. The solver is typically an iterative algorithm that keeps a running estimate of the solution and stops running when the solution corresponds to an objective value that is optimal for this convex optimization problem."
      ]
    },
    {
      "cell_type": "markdown",
      "metadata": {
        "id": "ifXVWcK0V9qY"
      },
      "source": [
        "### POS disambiguation (2pts)\n",
        "\n",
        "Now add in part-of-speech features. You will find the\n",
        "movie review dataset has already been POS-tagged for you ([here](https://catalog.ldc.upenn.edu/docs/LDC99T42/tagguid1.pdf) you find the tagset). Try to\n",
        "replicate the results obtained by Pang et al. (2002).\n",
        "\n"
      ]
    },
    {
      "cell_type": "markdown",
      "metadata": {
        "id": "xA3I82o4oWGu"
      },
      "source": [
        "#### (Q3.2) Replace your features with word+POS features, and report performance with the SVM. Use cross-validation to evaluate the classifier and compare the results with (Q3.1). Does part-of-speech information help? Explain why this may be the case. (1pt)"
      ]
    },
    {
      "cell_type": "code",
      "metadata": {
        "id": "kbgI-RfdZNzo",
        "outputId": "3c57279c-a5a0-431b-e81d-2d78936c1ac2"
      },
      "source": [
        "accuracy_pos, var_pos = Naive_Bayes.cross_validate(document=reviews, n_folds=N, use_svm=True, use_pos=True)\n",
        "print('\\n Mean accuracy of SVM including POS tags as features: {:.3f} with a variance of: {:.4f}'.format(accuracy_pos,var_pos))"
      ],
      "execution_count": null,
      "outputs": [
        {
          "name": "stdout",
          "output_type": "stream",
          "text": [
            "CV[1/10]: Accuracy: 0.82, Time: 16.75\n",
            "CV[2/10]: Accuracy: 0.795, Time: 18.69\n",
            "CV[3/10]: Accuracy: 0.825, Time: 20.69\n",
            "CV[4/10]: Accuracy: 0.84, Time: 16.75\n",
            "CV[5/10]: Accuracy: 0.84, Time: 20.29\n",
            "CV[6/10]: Accuracy: 0.845, Time: 21.45\n",
            "CV[7/10]: Accuracy: 0.855, Time: 18.91\n",
            "CV[8/10]: Accuracy: 0.855, Time: 19.31\n",
            "CV[9/10]: Accuracy: 0.865, Time: 20.21\n",
            "CV[10/10]: Accuracy: 0.84, Time: 16.02\n",
            "\n",
            " Mean accuracy of SVM including POS tags as features: 0.838 with a variance of: 0.0004\n"
          ]
        }
      ]
    },
    {
      "cell_type": "markdown",
      "metadata": {
        "id": "L0dt_oQupUNe"
      },
      "source": [
        "**Answer**\n",
        "\n",
        "Comparing with our results from **Q3.1** we observe that using words + POS tags as features does not help as we don't see significant accuracy gains. This is also what *Pang et al., 2002 [Thumbs up? Sentiment Classification using Machine Learning\n",
        "Techniques](https://dl.acm.org/citation.cfm?id=1118704)* observe in their results though they use feature presence as inputs for their classification.\n",
        "\n",
        "This seems counterintutive at first because there are words whose connotations w.r.t sentiment are different depending on which POS they belong to. For instance, *'love'* as a *Verb* in *'I love the movie'* has a strong positive connotation, compared to the *Noun* form in *'The child wanted some love'* which is neutral and likely to be part of the plot summary. The latter case would have no influnce on the probability of positive sentiment. However in most cases, one of the versions is much more likely to occur. This is because using non-neutral words such as *'love'* in a neutral context is relatively subjective and depends on the lexical preference of a person than using it to convey its most commonly used form, which for *'love'* is positive sentiment. Another way to think about this is - we may only see the occurence of *'love'* as Noun while training but not in the test set, due to the lexical preference of a reviewer to use *'love'* as Noun in the training corpus. On the other hand *'love'* as Verb would be found commonly both in train and test sets due to a general consensus on using *'love'* to convey *'I like something'*. In addition we also observe that adding POS tags increases the feature count which results in computational overheads and the classifier takes more time to execute. "
      ]
    },
    {
      "cell_type": "markdown",
      "metadata": {
        "id": "Su-3w87eMW0w"
      },
      "source": [
        "#### (Q3.3) Discard all closed-class words from your data (keep only nouns, verbs, adjectives, and adverbs), and report performance. Does this help? Use cross-validation to evaluate the classifier and compare the results with (Q3.2). Are closed-class words detrimental to the classifier? Explain why this may be the case. (1pt)"
      ]
    },
    {
      "cell_type": "code",
      "metadata": {
        "id": "GBFEVqySZNzo",
        "outputId": "efa37b2d-ba6d-4219-d3a6-01edb44ea888"
      },
      "source": [
        "N=10\n",
        "accuracy_dcc, var_dcc = Naive_Bayes.cross_validate(document=reviews, n_folds=N, use_svm=True, use_pos=True, discard_cc=True)\n",
        "print('\\n Mean accuracy of SVM discarding closed-class words: {:.3f} with a variance of: {:.4f}'.format(accuracy_dcc,var_dcc))"
      ],
      "execution_count": null,
      "outputs": [
        {
          "name": "stdout",
          "output_type": "stream",
          "text": [
            "CV[1/10]: Accuracy: 0.83, Time: 13.75\n",
            "CV[2/10]: Accuracy: 0.84, Time: 13.73\n",
            "CV[3/10]: Accuracy: 0.835, Time: 13.85\n",
            "CV[4/10]: Accuracy: 0.86, Time: 13.63\n",
            "CV[5/10]: Accuracy: 0.85, Time: 14.27\n",
            "CV[6/10]: Accuracy: 0.795, Time: 13.81\n",
            "CV[7/10]: Accuracy: 0.875, Time: 13.79\n",
            "CV[8/10]: Accuracy: 0.855, Time: 13.82\n",
            "CV[9/10]: Accuracy: 0.845, Time: 14.09\n",
            "CV[10/10]: Accuracy: 0.825, Time: 13.47\n",
            "\n",
            " Mean accuracy of SVM discarding closed-class words: 0.841 with a variance of: 0.0005\n"
          ]
        }
      ]
    },
    {
      "cell_type": "markdown",
      "metadata": {
        "id": "YaxCVrs8pWSp"
      },
      "source": [
        "**Answer**  \n",
        "\n",
        "Comparing our results with **Q3.2** we observe that accuracy improves by about *$0.3\\%$* which is not significant. This result suggests that no semantically meaningful information was lost (or added) by removing closed-class words. In fact all of the important information is captured by just including the open-class words. Intuitively this makes sense, because *closed-class* words *(and, or, the, this, that, etc.)* primarily act as markers or guides to the structure of a sentence. For instance, prepositions mark special relationships between persons, objects, and locations , Conjunctions are connectors that link actors or objects, and specify relationships between clauses in the sentence. In contrast, *open-class* words are termed **'content'** words as they convey most of the meaning of a sentence and there is less ambiguity in the semantics of the words from this class.\n",
        "\n",
        "We agree that including closed-class words is detrimental to the classifier. This is because including them does not give additional advantage as explained above but instead, increases the dimensionality of our problem due to increase in number of features. This is also evident from our expirments above, where we observed that execution times improved by an avergage of **$24.5\\%$** when we discard closed-class words without significant loss in accuracy."
      ]
    },
    {
      "cell_type": "markdown",
      "metadata": {
        "id": "nfwqOciAl2No"
      },
      "source": [
        "# (Q4) Discussion (max. 500 words). (5pts)\n",
        "\n",
        "> Based on your experiments, what are the effective features and techniques in sentiment analysis? What information do different features encode?\n",
        "Why is this important? What are the limitations of these features and techniques?"
      ]
    },
    {
      "cell_type": "markdown",
      "metadata": {
        "id": "ZYuse5WLmekZ"
      },
      "source": [
        "*Write your answer here in up to 500 words (-0.25pt for >50 extra words, -0.5 points for >100 extra words, ...)*.  \n",
        "\n",
        "The Naive Bayes method, using a $\\kappa=1$ smoothing factor was used as a baseline for comparison across all the other BoW techniques. Below, we enlist the benefits and limitations of each technique:\n",
        "\n",
        "- **Lexicon-Based Approach**  \n",
        "This approach is a form of unsupervised learning and thus simple to implement and fast to execute. Unlike supervised approach, this one doesn't require large datasets to train and can even work for smaller problem instances effectively.\n",
        "However, lexicons are specific to a given situation, for eg., a health-related sentiment lexicon would be ineffective in classifying movie reviews. Also, the classification is done without taking into account the data itself and adding or updating lexicons would require expert domain knowledge. Such considerations placed a limit to our classification accuracy ($70\\%$) even when we include magnitude information and experimented with a range of multipliers.  \n",
        "    \n",
        "- **Naive Bayes**  \n",
        "The classifier is straight forward to implement and very fast- no iterations were involved since the probabilities can be directly computed from the BoW. However, a limitation of the approach is the *Conditional Independence Assumption* which does not always hold in real world. Also if we encounter words in the test data for a particular class that were not present while training, we end up with zero class probabilities. Surprisingly, the NB classifier outperformed all other techniques with optimal accuracy and least computational time. NB can be optimal even if the independence assumption is violated (*Domingos and Pazzani,1997 [[1]](https://link.springer.com/article/10.1023/A:1007413511361), Zhang, H. 2005 [[2]](https://www.worldscientific.com/doi/abs/10.1142/S0218001405003983)*) and the zero probability problem can be tackled using suitable smoothing as discussed above.  \n",
        "The best features for NB classifier were simply the original words, without stemming and using n-grams. While stemming didn't impact the performance much, using bi- and tri-grams proved sub-optimal. \n",
        "\n",
        "    - <ins>*Stemming*</ins>  creates a shorter vocabulary space and reduces feature space, however it may cause ambiguities that will  eventually lead to several false positives. For example the phrase *'loved the movie'* refers to positive sentiment for the movie, while *'lovable character'* may be about one of the actors. In this case stemming makes classification worse.  \n",
        "    - With <ins>*n-grams*</ins> we tried to capture the context in which words are used together by using word order information. However, this resulted in a combinatorial explosion of features leading to large computational overheads. In addition n-grams are a sparse representation of language. This is because n-gram model is based on the probability of words co-occurring and assigns zero probability to all the words that are not seen during training. The problem becomes amplified if we use smoothing because too much probability mass is moved to all these zero probablities. This is also what we observed in our experiments, with accuracy falling for bi- and tri-gram models.\n",
        "\n",
        "- **SVM**  \n",
        "Theoretically, SVM is better at capturing the interactions between the features as it doesn't use the *conditional independence assumption*. However, we found its performance sub-optimal as discussed in *Q3.1*,*Q3.2* and *Q3.3*.  \n",
        "\n",
        "We analyzed three major sentiment classification techniques and found that **NB with smoothing** performed best and the **lex-based approach** was the worst. As *Pang et al., 2002 [[3]](https://dl.acm.org/citation.cfm?id=1118704)* point out with *thwarted-expectations*, we reiterate that our methods do not encode long-distance relationships in sentences, which is problematic for reviews which set up and then overturn expectations, e.g. starting with *'I hated the screenplay'* and ending with *'nevertheless I liked it.'* "
      ]
    },
    {
      "cell_type": "markdown",
      "metadata": {
        "id": "iwaKwfWQhRk_"
      },
      "source": [
        "# Submission \n"
      ]
    },
    {
      "cell_type": "code",
      "metadata": {
        "id": "aOUeaET5ijk-"
      },
      "source": [
        "# Write your names and student numbers here:\n",
        "# Kamlesh Sahoo #12821721\n",
        "# Manolis Rerres #13439022"
      ],
      "execution_count": null,
      "outputs": []
    },
    {
      "cell_type": "markdown",
      "metadata": {
        "id": "3A9K-H6Tii3X"
      },
      "source": [
        "**That's it!**\n",
        "\n",
        "- Check if you answered all questions fully and correctly. \n",
        "- Download your completed notebook using `File -> Download .ipynb` \n",
        "- Check if your answers are all included in the file you submit.\n",
        "- Submit your .ipynb file via *Canvas*. One submission per group. "
      ]
    },
    {
      "cell_type": "code",
      "metadata": {
        "id": "YHslatYAKBrF"
      },
      "source": [
        ""
      ],
      "execution_count": null,
      "outputs": []
    }
  ]
}