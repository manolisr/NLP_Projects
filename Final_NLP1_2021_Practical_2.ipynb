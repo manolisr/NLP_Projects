{
  "cells": [
    {
      "cell_type": "markdown",
      "metadata": {
        "id": "ptMZZMQlfn7c"
      },
      "source": [
        "------\n",
        "**You cannot apply any changes to this file, so please make sure to save it on your Google Colab drive or download it as a .ipynb file.**\n",
        "\n",
        "------\n"
      ]
    },
    {
      "cell_type": "markdown",
      "metadata": {
        "id": "jILqpPLlE9r0"
      },
      "source": [
        "# Practical 2: Representing Sentences with Neural Models"
      ]
    },
    {
      "cell_type": "markdown",
      "metadata": {
        "id": "8JXOZ5uhQ8Qq"
      },
      "source": [
        "In this second practical, we will train neural network models to obtain sentence representations. We can then use these sentence representations for a downstream task such as sentiment classification.\n",
        "\n",
        "In this notebook, we will help you to develop models for your experiments. But this time, next to completing the notebook, **you are expected to write a four-page scientific report with your findings**. Please still submit the notebook together with your scientific report so that we can reproduce your experiments. (Note: if you find it useful, you can split this notebook into multiple notebooks. If you do so, keep it mind that it should be possible for your TAs to reproduce the entire content of the notebooks without having to ask for clarifications or to copy and paste functions from one sub-notebook to another.) Make sure your code corresponds to the description you give in the report; we will deduct points if this is not the case.\n",
        "\n",
        "**Important!** The main purpose of this lab is for you to learn how to answer research questions by experimenting and then writing a scientific report.\n",
        "So you will be *judged by the quality of your report* but will lose points if your experiments are not reproducible.\n",
        "You can find the requirements for the report at the end of this notebook.\n",
        "\n",
        "\n",
        "### Data set\n",
        "We will use the [Stanford Sentiment Treebank](https://nlp.stanford.edu/sentiment/) (SST), which provides sentences, their binary tree structure, and fine-grained sentiment scores.\n",
        "This dataset is different from the one we used in the first practical.\n",
        "In Practical 1, a review consisted of several sentences, and we had one sentiment score for the whole review. Now, a review consists of a single sentence, and we have a sentiment score for each node in the binary tree that makes up the sentence, including the root node (i.e., we still have an overall sentiment score for the entire review). We will look at an example below.\n",
        "\n",
        "In the first part of this practical we will only make use of the sentence tokens whereas in the second part we will also exploit the tree structure that is provided by the SST.\n",
        "\n",
        "We will cover the following approaches:\n",
        "\n",
        "- Bag-of-words (BOW)\n",
        "- Continuous bag-of-words (CBOW)\n",
        "- Deep continuous bag-of-words (Deep CBOW)\n",
        "- LSTM\n",
        "- Tree-LSTM\n"
      ]
    },
    {
      "cell_type": "markdown",
      "metadata": {
        "id": "YbNKef3lymaj"
      },
      "source": [
        "## Preparing the data"
      ]
    },
    {
      "cell_type": "markdown",
      "metadata": {
        "id": "9jxTkpg59FlU"
      },
      "source": [
        "Let's first download the data set and take a look."
      ]
    },
    {
      "cell_type": "code",
      "execution_count": null,
      "metadata": {
        "id": "WZp53HmMP3F2"
      },
      "outputs": [],
      "source": [
        "import re\n",
        "import random\n",
        "import time\n",
        "import math\n",
        "import numpy as np\n",
        "import pandas as pd\n",
        "import nltk\n",
        "import matplotlib.pyplot as plt\n",
        "import seaborn as sns\n",
        "from tqdm import tqdm\n",
        "from nltk import Tree\n",
        "from nltk.treeprettyprinter import TreePrettyPrinter\n",
        "from collections import namedtuple, Counter, OrderedDict, defaultdict\n",
        "import torch\n",
        "from torch import nn, optim\n",
        "plt.style.use('default')\n",
        "SHIFT = 0\n",
        "REDUCE = 1"
      ]
    },
    {
      "cell_type": "code",
      "execution_count": null,
      "metadata": {
        "id": "bgv8UvH75AqC"
      },
      "outputs": [],
      "source": [
        "class Utility():\n",
        "\n",
        "  def __init__(self):\n",
        "    self.device = torch.device('cuda' if torch.cuda.is_available() else 'cpu')\n",
        "    # A simple way to define a class is using namedtuple.\n",
        "    self.Example = namedtuple(\"Example\", [\"tokens\", \"tree\", \"label\", \"transitions\"])\n",
        "\n",
        "  def filereader(self,path):\n",
        "    with open(path, mode=\"r\", encoding=\"utf-8\") as f:\n",
        "      for line in f:\n",
        "        yield line.strip().replace(\"\\\\\",\"\")\n",
        "\n",
        "  def tokens_from_treestring(self,s):\n",
        "    \"\"\"extract the tokens from a sentiment tree\"\"\"\n",
        "    return re.sub(r\"\\([0-9] |\\)\", \"\", s).split()\n",
        "\n",
        "  def transitions_from_treestring(self,s):\n",
        "    s = re.sub(\"\\([0-5] ([^)]+)\\)\", \"0\", s)\n",
        "    s = re.sub(\"\\)\", \" )\", s)\n",
        "    s = re.sub(\"\\([0-4] \", \"\", s)\n",
        "    s = re.sub(\"\\([0-4] \", \"\", s)\n",
        "    s = re.sub(\"\\)\", \"1\", s)\n",
        "    return list(map(int, s.split()))\n",
        "\n",
        "  def create_example(self,tree_string):\n",
        "    tokens = self.tokens_from_treestring(tree_string)\n",
        "    tree = Tree.fromstring(tree_string)  # use NLTK's Tree\n",
        "    label = int(tree_string[1])\n",
        "    trans = self.transitions_from_treestring(tree_string)\n",
        "    return self.Example(tokens=tokens, tree=tree, label=label, transitions=trans)\n",
        "\n",
        "  def examplereader(self, path, lower=False, create_subtrees=False):\n",
        "    \"\"\"Returns all examples in a file one by one.\"\"\"\n",
        "    for line in self.filereader(path):\n",
        "      line = line.lower() if lower else line\n",
        "      yield self.create_example(line)\n",
        "\n",
        "      if create_subtrees:\n",
        "        subtrees = self.get_subtrees(line)\n",
        "        for tree in subtrees:\n",
        "          yield self.create_example(tree)\n",
        "\n",
        "  def get_subtrees(self,treestring):\n",
        "    '''\n",
        "    given a raw treestring, will output all subtree strings\n",
        "    will not produce single word subtrees\n",
        "    '''\n",
        "    # first remove top level tree (k ... )\n",
        "    treestring = treestring[2:-1]\n",
        "\n",
        "    # find positions of \"(\"\n",
        "    opening_idcs = [i for i, letter in enumerate(treestring) if letter=='(']\n",
        "\n",
        "    # find closing positions for each opening position\n",
        "    # ignore if single token\n",
        "    subtrees = []\n",
        "    for idx in opening_idcs:\n",
        "      num_descendents = 0\n",
        "      ctr = 1\n",
        "      for j, letter in enumerate(treestring[idx+1:]):\n",
        "        if letter == ')':\n",
        "          ctr -= 1\n",
        "          if ctr == 0:\n",
        "            closing_idx = j + idx + 1\n",
        "            break\n",
        "          elif ctr > 0:\n",
        "            num_descendents += 1\n",
        "        elif letter == '(':\n",
        "          ctr += 1\n",
        "\n",
        "      if num_descendents > 0:\n",
        "        subtrees.append(treestring[idx:closing_idx+1])\n",
        "\n",
        "    return subtrees\n",
        "\n",
        "\n",
        "  def get_train_test_dev(self, lower=False, create_subtrees=False):\n",
        "    train_data = list(self.examplereader(\"trees/train.txt\", lower=lower, create_subtrees=create_subtrees))\n",
        "    dev_data = list(self.examplereader(\"trees/dev.txt\", lower=lower))\n",
        "    test_data = list(self.examplereader(\"trees/test.txt\", lower=lower))\n",
        "\n",
        "    return train_data, dev_data, test_data\n",
        "\n",
        "\n",
        "  def create_vocab_from_train(self,train_data):\n",
        "    # creates vocabulary from training data\n",
        "    v = Vocabulary()\n",
        "    for data_set in (train_data,):\n",
        "        for ex in data_set:\n",
        "                for token in ex.tokens:\n",
        "                    v.count_token(token)\n",
        "\n",
        "    v.build()\n",
        "\n",
        "    return v\n",
        "\n",
        "  def create_pretrained_vocab_emb(self,path):\n",
        "    '''\n",
        "    gets vocabulary and embedding vectors from a pretrained\n",
        "    word embedding located at path\n",
        "    '''\n",
        "    vectors = [[0]*300, [0]*300] # first two vectors are embedding of <unk> and <pad>\n",
        "\n",
        "    v_pt = Vocabulary()\n",
        "    with open(path) as file:\n",
        "      for line in file:\n",
        "        line_list = line.split()\n",
        "        word = line_list[0]\n",
        "        vec = line_list[1:]\n",
        "        vec = [float(val) for val in vec]\n",
        "        vectors.append(vec)\n",
        "        v_pt.count_token(word)\n",
        "\n",
        "    vectors = np.stack(vectors, axis=0)\n",
        "    v_pt.build()\n",
        "\n",
        "    return v_pt, vectors\n",
        "\n",
        "\n",
        "  def print_parameters(self,model):\n",
        "    total = 0\n",
        "    for name, p in model.named_parameters():\n",
        "      total += np.prod(p.shape)\n",
        "      print(\"{:24s} {:12s} requires_grad={}\".format(name, str(list(p.shape)), p.requires_grad))\n",
        "    print(\"\\nTotal number of parameters: {}\\n\".format(total))\n",
        "\n",
        "  def prepare_example(self,example, vocab, permute=False):\n",
        "    \"\"\"\n",
        "    Map tokens to their IDs for a single example\n",
        "    \"\"\"\n",
        "    # vocab returns 0 if the word is not there (i2w[0] = <unk>)\n",
        "    x = [vocab.w2i.get(t, 0) for t in example.tokens]\n",
        "\n",
        "    x = torch.LongTensor([x])\n",
        "    x = x.to(self.device)\n",
        "\n",
        "    y = torch.LongTensor([example.label])\n",
        "    y = y.to(self.device)\n",
        "\n",
        "    if permute:\n",
        "      idcs = np.random.permutation(np.arange(0,x.shape[1],1))\n",
        "      x = x[:,idcs]\n",
        "\n",
        "    return x, y\n",
        "\n",
        "\n",
        "  def prepare_minibatch(self,mb, vocab, permute=False):\n",
        "    \"\"\"\n",
        "    Minibatch is a list of examples.\n",
        "    This function converts words to IDs and returns\n",
        "    torch tensors to be used as input/targets.\n",
        "    \"\"\"\n",
        "    batch_size = len(mb)\n",
        "    maxlen = max([len(ex.tokens) for ex in mb])\n",
        "\n",
        "    # vocab returns 0 if the word is not there\n",
        "    if permute:\n",
        "      x = [self.pad(list(np.random.permutation([vocab.w2i.get(t, 0) for t in ex.tokens])), maxlen) for ex in mb]\n",
        "    else:\n",
        "      x = [self.pad([vocab.w2i.get(t, 0) for t in ex.tokens], maxlen) for ex in mb]\n",
        "\n",
        "    x = torch.LongTensor(x)\n",
        "    x = x.to(self.device)\n",
        "\n",
        "    y = [ex.label for ex in mb]\n",
        "    y = torch.LongTensor(y)\n",
        "    y = y.to(self.device)\n",
        "\n",
        "    return x, y\n",
        "\n",
        "\n",
        "  def prepare_treelstm_minibatch(self,mb, vocab, permute=False):\n",
        "    \"\"\"\n",
        "    Returns sentences reversed (last word first)\n",
        "    Returns transitions together with the sentences.\n",
        "    \"\"\"\n",
        "    if permute:\n",
        "      raise NotImplementedError('Permute not implemented for TreeLSTM')\n",
        "\n",
        "    batch_size = len(mb)\n",
        "    maxlen = max([len(ex.tokens) for ex in mb])\n",
        "\n",
        "    # vocab returns 0 if the word is not there\n",
        "    # NOTE: reversed sequence!\n",
        "    x = [self.pad([vocab.w2i.get(t, 0) for t in ex.tokens], maxlen)[::-1] for ex in mb]\n",
        "\n",
        "    x = torch.LongTensor(x)\n",
        "    x = x.to(self.device)\n",
        "\n",
        "    y = [ex.label for ex in mb]\n",
        "    y = torch.LongTensor(y)\n",
        "    y = y.to(self.device)\n",
        "\n",
        "    maxlen_t = max([len(ex.transitions) for ex in mb])\n",
        "    transitions = [self.pad(ex.transitions, maxlen_t, pad_value=2) for ex in mb]\n",
        "    transitions = np.array(transitions)\n",
        "    transitions = transitions.T  # time-major\n",
        "\n",
        "    return (x, transitions), y\n",
        "\n",
        "  def simple_evaluate(self,model, data, prep_fn, **kwargs):\n",
        "    \"\"\"Accuracy of a model on given data set.\"\"\"\n",
        "    correct = 0\n",
        "    total = 0\n",
        "    model.eval()  # disable dropout (explained later)\n",
        "\n",
        "    for example in data:\n",
        "\n",
        "      if 'permute' in kwargs:\n",
        "        permute = kwargs['permute']\n",
        "      else:\n",
        "        permute = False\n",
        "\n",
        "      # convert the example input and label to PyTorch tensors\n",
        "      x, target = prep_fn(example, model.vocab, permute)\n",
        "\n",
        "      # forward pass without backpropagation (no_grad)\n",
        "      # get the output from the neural network for input x\n",
        "      with torch.no_grad():\n",
        "        logits = model(x)\n",
        "\n",
        "      # get the prediction\n",
        "      prediction = logits.argmax(dim=-1)\n",
        "\n",
        "      # add the number of correct predictions to the total correct\n",
        "      correct += (prediction == target).sum().item()\n",
        "      total += 1\n",
        "\n",
        "    return correct, total, correct / float(total)\n",
        "\n",
        "\n",
        "  def evaluate(self, model, data, batch_fn, prep_fn, permute=False, batch_size=16):\n",
        "    \"\"\"Accuracy of a model on given data set (using mini-batches)\"\"\"\n",
        "    correct = 0\n",
        "    total = 0\n",
        "    model.eval()  # disable dropout\n",
        "\n",
        "    for mb in batch_fn(data, batch_size=batch_size, shuffle=False):\n",
        "      x, targets = prep_fn(mb, model.vocab, permute)\n",
        "      with torch.no_grad():\n",
        "        logits = model(x)\n",
        "\n",
        "      predictions = logits.argmax(dim=-1).view(-1)\n",
        "\n",
        "      # add the number of correct predictions to the total correct\n",
        "      correct += (predictions == targets.view(-1)).sum().item()\n",
        "      total += targets.size(0)\n",
        "\n",
        "    return correct, total, correct / float(total)\n",
        "\n",
        "\n",
        "  def sentence_length_evaluate(self,model, data, prep_fn, **kwargs):\n",
        "    \"\"\"Accuracy of a model for different sentence lengths.\"\"\"\n",
        "    correct = defaultdict(int)\n",
        "    total = defaultdict(int)\n",
        "\n",
        "    model.eval()  # disable dropout (explained later)\n",
        "\n",
        "    for example in data:\n",
        "\n",
        "        # convert the example input and label to PyTorch tensors\n",
        "        x, target = prep_fn(example, model.vocab)\n",
        "\n",
        "        # forward pass without backpropagation (no_grad)\n",
        "        # get the output from the neural network for input x\n",
        "        with torch.no_grad():\n",
        "            logits = model(x)\n",
        "\n",
        "        # get the prediction\n",
        "        prediction = logits.argmax(dim=-1)\n",
        "\n",
        "        # add the number of correct predictions to the total correct\n",
        "        length = len(example.tokens)\n",
        "        correct[length] += (prediction == target).int().item()\n",
        "        total[length] += 1\n",
        "\n",
        "    accuracy = {length: correct[length] / float(total[length]) for length in correct}\n",
        "    max_length = max(accuracy.keys())\n",
        "    #total_accuracy = sum([accuracy[length]*total[length] for length in accuracy])/sum(total.values())\n",
        "    # Turn it into a masked numpy array so we can later take mean\n",
        "    result = np.ma.array(list(accuracy[k] if k in accuracy else np.ma.masked for k in range(max_length + 1)))\n",
        "\n",
        "\n",
        "    return correct, total, result\n",
        "\n",
        "\n",
        "  def sentence_length_batch_evaluate(self,model, data, batch_fn, prep_fn, batch_size=16):\n",
        "    correct = defaultdict(int)\n",
        "    total = defaultdict(int)\n",
        "    model.eval()  # disable dropout (explained later)\n",
        "    for mb in batch_fn(data, batch_size=batch_size, shuffle=False):\n",
        "      x, targets = prep_fn(mb, model.vocab)\n",
        "      with torch.no_grad():\n",
        "        logits = model(x)\n",
        "\n",
        "      predictions = logits.argmax(dim=-1).view(-1)\n",
        "\n",
        "        # Against the spirit of batching but we need to access the unpadded length\n",
        "      for i, example in enumerate(mb):\n",
        "        length = len(example.tokens)\n",
        "        correct[length] += (predictions[i] == targets.view(-1)[i]).int().item()\n",
        "        total[length] += 1\n",
        "\n",
        "\n",
        "    accuracy = {length: correct[length] / float(total[length]) for length in correct}\n",
        "    #total_accuracy = sum([accuracy[length]*total[length] for length in accuracy])/sum(total.values())\n",
        "    max_length = max(accuracy.keys())\n",
        "    # Turn it into a masked numpy array so we can later take mean .\n",
        "    result = np.ma.array(\n",
        "        list(accuracy[k] if k in accuracy else np.ma.masked\n",
        "             for k in range(max_length + 1)))\n",
        "\n",
        "    return correct, total, result\n",
        "\n",
        "\n",
        "  def get_examples(self, data, shuffle=True, **kwargs):\n",
        "    \"\"\"Shuffle data set and return 1 example at a time (until nothing left)\"\"\"\n",
        "    if shuffle:\n",
        "      print(\"Shuffling training data\")\n",
        "      random.shuffle(data)  # shuffle training data each epoch\n",
        "    for example in data:\n",
        "      yield example\n",
        "\n",
        "\n",
        "  def get_minibatch(self,data, batch_size=25, shuffle=True):\n",
        "    \"\"\"Return minibatches, optional shuffling\"\"\"\n",
        "\n",
        "    if shuffle:\n",
        "      print(\"Shuffling training data\")\n",
        "      random.shuffle(data)  # shuffle training data each epoch\n",
        "\n",
        "    batch = []\n",
        "\n",
        "    # yield minibatches\n",
        "    for example in data:\n",
        "      batch.append(example)\n",
        "\n",
        "      if len(batch) == batch_size:\n",
        "        yield batch\n",
        "        batch = []\n",
        "\n",
        "    # in case there is something left\n",
        "    if len(batch) > 0:\n",
        "      yield batch\n",
        "\n",
        "  def pad(self,tokens, length, pad_value=1):\n",
        "    \"\"\"add padding 1s to a sequence to that it has the desired length\"\"\"\n",
        "    return tokens + [pad_value] * (length - len(tokens))\n",
        "\n",
        "  def batch(self,states):\n",
        "    \"\"\"\n",
        "    Turns a list of states into a single tensor for fast processing.\n",
        "    This function also chunks (splits) each state into a (h, c) pair\"\"\"\n",
        "    return torch.cat(states, 0).chunk(2, 1)\n",
        "\n",
        "  def unbatch(self,state):\n",
        "    \"\"\"\n",
        "    Turns a tensor back into a list of states.\n",
        "    First, (h, c) are merged into a single state.\n",
        "    Then the result is split into a list of sentences.\n",
        "    \"\"\"\n",
        "    return torch.split(torch.cat(state, 1), 1, 0)\n",
        "\n",
        "\n",
        "  def generate_pt_deep_cbow(self, v_pt, embed_vectors, embed_dim, num_classes, num_hidden):\n",
        "    pt_deep_cbow_model = PTDeepCBOW(len(v_pt.i2w), embed_dim, num_classes, num_hidden, v_pt)\n",
        "\n",
        "    # copy pre-trained word vectors into embeddings table\n",
        "    pt_deep_cbow_model.embed.weight.data.copy_(torch.from_numpy(embed_vectors))\n",
        "\n",
        "    # disable training the pre-trained embeddings\n",
        "    pt_deep_cbow_model.embed.weight.requires_grad = False\n",
        "\n",
        "    # move model to specified device\n",
        "    pt_deep_cbow_model = pt_deep_cbow_model.to(self.device)\n",
        "    return pt_deep_cbow_model\n",
        "\n",
        "\n",
        "  def generate_lstm(self, v_pt, embed_vectors, embed_dim, hidden_dim, output_dim):\n",
        "    lstm_model = LSTMClassifier(len(v_pt.w2i), embed_dim, hidden_dim, output_dim, v_pt)\n",
        "\n",
        "    # copy pre-trained word vectors into embeddings table\n",
        "    with torch.no_grad():\n",
        "        lstm_model.embed.weight.data.copy_(torch.from_numpy(embed_vectors))\n",
        "        lstm_model.embed.weight.requires_grad = False\n",
        "\n",
        "    lstm_model = lstm_model.to(self.device)\n",
        "    return lstm_model\n",
        "\n",
        "  def generate_treelstm(self, v_pt, embed_vectors, embed_dim, hidden_dim, output_dim, childsum=False):\n",
        "    tree_model = TreeLSTMClassifier(len(v_pt.w2i), embed_dim, hidden_dim, output_dim, v_pt, childsum=childsum)\n",
        "\n",
        "    # copy pre-trained word vectors into embeddings table\n",
        "    with torch.no_grad():\n",
        "        tree_model.embed.weight.data.copy_(torch.from_numpy(embed_vectors))\n",
        "        tree_model.embed.weight.requires_grad = False\n",
        "\n",
        "    tree_model = tree_model.to(self.device)\n",
        "    return tree_model\n",
        "\n",
        "\n",
        "  def train_model(self, model, optimizer, train_data, dev_data, test_data,\n",
        "                  batch_fn, prep_fn, eval_fn, num_iterations=30000,\n",
        "                  print_every=1000, eval_every=1000,\n",
        "                  batch_size=1, eval_batch_size=None, permute=False, permute_only_train=False, verbose=False, early_stop=0):\n",
        "    \"\"\"Train a model.\"\"\"\n",
        "    iter_i = 0\n",
        "    train_loss = 0.\n",
        "    print_num = 0\n",
        "    start = time.time()\n",
        "    criterion = nn.CrossEntropyLoss() # loss function\n",
        "    best_eval = 0.\n",
        "    best_iter = 0\n",
        "\n",
        "    # store train loss and validation accuracy during training\n",
        "    # so we can plot them afterwards\n",
        "    losses = []\n",
        "    accuracies = []\n",
        "\n",
        "    if eval_batch_size is None:\n",
        "        eval_batch_size = batch_size\n",
        "\n",
        "    while True:  # when we run out of examples, shuffle and continue\n",
        "        for batch in batch_fn(train_data, batch_size=batch_size):\n",
        "\n",
        "            # forward pass\n",
        "            model.train()\n",
        "            x, targets = prep_fn(batch, model.vocab, permute)\n",
        "            logits = model(x)\n",
        "\n",
        "            B = targets.size(0)  # later we will use B examples per update\n",
        "\n",
        "            # compute cross-entropy loss (our criterion)\n",
        "            # note that the cross entropy loss function computes the softmax for us\n",
        "            loss = criterion(logits.view([B, -1]), targets.view(-1))\n",
        "            #loss_each.append(loss.item())\n",
        "            train_loss += loss.item()\n",
        "\n",
        "            # backward pass (tip: check the Introduction to PyTorch notebook)\n",
        "\n",
        "            # erase previous gradients\n",
        "            optimizer.zero_grad()\n",
        "\n",
        "            # compute gradients\n",
        "            loss.backward()\n",
        "\n",
        "            # update weights - take a small step in the opposite dir of the gradient\n",
        "            optimizer.step()\n",
        "\n",
        "            print_num += 1\n",
        "            iter_i += 1\n",
        "\n",
        "            # print info\n",
        "            if iter_i % print_every == 0:\n",
        "                if verbose:print(\"Iter %r: loss=%.4f, time=%.2fs\" %\n",
        "                      (iter_i, train_loss, time.time()-start))\n",
        "                losses.append(train_loss)\n",
        "                print_num = 0\n",
        "                train_loss = 0.\n",
        "\n",
        "            # evaluate\n",
        "            if iter_i % eval_every == 0:\n",
        "                _, total, accuracy = eval_fn(model, dev_data, batch_size=eval_batch_size, batch_fn=batch_fn, prep_fn=prep_fn, permute=permute)\n",
        "                #print('total: ',total)\n",
        "                #print('accuracy: ',accuracy)\n",
        "                #check if sentence evaluate was used\n",
        "                #if isinstance(accuracy, np.ma.core.MaskedArray): accuracy = total\n",
        "                accuracies.append(accuracy)\n",
        "                if verbose:print(\"iter %r: dev acc=%.4f\" % (iter_i, accuracy))\n",
        "\n",
        "                # save best model parameters\n",
        "                if accuracy > best_eval:\n",
        "                    if verbose: print(\"new highscore\")\n",
        "                    best_eval = accuracy\n",
        "                    best_iter = iter_i\n",
        "                    path = \"{}.pt\".format(model.__class__.__name__)\n",
        "                    ckpt = {\n",
        "                      \"state_dict\": model.state_dict(),\n",
        "                      \"optimizer_state_dict\": optimizer.state_dict(),\n",
        "                      \"best_eval\": best_eval,\n",
        "                      \"best_iter\": best_iter\n",
        "                    }\n",
        "                    torch.save(ckpt, path)\n",
        "\n",
        "            # done training\n",
        "            if iter_i == num_iterations or ((early_stop > 0) and (iter_i-best_iter == early_stop*eval_every)):\n",
        "                if (iter_i == num_iterations):\n",
        "                    print('Maximum iterations reached.')\n",
        "                else:\n",
        "                    print('Stopping because no improvement since last {} steps'.format(iter_i-best_iter))\n",
        "\n",
        "                if verbose:\n",
        "                    print(\"Done training\")\n",
        "                    # evaluate on train, dev, and test with best model\n",
        "                    print(\"Loading best model\")\n",
        "                path = \"{}.pt\".format(model.__class__.__name__)\n",
        "                ckpt = torch.load(path)\n",
        "                model.load_state_dict(ckpt[\"state_dict\"])\n",
        "\n",
        "                #check if word order is to be shuffled only while training\n",
        "                if permute_only_train: permute=False\n",
        "\n",
        "                _, _, train_acc = eval_fn(\n",
        "                    model, train_data, batch_size=eval_batch_size,\n",
        "                    batch_fn=batch_fn, prep_fn=prep_fn, permute=permute)\n",
        "                _, _, dev_acc = eval_fn(\n",
        "                    model, dev_data, batch_size=eval_batch_size,\n",
        "                    batch_fn=batch_fn, prep_fn=prep_fn, permute=permute)\n",
        "                _, _, test_acc = eval_fn(\n",
        "                    model, test_data, batch_size=eval_batch_size,\n",
        "                    batch_fn=batch_fn, prep_fn=prep_fn, permute=permute)\n",
        "\n",
        "                if verbose: print(\"best model iter {:d}: \"\n",
        "                      \"train acc={:.4f}, dev acc={:.4f}, test acc={:.4f}\".format(\n",
        "                          best_iter, train_acc, dev_acc, test_acc))\n",
        "\n",
        "                return losses, accuracies, model, (best_iter, train_acc, test_acc, dev_acc)\n",
        "\n",
        "  def simulator(self, model_generator, optimizer_generator, train, dev, test, batch_fun, prep_fun, eval_fun,\n",
        "                model_generator_kwargs={}, batch_sizes=1, eval_batch_sizes=None, n_sims=3, n_iter=30000,\n",
        "                print_each=1000, eval_each=1000, permute =False, permute_only_train=False, verb=False, stop_factor=0, eval_fun_sentence_length=None):\n",
        "\n",
        "    if permute:\n",
        "      print('Permuting the word order is enabled!')\n",
        "      print('Permuting will be done only on train set' if permute_only_train else 'Permuting will be done on train and test set')\n",
        "    else: print('Permuting the word order is disabled!')\n",
        "\n",
        "    losses, dev_accuracy, test_accuracy = [], [], []\n",
        "    for i in tqdm(range(n_sims)):\n",
        "      model = model_generator(**model_generator_kwargs)\n",
        "      optimizer = optimizer_generator(model)\n",
        "      batch_loss, batch_dev_acc, best_model , best_params = self.train_model(model, optimizer, train_data = train, dev_data = dev, test_data=test, num_iterations=n_iter,\n",
        "                                                            print_every=print_each, eval_every=eval_each, batch_fn=batch_fun, prep_fn=prep_fun,\n",
        "                                                            eval_fn=eval_fun, batch_size=batch_sizes, eval_batch_size=eval_batch_sizes,\n",
        "                                                           permute = permute, permute_only_train=permute_only_train, verbose=verb, early_stop=stop_factor)\n",
        "      test_acc = [best_params[2]]\n",
        "      #print('test acc with simple eval: ', test_acc)\n",
        "\n",
        "\n",
        "      '''self,model, data, prep_fn=prepare_example, **kwargs)'''\n",
        "      if not eval_fun_sentence_length == None:\n",
        "        _,_,test_acc_for_sentence_lengths = eval_fun_sentence_length(best_model, test_data,\n",
        "                                                                 batch_size=batch_sizes,batch_fn=batch_fun, prep_fn=prep_fun)\n",
        "        #print('test acc with sentence eval: ', total)\n",
        "        test_acc.append(test_acc_for_sentence_lengths)\n",
        "\n",
        "      losses.append(batch_loss)\n",
        "      dev_accuracy.append(batch_dev_acc)\n",
        "      test_accuracy.append(test_acc)\n",
        "\n",
        "    #if not any(isinstance(i, np.ma.core.MaskedArray) for i in test_acc):\n",
        "    print('--'*5,'Printing test accuracies using best model parameters','--'*5)\n",
        "    print('Test accuracy={:.3f}{}{:.4f}'.format(np.mean([i[0] for i in test_accuracy]),' +- ',np.std([i[0] for i in test_accuracy])))\n",
        "    return losses, dev_accuracy, test_accuracy\n",
        "\n",
        "\n",
        "  def plot_results(self, params, eval_every, print_every, filename=None):\n",
        "\n",
        "    losses, dev_acc, test_acc = params\n",
        "    if len(test_acc[0])==1:\n",
        "      r, c = 1, 3\n",
        "      test_acc_simple = [i[0] for i in test_acc]\n",
        "      plt.figure(figsize=(18, 6))\n",
        "\n",
        "    else:\n",
        "      r, c = 2, 2\n",
        "      test_acc_simple, test_acc_sentence_length = [i[0] for i in test_acc], [i[1] for i in test_acc]\n",
        "      plt.figure(figsize=(12, 12))\n",
        "\n",
        "\n",
        "    plt.subplot(r, c, 1)\n",
        "    plt.grid(alpha=0.6)\n",
        "\n",
        "    for run in losses:\n",
        "        plt.plot(run)\n",
        "    plt.xlabel(\"Steps (\"+ \"$x$\"+\" {})\".format(print_every))\n",
        "    plt.ylabel(\"Training Loss\")\n",
        "\n",
        "    plt.subplot(r, c, 2)\n",
        "    plt.grid(alpha=0.6)\n",
        "    for run in dev_acc:\n",
        "        plt.plot(run)\n",
        "    plt.xlabel(\"Steps (\"+ \"$x$\"+\" {})\".format(eval_every))\n",
        "    plt.ylabel(\"Validation Accuracy\")\n",
        "\n",
        "    ax = plt.subplot(r,c,3)\n",
        "    ax.grid(alpha=0.6)\n",
        "    ax.set_xticks([1])\n",
        "    ax.set_xticklabels([''])\n",
        "    ax.violinplot(test_acc_simple,showmeans=True)\n",
        "    ax.set_ylabel(\"Test Accuracy\")\n",
        "\n",
        "    if r*c==4:\n",
        "      mean = np.mean(np.stack(test_acc_sentence_length), axis=0)\n",
        "      std = np.std(np.stack(test_acc_sentence_length), axis=0)\n",
        "      plt.subplot(r,c,4)\n",
        "      plt.grid(alpha=0.6)\n",
        "      plt.plot(mean)\n",
        "      plt.fill_between(range(len(mean)), mean - std, mean + std, alpha=0.2)\n",
        "      plt.xlabel(\"Sentence length\")\n",
        "      plt.ylabel(\"Test Accuracy\")\n",
        "\n",
        "    if filename is not None:\n",
        "        plt.savefig(filename, dpi=400)\n",
        "\n",
        "  # define a separate plotting function that will be used to plot all the model results\n",
        "\n",
        "  def plot_all(self, params, print_means=False):\n",
        "    #params: list of lists that contains all model results\n",
        "    #         each element of the list has the form: ({model name: [dev accuracies]},{model name:[test accuracies]})- a tuple of two dictionaries\n",
        "\n",
        "    test = {}\n",
        "    plt.figure(figsize=(12, 6))\n",
        "    cycle = plt.rcParams['axes.prop_cycle'].by_key()['color']\n",
        "    for i, results in enumerate(params):\n",
        "      dev_acc, test_acc = results\n",
        "      test.update(test_acc)\n",
        "      model = list(dev_acc.keys())[0]\n",
        "      samples_per_eval = dev_acc['samples_per_eval']\n",
        "      for j, dev in enumerate(dev_acc[model]):\n",
        "        plt.plot(range(0, samples_per_eval*len(dev), samples_per_eval), dev, color=cycle[i], label=(model if j==0 else None))\n",
        "\n",
        "\n",
        "    plt.grid(alpha=0.5)\n",
        "    plt.legend()\n",
        "    plt.xlim(left=1e3)\n",
        "    plt.xscale('log')\n",
        "    plt.xlabel(\"No. of samples\",fontsize='large')\n",
        "    plt.ylabel(\"Validation Accuracy\",fontsize='large')\n",
        "    plt.tight_layout()\n",
        "    plt.savefig(\"all_dev.png\",dpi=400)\n",
        "    plt.show()\n",
        "\n",
        "\n",
        "    ## plot the test accuracies\n",
        "    length = len(list(test.values())[0])\n",
        "    keys = list(test.keys())\n",
        "    Model = [val for val in keys for _ in range(length)]\n",
        "    vals = []\n",
        "    for i in list(test.values()):\n",
        "        for j in i:\n",
        "            vals.append(j)\n",
        "\n",
        "    accuracy_df = pd.DataFrame({'Models':Model, 'Test Accuracy':vals})\n",
        "    fig, ax = plt.subplots(figsize=(9,6))\n",
        "    ax.grid(alpha=0.5)\n",
        "    ax = sns.violinplot(x=\"Models\", y=\"Test Accuracy\", data=accuracy_df)\n",
        "    ax.set_xlabel(xlabel='Models',fontsize='large')\n",
        "    ax.set_ylabel(ylabel='Test Accuracy',fontsize='large')\n",
        "    ax.set_xticklabels(ax.get_xticklabels(), rotation=30, ha=\"right\")\n",
        "    plt.savefig(\"all_test.png\",dpi=400)\n",
        "    plt.show()\n",
        "\n",
        "\n",
        "\n",
        "    if print_means:\n",
        "      fig = plt.figure()\n",
        "      ax = plt.subplot(111)\n",
        "      cycle = plt.rcParams['axes.prop_cycle'].by_key()['color']\n",
        "      cols = 0\n",
        "      for i, results in enumerate(params):\n",
        "        cols += 1\n",
        "        dev_acc, test_acc = results\n",
        "        model = list(dev_acc.keys())[0]\n",
        "        samples_per_eval = dev_acc['samples_per_eval']\n",
        "        min_len = min([len(x) for x in dev_acc[model]])\n",
        "        mean_dev_acc = np.mean(np.stack([x[:min_len] for x in dev_acc[model]], axis=0), axis=0)\n",
        "        std_dev_acc = np.std(np.stack([x[:min_len] for x in dev_acc[model]], axis=0), axis=0)\n",
        "\n",
        "        ax.plot(range(0, samples_per_eval * min_len, samples_per_eval), mean_dev_acc, label=model, color=cycle[i])\n",
        "        ax.fill_between(range(0, samples_per_eval * min_len, samples_per_eval), mean_dev_acc-std_dev_acc, mean_dev_acc+std_dev_acc, color=cycle[i], alpha=.5)\n",
        "\n",
        "\n",
        "      box = ax.get_position()\n",
        "      ax.set_position([box.x0, box.y0 + box.height * 0.1,\n",
        "                      box.width, box.height * 0.9])\n",
        "\n",
        "      # Put a legend below current axis\n",
        "      ax.legend(loc='upper center', bbox_to_anchor=(0.5, -0.17),\n",
        "                fancybox=True, shadow=True, ncol=int(cols/2))\n",
        "\n",
        "      #plt.legend(loc='upper center', bbox_to_anchor=(0.5, -0.05),ncol= cols, fontsize='small')\n",
        "      ax.set_xlim(left=1e3)\n",
        "      ax.set_xscale('log')\n",
        "      ax.set_xlabel(\"No. of samples\",fontsize='large')\n",
        "      ax.set_ylabel(\"Validation Accuracy\",fontsize='large')\n",
        "      ax.grid(alpha=0.3)\n",
        "      #plt.tight_layout()\n",
        "      plt.savefig(\"all_dev_means.png\",dpi=400)\n",
        "      plt.show()"
      ]
    },
    {
      "cell_type": "code",
      "source": [
        "%pwd\n",
        "%cd C:\\Users\\manol\\Desktop\\Lenovo Files\\UvA 2021-2022\\NLP_1\\"
      ],
      "metadata": {
        "colab": {
          "base_uri": "https://localhost:8080/"
        },
        "id": "hZxyO1xtcvdO",
        "outputId": "bd3630e8-74a9-451f-8de4-729365f621e6"
      },
      "execution_count": null,
      "outputs": [
        {
          "output_type": "stream",
          "name": "stdout",
          "text": [
            "[Errno 2] No such file or directory: 'C:UsersmanolDesktopLenovo FilesUvA 2021-2022NLP_1'\n",
            "/content\n"
          ]
        }
      ]
    },
    {
      "cell_type": "code",
      "execution_count": null,
      "metadata": {
        "colab": {
          "base_uri": "https://localhost:8080/"
        },
        "id": "TovFkDTgE_d6",
        "outputId": "7774633c-69ef-42c1-86b4-324768f8df22"
      },
      "outputs": [
        {
          "output_type": "stream",
          "name": "stdout",
          "text": [
            "--2021-12-14 17:34:32--  http://nlp.stanford.edu/sentiment/trainDevTestTrees_PTB.zip\n",
            "Resolving nlp.stanford.edu (nlp.stanford.edu)... 171.64.67.140\n",
            "Connecting to nlp.stanford.edu (nlp.stanford.edu)|171.64.67.140|:80... connected.\n",
            "HTTP request sent, awaiting response... 302 Found\n",
            "Location: https://nlp.stanford.edu/sentiment/trainDevTestTrees_PTB.zip [following]\n",
            "--2021-12-14 17:34:33--  https://nlp.stanford.edu/sentiment/trainDevTestTrees_PTB.zip\n",
            "Connecting to nlp.stanford.edu (nlp.stanford.edu)|171.64.67.140|:443... connected.\n",
            "HTTP request sent, awaiting response... 200 OK\n",
            "Length: 789539 (771K) [application/zip]\n",
            "Saving to: ‘trainDevTestTrees_PTB.zip’\n",
            "\n",
            "trainDevTestTrees_P 100%[===================>] 771.03K   740KB/s    in 1.0s    \n",
            "\n",
            "2021-12-14 17:34:34 (740 KB/s) - ‘trainDevTestTrees_PTB.zip’ saved [789539/789539]\n",
            "\n",
            "Archive:  trainDevTestTrees_PTB.zip\n",
            "   creating: trees/\n",
            "  inflating: trees/dev.txt           \n",
            "  inflating: trees/test.txt          \n",
            "  inflating: trees/train.txt         \n"
          ]
        }
      ],
      "source": [
        "!wget http://nlp.stanford.edu/sentiment/trainDevTestTrees_PTB.zip\n",
        "!unzip trainDevTestTrees_PTB.zip"
      ]
    },
    {
      "cell_type": "markdown",
      "metadata": {
        "id": "yP_jpquiprH8"
      },
      "source": [
        "Let's look at a data point. It is a **flattened binary tree**, with sentiment scores at every node, and words as the leaves (or *terminal nodes*)."
      ]
    },
    {
      "cell_type": "code",
      "execution_count": null,
      "metadata": {
        "id": "WsD_0_Xo5e9a"
      },
      "outputs": [],
      "source": [
        "utils = Utility()"
      ]
    },
    {
      "cell_type": "code",
      "execution_count": null,
      "metadata": {
        "colab": {
          "base_uri": "https://localhost:8080/"
        },
        "id": "ylkIopm0QJML",
        "outputId": "c87b915f-bcd4-4be7-9de3-b5f10e3e52a0"
      },
      "outputs": [
        {
          "output_type": "stream",
          "name": "stdout",
          "text": [
            "(3 (2 It) (4 (4 (2 's) (4 (3 (2 a) (4 (3 lovely) (2 film))) (3 (2 with) (4 (3 (3 lovely) (2 performances)) (2 (2 by) (2 (2 (2 Buy) (2 and)) (2 Accorsi))))))) (2 .)))\n"
          ]
        }
      ],
      "source": [
        "s = next(utils.filereader('trees/dev.txt'))\n",
        "print(s)"
      ]
    },
    {
      "cell_type": "code",
      "execution_count": null,
      "metadata": {
        "colab": {
          "base_uri": "https://localhost:8080/"
        },
        "id": "7_U7HTFwdrWt",
        "outputId": "a32bfc91-2a4c-472c-ae7f-a93c0c69c6f7"
      },
      "outputs": [
        {
          "output_type": "stream",
          "name": "stdout",
          "text": [
            "              3                                                                     \n",
            "  ____________|____________________                                                  \n",
            " |                                 4                                                \n",
            " |        _________________________|______________________________________________   \n",
            " |       4                                                                        | \n",
            " |    ___|______________                                                          |  \n",
            " |   |                  4                                                         | \n",
            " |   |         _________|__________                                               |  \n",
            " |   |        |                    3                                              | \n",
            " |   |        |               _____|______________________                        |  \n",
            " |   |        |              |                            4                       | \n",
            " |   |        |              |            ________________|_______                |  \n",
            " |   |        |              |           |                        2               | \n",
            " |   |        |              |           |                 _______|___            |  \n",
            " |   |        3              |           |                |           2           | \n",
            " |   |    ____|_____         |           |                |        ___|_____      |  \n",
            " |   |   |          4        |           3                |       2         |     | \n",
            " |   |   |     _____|___     |      _____|_______         |    ___|___      |     |  \n",
            " 2   2   2    3         2    2     3             2        2   2       2     2     2 \n",
            " |   |   |    |         |    |     |             |        |   |       |     |     |  \n",
            " It  's  a  lovely     film with lovely     performances  by Buy     and Accorsi  . \n",
            "\n"
          ]
        }
      ],
      "source": [
        "# We can use NLTK to better visualise the tree structure of the sentence\n",
        "tree = Tree.fromstring(s)\n",
        "print(TreePrettyPrinter(tree))"
      ]
    },
    {
      "cell_type": "markdown",
      "metadata": {
        "id": "ekAWKsji9t93"
      },
      "source": [
        "The sentiment scores range from 0 (very negative) to 5 (very positive). Again, as you can see, every node in the tree is labeled with a sentiment score. For now, we will only use the score at the **root node**, i.e., the sentiment score for the complete sentence."
      ]
    },
    {
      "cell_type": "code",
      "execution_count": null,
      "metadata": {
        "colab": {
          "base_uri": "https://localhost:8080/"
        },
        "id": "DKynLm0xPKr2",
        "outputId": "038e1f77-963a-41de-f5c5-392a9c9b1ecc"
      },
      "outputs": [
        {
          "output_type": "stream",
          "name": "stdout",
          "text": [
            "['It', \"'s\", 'a', 'lovely', 'film', 'with', 'lovely', 'performances', 'by', 'Buy', 'and', 'Accorsi', '.']\n",
            "13\n"
          ]
        }
      ],
      "source": [
        "# Let's first make a function that extracts the tokens (the leaves).\n",
        "\n",
        "# let's try it on our example tree\n",
        "tokens = utils.tokens_from_treestring(s)\n",
        "print(tokens)\n",
        "print(len(tokens))"
      ]
    },
    {
      "cell_type": "markdown",
      "metadata": {
        "id": "B8vFkeqN-NLP"
      },
      "source": [
        "> *Warning: you could also parse a treestring using NLTK and ask it to return the leaves, but there seems to be an issue with NLTK not always correctly parsing the input, so do not rely on it.*"
      ]
    },
    {
      "cell_type": "code",
      "execution_count": null,
      "metadata": {
        "id": "Akr9K_Mv4dym"
      },
      "outputs": [],
      "source": [
        "# We will also need the following function, but you can ignore this for now.\n",
        "# It is explained later on."
      ]
    },
    {
      "cell_type": "code",
      "execution_count": null,
      "metadata": {
        "colab": {
          "base_uri": "https://localhost:8080/"
        },
        "id": "mNtPdlwPgRat",
        "outputId": "ba027072-3e6e-4ce8-8529-2c3f41b47346"
      },
      "outputs": [
        {
          "output_type": "stream",
          "name": "stdout",
          "text": [
            "trees/train.txt  8544\n",
            "trees/dev.txt    1101\n",
            "trees/test.txt   2210\n"
          ]
        }
      ],
      "source": [
        "# Now let's first see how large our data sets are.\n",
        "for path in (\"trees/train.txt\", \"trees/dev.txt\", \"trees/test.txt\"):\n",
        "  print(\"{:16s} {:4d}\".format(path, sum(1 for _ in utils.filereader(path))))"
      ]
    },
    {
      "cell_type": "markdown",
      "metadata": {
        "id": "HexlSqTR_UrY"
      },
      "source": [
        "You can see that the number of sentences is not very large. That's probably because the data set required so much manual annotation. However, it is large enough to train a neural network on."
      ]
    },
    {
      "cell_type": "markdown",
      "metadata": {
        "id": "IfRjelOcsXuC"
      },
      "source": [
        "It will be useful to store each data example in an `Example` object,\n",
        "containing everything that we may need for each data point.\n",
        "It will contain the tokens, the tree, the top-level sentiment label, and\n",
        "the transitions (explained later)."
      ]
    },
    {
      "cell_type": "code",
      "execution_count": null,
      "metadata": {
        "colab": {
          "base_uri": "https://localhost:8080/"
        },
        "id": "4I07Hb_-q8wg",
        "outputId": "1163374e-df13-494b-ac9c-fa1501c709fc"
      },
      "outputs": [
        {
          "output_type": "stream",
          "name": "stdout",
          "text": [
            "train 8544\n",
            "dev 1101\n",
            "test 2210\n"
          ]
        }
      ],
      "source": [
        "train_data, dev_data, test_data = utils.get_train_test_dev()\n",
        "print(\"train\", len(train_data))\n",
        "print(\"dev\", len(dev_data))\n",
        "print(\"test\", len(test_data))"
      ]
    },
    {
      "cell_type": "markdown",
      "metadata": {
        "id": "6KM0bDyeVZtP"
      },
      "source": [
        "Let's check out an `Example` object."
      ]
    },
    {
      "cell_type": "code",
      "execution_count": null,
      "metadata": {
        "colab": {
          "base_uri": "https://localhost:8080/"
        },
        "id": "J8mwcaZwxP1c",
        "outputId": "3a358878-f2cb-4506-a58b-d558ff3f3178"
      },
      "outputs": [
        {
          "output_type": "stream",
          "name": "stdout",
          "text": [
            "First example: Example(tokens=['It', \"'s\", 'a', 'lovely', 'film', 'with', 'lovely', 'performances', 'by', 'Buy', 'and', 'Accorsi', '.'], tree=Tree('3', [Tree('2', ['It']), Tree('4', [Tree('4', [Tree('2', [\"'s\"]), Tree('4', [Tree('3', [Tree('2', ['a']), Tree('4', [Tree('3', ['lovely']), Tree('2', ['film'])])]), Tree('3', [Tree('2', ['with']), Tree('4', [Tree('3', [Tree('3', ['lovely']), Tree('2', ['performances'])]), Tree('2', [Tree('2', ['by']), Tree('2', [Tree('2', [Tree('2', ['Buy']), Tree('2', ['and'])]), Tree('2', ['Accorsi'])])])])])])]), Tree('2', ['.'])])]), label=3, transitions=[0, 0, 0, 0, 0, 1, 1, 0, 0, 0, 1, 0, 0, 0, 1, 0, 1, 1, 1, 1, 1, 1, 0, 1, 1])\n",
            "First example tokens: ['It', \"'s\", 'a', 'lovely', 'film', 'with', 'lovely', 'performances', 'by', 'Buy', 'and', 'Accorsi', '.']\n",
            "First example label: 3\n"
          ]
        }
      ],
      "source": [
        "example = dev_data[0]\n",
        "print(\"First example:\", example)\n",
        "print(\"First example tokens:\", example.tokens)\n",
        "print(\"First example label:\",  example.label)"
      ]
    },
    {
      "cell_type": "markdown",
      "metadata": {
        "id": "-WDSprDBVcr-"
      },
      "source": [
        "#### Vocabulary\n",
        "A first step in most NLP tasks is collecting all the word types that appear in the data into a vocabulary, and counting the frequency of their occurrences. On the one hand, this will give us an overview of the word distribution of the data set (what are the most frequent words, how many rare words are there, ...). On the other hand, we will also use the vocabulary to map each word to a unique numeric ID, which is a more handy index than a string."
      ]
    },
    {
      "cell_type": "code",
      "execution_count": null,
      "metadata": {
        "id": "zLJQsg-Q6NRU"
      },
      "outputs": [],
      "source": [
        "class OrderedCounter(Counter, OrderedDict):\n",
        "  \"\"\"Counter that remembers the order elements are first seen\"\"\"\n",
        "  def __repr__(self):\n",
        "    return '%s(%r)' % (self.__class__.__name__,\n",
        "                      OrderedDict(self))\n",
        "  def __reduce__(self):\n",
        "    return self.__class__, (OrderedDict(self),)\n",
        "\n",
        "\n",
        "class Vocabulary:\n",
        "  \"\"\"A vocabulary, assigns IDs to tokens\"\"\"\n",
        "\n",
        "  def __init__(self):\n",
        "    self.freqs = OrderedCounter()\n",
        "    self.w2i = {}\n",
        "    self.i2w = []\n",
        "\n",
        "  def count_token(self, t):\n",
        "    self.freqs[t] += 1\n",
        "\n",
        "  def add_token(self, t):\n",
        "    self.w2i[t] = len(self.w2i)\n",
        "    self.i2w.append(t)\n",
        "\n",
        "  def build(self, min_freq=0):\n",
        "    '''\n",
        "    min_freq: minimum number of occurrences for a word to be included\n",
        "              in the vocabulary\n",
        "    '''\n",
        "    self.add_token(\"<unk>\")  # reserve 0 for <unk> (unknown words)\n",
        "    self.add_token(\"<pad>\")  # reserve 1 for <pad> (discussed later)\n",
        "\n",
        "    tok_freq = list(self.freqs.items())\n",
        "    tok_freq.sort(key=lambda x: x[1], reverse=True)\n",
        "    for tok, freq in tok_freq:\n",
        "      if freq >= min_freq:\n",
        "        self.add_token(tok)"
      ]
    },
    {
      "cell_type": "markdown",
      "metadata": {
        "id": "kOvkH_llVsoW"
      },
      "source": [
        "The vocabulary has by default an `<unk>` token and a `<pad>` token. The `<unk>` token is reserved for all words which do not appear in the training data (and for which, therefore, we cannot learn word representations). The function of the `<pad>` token will be explained later.\n",
        "\n",
        "\n",
        "Let's build the vocabulary!\n"
      ]
    },
    {
      "cell_type": "code",
      "execution_count": null,
      "metadata": {
        "colab": {
          "base_uri": "https://localhost:8080/"
        },
        "id": "GwGQgQQBNUSq",
        "outputId": "82030371-4da0-4450-9525-3d18ba44154d"
      },
      "outputs": [
        {
          "output_type": "stream",
          "name": "stdout",
          "text": [
            "Vocabulary size: 18280\n"
          ]
        }
      ],
      "source": [
        "# This process should be deterministic and should have the same result\n",
        "# if run multiple times on the same data set.\n",
        "v = utils.create_vocab_from_train(train_data)\n",
        "print(\"Vocabulary size:\", len(v.w2i))"
      ]
    },
    {
      "cell_type": "markdown",
      "metadata": {
        "id": "-UNIedPrPdCw"
      },
      "source": [
        "Let's have a closer look at the properties of our vocabulary. Having a good idea of what it is like can facilitate data analysis and debugging later on."
      ]
    },
    {
      "cell_type": "code",
      "execution_count": null,
      "metadata": {
        "colab": {
          "base_uri": "https://localhost:8080/"
        },
        "id": "oJyuogmh0CA7",
        "outputId": "20908d98-1638-4f00-8db7-ff8783fa7578"
      },
      "outputs": [
        {
          "output_type": "execute_result",
          "data": {
            "text/plain": [
              "1973"
            ]
          },
          "metadata": {},
          "execution_count": 16
        }
      ],
      "source": [
        "# What is the ID for \"century?\"\n",
        "v.w2i['century']"
      ]
    },
    {
      "cell_type": "code",
      "execution_count": null,
      "metadata": {
        "colab": {
          "base_uri": "https://localhost:8080/"
        },
        "id": "O8OkPQ8Zv-rI",
        "outputId": "afd5218d-89c8-413e-83ec-a170a78c312e"
      },
      "outputs": [
        {
          "output_type": "execute_result",
          "data": {
            "text/plain": [
              "['<unk>', '<pad>', '.', ',', 'the', 'and', 'a', 'of', 'to', \"'s\"]"
            ]
          },
          "metadata": {},
          "execution_count": 17
        }
      ],
      "source": [
        "# What are the first 10 words in the vocabulary (based on their IDs)?\n",
        "v.i2w[:10]"
      ]
    },
    {
      "cell_type": "code",
      "execution_count": null,
      "metadata": {
        "colab": {
          "base_uri": "https://localhost:8080/"
        },
        "id": "kmXwu02lOLWI",
        "outputId": "2b8d1ab0-bc2f-4353-e563-d9fd21ab55b3"
      },
      "outputs": [
        {
          "output_type": "execute_result",
          "data": {
            "text/plain": [
              "[('.', 8024),\n",
              " (',', 7131),\n",
              " ('the', 6037),\n",
              " ('and', 4431),\n",
              " ('a', 4403),\n",
              " ('of', 4386),\n",
              " ('to', 2995),\n",
              " (\"'s\", 2544),\n",
              " ('is', 2536),\n",
              " ('that', 1915)]"
            ]
          },
          "metadata": {},
          "execution_count": 18
        }
      ],
      "source": [
        "# What are the 10 most common words?\n",
        "v.freqs.most_common(10)"
      ]
    },
    {
      "cell_type": "code",
      "execution_count": null,
      "metadata": {
        "colab": {
          "base_uri": "https://localhost:8080/"
        },
        "id": "__NDPaCeOT_m",
        "outputId": "037a2a8a-ed05-45c1-b4e0-6040c59e9a3b"
      },
      "outputs": [
        {
          "output_type": "stream",
          "name": "stdout",
          "text": [
            "No. of hapax legomena:  9543\n"
          ]
        }
      ],
      "source": [
        "# And how many words are there with frequency 1?\n",
        "# (A fancy name for these is hapax legomena.)\n",
        "print('No. of hapax legomena: ',sum(x == 1 for x in v.freqs.values()))"
      ]
    },
    {
      "cell_type": "code",
      "execution_count": null,
      "metadata": {
        "colab": {
          "base_uri": "https://localhost:8080/"
        },
        "id": "xKHocugctZGM",
        "outputId": "ac7d477e-c541-4896-f1d2-fbf159d88259"
      },
      "outputs": [
        {
          "output_type": "execute_result",
          "data": {
            "text/plain": [
              "['position',\n",
              " 'Watts',\n",
              " 'estrogen',\n",
              " 'wisecracking',\n",
              " 'musings',\n",
              " 'tumbleweeds',\n",
              " 'trounce',\n",
              " 'intellect',\n",
              " 'confrontations',\n",
              " 'courageousness',\n",
              " 'trudge',\n",
              " 'delicate',\n",
              " 'cable-sports',\n",
              " 'prisoner',\n",
              " 'adversity',\n",
              " 'barbed',\n",
              " 'Simone',\n",
              " 'matches',\n",
              " 'natives',\n",
              " 'best']"
            ]
          },
          "metadata": {},
          "execution_count": 19
        }
      ],
      "source": [
        "# Finally 20 random words from the vocabulary.\n",
        "# This is a simple way to get a feeling for the data.\n",
        "# You could use the `choice` function from the already imported `random` package\n",
        "[random.choice(v.i2w) for i in range(20)]"
      ]
    },
    {
      "cell_type": "markdown",
      "metadata": {
        "id": "nGWaZahKV_dH"
      },
      "source": [
        "#### Sentiment label vocabulary"
      ]
    },
    {
      "cell_type": "code",
      "execution_count": null,
      "metadata": {
        "colab": {
          "base_uri": "https://localhost:8080/"
        },
        "id": "AmTC-rvQelpl",
        "outputId": "0db09407-3251-47b7-d4bf-38479ba7cce3"
      },
      "outputs": [
        {
          "output_type": "stream",
          "name": "stdout",
          "text": [
            "['very negative', 'negative', 'neutral', 'positive', 'very positive']\n",
            "very positive\n"
          ]
        }
      ],
      "source": [
        "# Now let's map the sentiment labels 0-4 to a more readable form\n",
        "i2t = [\"very negative\", \"negative\", \"neutral\", \"positive\", \"very positive\"]\n",
        "print(i2t)\n",
        "print(i2t[4])"
      ]
    },
    {
      "cell_type": "code",
      "execution_count": null,
      "metadata": {
        "colab": {
          "base_uri": "https://localhost:8080/"
        },
        "id": "D7UI26DP2dr2",
        "outputId": "b307269c-0871-469b-cabe-6e567592dbf6"
      },
      "outputs": [
        {
          "output_type": "stream",
          "name": "stdout",
          "text": [
            "OrderedDict([('very negative', 0), ('negative', 1), ('neutral', 2), ('positive', 3), ('very positive', 4)])\n",
            "4\n"
          ]
        }
      ],
      "source": [
        "# And let's also create the opposite mapping.\n",
        "# We won't use a Vocabulary for this (although we could), since the labels\n",
        "# are already numeric.\n",
        "t2i = OrderedDict({p : i for p, i in zip(i2t, range(len(i2t)))})\n",
        "print(t2i)\n",
        "print(t2i['very positive'])"
      ]
    },
    {
      "cell_type": "markdown",
      "metadata": {
        "id": "y0067ax54-rd"
      },
      "source": [
        "## PyTorch\n",
        "\n",
        "In Colab notebooks, the last available version of PyTorch is already installed.The current stable version is 1.7.\n",
        "\n",
        "*For installing PyTorch in your own computer, follow the instructions on [pytorch.org](pytorch.org) instead. This is for Google Colab only.*"
      ]
    },
    {
      "cell_type": "code",
      "execution_count": null,
      "metadata": {
        "colab": {
          "base_uri": "https://localhost:8080/"
        },
        "id": "qKQMGtkR5KWr",
        "outputId": "d42929fd-8164-40bd-fa9c-f5b099286652"
      },
      "outputs": [
        {
          "output_type": "stream",
          "name": "stdout",
          "text": [
            "Using torch 1.10.0+cu111\n"
          ]
        }
      ],
      "source": [
        "print(\"Using torch\", torch.__version__) # should say 1.7.0+cu101"
      ]
    },
    {
      "cell_type": "code",
      "execution_count": null,
      "metadata": {
        "colab": {
          "base_uri": "https://localhost:8080/"
        },
        "id": "BYt8uTyGCKc7",
        "outputId": "76803289-4a3c-4998-cc56-9f04f9cc49e7"
      },
      "outputs": [
        {
          "output_type": "execute_result",
          "data": {
            "text/plain": [
              "device(type='cuda')"
            ]
          },
          "metadata": {},
          "execution_count": 23
        }
      ],
      "source": [
        "# PyTorch can run on CPU or on Nvidia GPU (video card) using CUDA\n",
        "# This cell selects the GPU if one is available.\n",
        "device = torch.device('cuda' if torch.cuda.is_available() else 'cpu')\n",
        "device"
      ]
    },
    {
      "cell_type": "code",
      "execution_count": null,
      "metadata": {
        "id": "2d1VMOOYx1Bw"
      },
      "outputs": [],
      "source": [
        "# Seed manually to make runs reproducible\n",
        "# You need to set this again if you do multiple runs of the same model\n",
        "torch.manual_seed(42)\n",
        "\n",
        "# When running on the CuDNN backend two further options must be set for reproducibility\n",
        "if torch.cuda.is_available():\n",
        "  torch.backends.cudnn.deterministic = True\n",
        "  torch.backends.cudnn.benchmark = False"
      ]
    },
    {
      "cell_type": "markdown",
      "metadata": {
        "id": "uWBTzkuE3CtZ"
      },
      "source": [
        "# BOW"
      ]
    },
    {
      "cell_type": "markdown",
      "metadata": {
        "id": "TBAjYYySOA5W"
      },
      "source": [
        "Our first model is a rather simple neural **bag-of-words (BOW) model**.\n",
        "Unlike the bag-of-words model that you used in the previous lab, where we would look at the presence / frequency of words in a text, here we associate each word with a multi-dimensional vector which expresses what sentiment is conveyed by the word. In particular, our BOW vectors will be of size 5, exactly our number of sentiment classes.\n",
        "\n",
        "To classify a sentence, we **sum** the vectors of the words in the sentence and a bias vector. Because we sum the vectors, we lose word order: that's why we call this a neural bag-of-words model.\n",
        "\n",
        "```\n",
        "this   [0.0, 0.1, 0.1, 0.1, 0.0]\n",
        "movie  [0.0, 0.1, 0.1, 0.2, 0.1]\n",
        "is     [0.0, 0.1, 0.0, 0.0, 0.0]\n",
        "stupid [0.9, 0.5, 0.1, 0.0, 0.0]\n",
        "\n",
        "bias   [0.0, 0.0, 0.0, 0.0, 0.0]\n",
        "--------------------------------\n",
        "sum    [0.9, 0.8, 0.3, 0.3, 0.1]\n",
        "\n",
        "argmax: 0 (very negative)\n",
        "```\n",
        "\n",
        "The **argmax** of this sum is our predicted label.\n",
        "\n",
        "We initialize all vectors *randomly* and train them using cross-entropy loss."
      ]
    },
    {
      "cell_type": "markdown",
      "metadata": {
        "id": "rLtBAIQGynkB"
      },
      "source": [
        "#### Model class"
      ]
    },
    {
      "cell_type": "code",
      "execution_count": null,
      "metadata": {
        "id": "ewyph1He6vnm"
      },
      "outputs": [],
      "source": [
        "class BOW(nn.Module):\n",
        "  \"\"\"A simple bag-of-words model\"\"\"\n",
        "\n",
        "  def __init__(self, vocab_size, embedding_dim, vocab):\n",
        "    super(BOW, self).__init__()\n",
        "    self.vocab = vocab\n",
        "\n",
        "    # this is a trainable look-up table with word embeddings\n",
        "    self.embed = nn.Embedding(vocab_size, embedding_dim)\n",
        "\n",
        "    # this is a trainable bias term\n",
        "    self.bias = nn.Parameter(torch.zeros(embedding_dim), requires_grad=True)\n",
        "\n",
        "  def forward(self, inputs):\n",
        "    # this is the forward pass of the neural network\n",
        "    # it applies a function to the input and returns the output\n",
        "\n",
        "    # this looks up the embeddings for each word ID in inputs\n",
        "    # the result is a sequence of word embeddings\n",
        "    embeds = self.embed(inputs)\n",
        "\n",
        "    # the output is the sum across the time dimension (1)\n",
        "    # with the bias term added\n",
        "    logits = embeds.sum(1) + self.bias\n",
        "\n",
        "    return logits"
      ]
    },
    {
      "cell_type": "code",
      "execution_count": null,
      "metadata": {
        "colab": {
          "base_uri": "https://localhost:8080/"
        },
        "id": "eKHvBnoBAr6z",
        "outputId": "8c295889-0b03-4009-f6e0-257f6166e072"
      },
      "outputs": [
        {
          "output_type": "stream",
          "name": "stdout",
          "text": [
            "BOW(\n",
            "  (embed): Embedding(18280, 5)\n",
            ")\n"
          ]
        }
      ],
      "source": [
        "# Let's create a model.\n",
        "vocab_size = len(v.w2i)\n",
        "n_classes = len(t2i)\n",
        "bow_model = BOW(vocab_size, n_classes, v)\n",
        "print(bow_model)"
      ]
    },
    {
      "cell_type": "markdown",
      "metadata": {
        "id": "vfCx-HvMH1qQ"
      },
      "source": [
        "> **Hey, wait, where is the bias vector?**\n",
        "> PyTorch does not print Parameters, only Modules!\n",
        "\n",
        "> We can print it ourselves though, to check that it is there."
      ]
    },
    {
      "cell_type": "code",
      "execution_count": null,
      "metadata": {
        "colab": {
          "base_uri": "https://localhost:8080/"
        },
        "id": "Fhvk5HenAroT",
        "outputId": "ef1ae5af-ea2e-4477-fcfb-748ff9f427c9"
      },
      "outputs": [
        {
          "output_type": "stream",
          "name": "stdout",
          "text": [
            "bias                     [5]          requires_grad=True\n",
            "embed.weight             [18280, 5]   requires_grad=True\n",
            "\n",
            "Total number of parameters: 91405\n",
            "\n"
          ]
        }
      ],
      "source": [
        "# Here we print each parameter name, shape, and if it is trainable.\n",
        "utils.print_parameters(bow_model)"
      ]
    },
    {
      "cell_type": "markdown",
      "metadata": {
        "id": "WSAw292WxuP4"
      },
      "source": [
        "#### Preparing an example for input\n",
        "\n",
        "To feed sentences to our PyTorch model, we need to convert a sequence of tokens to a sequence of IDs. The `prepare_example` function below takes care of this for us. We then use these IDs as indices for the word embedding table."
      ]
    },
    {
      "cell_type": "code",
      "execution_count": null,
      "metadata": {
        "colab": {
          "base_uri": "https://localhost:8080/"
        },
        "id": "sfbdv9px3uFF",
        "outputId": "eb183998-7e8c-4fcb-fbf3-ad81040af403"
      },
      "outputs": [
        {
          "output_type": "stream",
          "name": "stdout",
          "text": [
            "x: tensor([[  28,    9,    6,  998,   16,   18,  998,  135,   32, 7688,    5,    0,\n",
            "            2]], device='cuda:0')\n",
            "y: tensor([3], device='cuda:0')\n"
          ]
        }
      ],
      "source": [
        "x, y = utils.prepare_example(dev_data[0], v)\n",
        "print('x:', x)\n",
        "print('y:', y)"
      ]
    },
    {
      "cell_type": "code",
      "execution_count": null,
      "metadata": {
        "colab": {
          "base_uri": "https://localhost:8080/"
        },
        "id": "PlDsTUhzv9aO",
        "outputId": "2e3a9e93-6902-43d1-e198-dedb86c8671d"
      },
      "outputs": [
        {
          "output_type": "stream",
          "name": "stdout",
          "text": [
            "x: tensor([[ 998,    2,    6,   16,    0,   28,    9,  135,  998, 7688,    5,   18,\n",
            "           32]], device='cuda:0')\n",
            "y: tensor([3], device='cuda:0')\n"
          ]
        }
      ],
      "source": [
        "x, y = utils.prepare_example(dev_data[0], v, True)\n",
        "print('x:', x)\n",
        "print('y:', y)"
      ]
    },
    {
      "cell_type": "markdown",
      "metadata": {
        "id": "oKNQjEc0yXnJ"
      },
      "source": [
        "#### Evaluation\n",
        "We now need to define an evaluation metric.\n",
        "How many predictions do we get right? The accuracy will tell us.\n",
        "Make sure that you understand this code block.\n"
      ]
    },
    {
      "cell_type": "markdown",
      "metadata": {
        "id": "5KlIGFXllWWm"
      },
      "source": [
        "We are using accuracy as a handy evaluation metric. Please consider using [alternative metrics](https://scikit-learn.org/stable/modules/classes.html#classification-metrics) for your experiments if that makes more theoretical sense (see, e.g., Q3.3 in Practical 1)."
      ]
    },
    {
      "cell_type": "markdown",
      "metadata": {
        "id": "dIk6OtSdzGRP"
      },
      "source": [
        "#### Example feed\n",
        "For stochastic gradient descent (SGD) we will need a random training example for every update.\n",
        "We implement this by shuffling the training data and returning examples one by one using `yield`.\n",
        "\n",
        "Shuffling is optional so that we get to use this function to get validation and test examples, too."
      ]
    },
    {
      "cell_type": "markdown",
      "metadata": {
        "id": "g09SM8yb2cjx"
      },
      "source": [
        "#### Exercise: Training function\n",
        "\n",
        "Your task is now to complete the training loop below.\n",
        "Before you do so, please read the section about optimisation."
      ]
    },
    {
      "cell_type": "markdown",
      "metadata": {
        "id": "TVfUukVdM_1c"
      },
      "source": [
        "**Optimisation**\n",
        "\n",
        "As mentioned in the \"Intro to PyTorch\" notebook, one of the perks of using PyTorch is automatic differentiation. We will use it to train our BOW model.\n",
        "\n",
        "We train our model by feeding it an input, performing a **forward** pass, obtaining an output prediction, and calculating a **loss** with our loss function.\n",
        "After the gradients are computed in the **backward** pass, we can take a step on the surface of the loss function towards more optimal parameter settings (gradient descent).\n",
        "\n",
        "The package we will use to do this optimisation is [torch.optim](https://pytorch.org/docs/stable/optim.html)."
      ]
    },
    {
      "cell_type": "markdown",
      "metadata": {
        "id": "wGIvcTZU_Cez"
      },
      "source": [
        "Besides implementations of stochastic gradient descent (SGD), this package also implements the optimisation algorithm Adam, which we'll be using in this practical.\n",
        "For the purposes of this assignment you do not need to know what Adam does besides that it uses gradient information to update our model parameters by calling:\n",
        "\n",
        "```\n",
        "optimizer.step()\n",
        "```\n",
        "Remember when we updated our parameters in the PyTorch tutorial in a loop?\n",
        "\n",
        "\n",
        "```python\n",
        "# update weights\n",
        "learning_rate = 0.5\n",
        "for f in net.parameters():\n",
        "    # for each parameter, take a small step in the opposite dir of the gradient\n",
        "    p.data = p.data - p.grad.data * learning_rate\n",
        "\n",
        "```\n",
        "The function call optimizer.step() does effectively the same thing.\n",
        "\n",
        "*(If you want to know more about optimisation algorithms using gradient information, [this blog](http://ruder.io/optimizing-gradient-descent/.) gives a nice intuitive overview.)*"
      ]
    },
    {
      "cell_type": "code",
      "execution_count": null,
      "metadata": {
        "id": "dz4qBcniMu8f"
      },
      "outputs": [],
      "source": [
        "class Train():\n",
        "\n",
        "  def __init__(self, model ='LSTM', use_pt_embed=False , permute=False, permute_only_train=False,\n",
        "               create_subtrees=False, sentence_length_evaluate = False, childsum=False, embed_path ='./googlenews.word2vec.300d.txt',\n",
        "               num_simulations= 5, num_iterations =30000, batch_size=25, hidden_dim =150, embed_dim=300,\n",
        "               eval_every=1000, print_every=1000, stop_factor=2, learning_rate=3e-4, verbose=False, filename_plot=None):\n",
        "\n",
        "    self.model = model\n",
        "    self.use_pt_embed = use_pt_embed\n",
        "    self.permute = permute\n",
        "    self.permute_only_train = permute_only_train\n",
        "    self.create_subtrees = create_subtrees\n",
        "    self.childsum = childsum\n",
        "    self.embed_path = embed_path\n",
        "    self.num_simulations = num_simulations\n",
        "    self.num_iterations = num_iterations\n",
        "    self.batch_size = batch_size\n",
        "    self.hidden_dim = hidden_dim\n",
        "    self.embed_dim = embed_dim\n",
        "    self.eval_every = eval_every\n",
        "    self.print_every = print_every\n",
        "    self.stop_factor = stop_factor\n",
        "    self.learning_rate = learning_rate\n",
        "    self.verbose = verbose\n",
        "    self.sentence_length_evaluate = sentence_length_evaluate\n",
        "    self.filename_plot = filename_plot\n",
        "    self.Results = self.train()\n",
        "\n",
        "\n",
        "  def train(self):\n",
        "    #create a Utility instance which contains all the utility functions\n",
        "    utils = Utility()\n",
        "    device = torch.device('cuda' if torch.cuda.is_available() else 'cpu')\n",
        "\n",
        "    print('Training a {} model.'.format(self.model))\n",
        "    # Print device\n",
        "    print('Device: {}'.format(device))\n",
        "\n",
        "    # load data\n",
        "    print('Loading data...')\n",
        "    print('Creating subtrees!' if self.create_subtrees else '')\n",
        "    train_data, dev_data, test_data = utils.get_train_test_dev(create_subtrees=self.create_subtrees)\n",
        "\n",
        "    ####\n",
        "\n",
        "    # load vocabulary and embedding\n",
        "    if self.use_pt_embed:\n",
        "      if self.embed_path=='./googlenews.word2vec.300d.txt': pt_str='W2V'\n",
        "      else: pt_str='Glove'\n",
        "      print('\\nCreating vocabulary from pretrained embeddings {}...'.format(pt_str))\n",
        "      v_pt, vectors = utils.create_pretrained_vocab_emb(self.embed_path)\n",
        "\n",
        "    else:\n",
        "        print('\\nCreating vocabulary from training data...')\n",
        "        v = utils.create_vocab_from_train(train_data)\n",
        "\n",
        "    # set sentiment dict\n",
        "    i2t = [\"very negative\", \"negative\", \"neutral\", \"positive\", \"very positive\"]\n",
        "    t2i = OrderedDict({p : i for p, i in zip(i2t, range(len(i2t)))})\n",
        "\n",
        "\n",
        "    if self.model == 'LSTM':\n",
        "      samples_per_eval = self.eval_every * self.batch_size\n",
        "      if not self.use_pt_embed:\n",
        "        raise NotImplementedError\n",
        "\n",
        "      lstm_kwargs = {'v_pt':v_pt, 'embed_vectors':vectors, 'embed_dim':vectors.shape[1],\n",
        "                     'hidden_dim':self.hidden_dim, 'output_dim':len(t2i)}\n",
        "\n",
        "      results = utils.simulator(utils.generate_lstm,\n",
        "                                lambda model: optim.Adam(model.parameters(), lr=self.learning_rate),\n",
        "                                train_data, dev_data, test_data,\n",
        "                                model_generator_kwargs = lstm_kwargs,\n",
        "                                batch_fun = utils.get_minibatch, prep_fun=utils.prepare_minibatch,\n",
        "                                eval_fun= utils.evaluate,\n",
        "                                eval_fun_sentence_length = utils.sentence_length_batch_evaluate if self.sentence_length_evaluate else None,\n",
        "                                permute=self.permute, permute_only_train=self.permute_only_train,\n",
        "                                batch_sizes = self.batch_size,\n",
        "                                n_sims = self.num_simulations,\n",
        "                                n_iter=self.num_iterations,\n",
        "                                print_each=self.print_every, eval_each=self.eval_every,\n",
        "                                verb = self.verbose, stop_factor=self.stop_factor)\n",
        "\n",
        "    elif self.model == 'TreeLSTM':\n",
        "      samples_per_eval = self.eval_every * self.batch_size\n",
        "      if self.permute or not self.use_pt_embed:\n",
        "        raise NotImplementedError('Permute not implemented for TreeLSTM')\n",
        "      if self.childsum: self.model = 'ChildsumTreeLSTM'\n",
        "\n",
        "      lstm_kwargs = {'v_pt':v_pt, 'embed_vectors':vectors, 'embed_dim':vectors.shape[1], 'hidden_dim':self.hidden_dim,\n",
        "                     'output_dim':len(t2i),'childsum':self.childsum}\n",
        "\n",
        "      results = utils.simulator(utils.generate_treelstm,\n",
        "                                lambda model: optim.Adam(model.parameters(), lr=self.learning_rate),\n",
        "                                train_data, dev_data, test_data,\n",
        "                                model_generator_kwargs = lstm_kwargs,\n",
        "                                batch_fun = utils.get_minibatch, prep_fun=utils.prepare_treelstm_minibatch,\n",
        "                                eval_fun= utils.evaluate,\n",
        "                                eval_fun_sentence_length = utils.sentence_length_batch_evaluate if self.sentence_length_evaluate else None,\n",
        "                                batch_sizes = self.batch_size,\n",
        "                                n_sims = self.num_simulations,\n",
        "                                n_iter=self.num_iterations,\n",
        "                                print_each=self.print_every, eval_each=self.eval_every,\n",
        "                                verb = self.verbose, stop_factor=self.stop_factor)\n",
        "\n",
        "    elif self.model == 'BOW':\n",
        "      samples_per_eval = self.eval_every\n",
        "      if self.use_pt_embed or self.permute:\n",
        "        raise NotImplementedError\n",
        "\n",
        "      bow_kwargs = {'vocab_size':len(v.w2i), 'embedding_dim':len(t2i), 'vocab':v}\n",
        "\n",
        "      results = utils.simulator(lambda **kwargs: BOW(**kwargs).to(device),\n",
        "                                lambda model: optim.Adam(model.parameters(), lr=self.learning_rate),\n",
        "                                train_data, dev_data, test_data,\n",
        "                                model_generator_kwargs = bow_kwargs,\n",
        "                                batch_fun = utils.get_examples, prep_fun=utils.prepare_example,\n",
        "                                eval_fun= utils.simple_evaluate,\n",
        "                                eval_fun_sentence_length = utils.sentence_length_evaluate if self.sentence_length_evaluate else None,\n",
        "                                n_sims = self.num_simulations,\n",
        "                                n_iter=self.num_iterations,\n",
        "                                print_each=self.print_every, eval_each=self.eval_every,\n",
        "                                verb = self.verbose, stop_factor=self.stop_factor)\n",
        "\n",
        "\n",
        "    elif self.model == 'CBOW':\n",
        "      samples_per_eval = self.eval_every\n",
        "      if self.use_pt_embed or self.permute:\n",
        "        raise NotImplementedError\n",
        "\n",
        "      bow_kwargs = {'vocab_size':len(v.w2i), 'embedding_dim':self.embed_dim, 'vocab':v, 'num_classes':len(t2i)}\n",
        "\n",
        "      results = utils.simulator(lambda **kwargs: CBOW(**kwargs).to(device),\n",
        "                                lambda model: optim.Adam(model.parameters(), lr=self.learning_rate),\n",
        "                                train_data, dev_data, test_data,\n",
        "                                model_generator_kwargs = bow_kwargs,\n",
        "                                batch_fun = utils.get_examples, prep_fun=utils.prepare_example,\n",
        "                                eval_fun= utils.simple_evaluate,\n",
        "                                eval_fun_sentence_length = utils.sentence_length_evaluate if self.sentence_length_evaluate else None,\n",
        "                                n_sims = self.num_simulations,\n",
        "                                n_iter=self.num_iterations,\n",
        "                                print_each=self.print_every, eval_each=self.eval_every,\n",
        "                                verb = self.verbose, stop_factor=self.stop_factor)\n",
        "\n",
        "\n",
        "    elif self.model == 'DeepCBOW':\n",
        "      samples_per_eval = self.eval_every\n",
        "      if self.use_pt_embed or self.permute:\n",
        "        raise NotImplementedError\n",
        "\n",
        "      bow_kwargs = {'vocab_size':len(v.w2i), 'embedding_dim':self.embed_dim, 'vocab':v, 'output_dim':len(t2i), 'num_hidden':self.hidden_dim}\n",
        "\n",
        "      results = utils.simulator(lambda **kwargs: DeepCBOW(**kwargs).to(device),\n",
        "                                lambda model: optim.Adam(model.parameters(), lr=self.learning_rate),\n",
        "                                train_data, dev_data, test_data,\n",
        "                                model_generator_kwargs = bow_kwargs,\n",
        "                                batch_fun = utils.get_examples, prep_fun=utils.prepare_example,\n",
        "                                eval_fun= utils.simple_evaluate,\n",
        "                                eval_fun_sentence_length = utils.sentence_length_evaluate if self.sentence_length_evaluate else None,\n",
        "                                n_sims = self.num_simulations,\n",
        "                                n_iter=self.num_iterations,\n",
        "                                print_each=self.print_every, eval_each=self.eval_every,\n",
        "                                verb = self.verbose, stop_factor=self.stop_factor)\n",
        "\n",
        "\n",
        "    elif self.model == 'PTDeepCBOW':\n",
        "      samples_per_eval = self.eval_every\n",
        "      if self.permute or not self.use_pt_embed:\n",
        "        raise NotImplementedError\n",
        "      self.model += '_'+pt_str\n",
        "\n",
        "      bow_kwargs = {'v_pt':v_pt, 'embed_vectors':vectors, 'embed_dim':vectors.shape[1],\n",
        "                    'num_hidden':self.hidden_dim, 'num_classes':len(t2i)}\n",
        "\n",
        "      results = utils.simulator(utils.generate_pt_deep_cbow,\n",
        "                                lambda model: optim.Adam(model.parameters(), lr=self.learning_rate),\n",
        "                                train_data, dev_data, test_data,\n",
        "                                model_generator_kwargs = bow_kwargs,\n",
        "                                batch_fun = utils.get_examples, prep_fun=utils.prepare_example,\n",
        "                                eval_fun= utils.simple_evaluate,\n",
        "                                eval_fun_sentence_length = utils.sentence_length_evaluate if self.sentence_length_evaluate else None,\n",
        "                                n_sims = self.num_simulations,\n",
        "                                n_iter=self.num_iterations,\n",
        "                                print_each=self.print_every, eval_each=self.eval_every,\n",
        "                                verb = self.verbose, stop_factor=self.stop_factor)\n",
        "\n",
        "    # plot results\n",
        "    utils.plot_results(results, eval_every=self.eval_every,\n",
        "                       print_every = self.print_every ,filename=self.filename_plot)\n",
        "\n",
        "    dev_acc={self.model: results[1], 'samples_per_eval':samples_per_eval}\n",
        "    test_acc = {self.model: [i[0] for i in results[2]]}\n",
        "    return (dev_acc, test_acc)"
      ]
    },
    {
      "cell_type": "markdown",
      "metadata": {
        "id": "XEPsLvI-3D5b"
      },
      "source": [
        "### Training the BOW model"
      ]
    },
    {
      "cell_type": "markdown",
      "metadata": {
        "id": "Xua3CcLiWv5N"
      },
      "source": [
        "## Only change these parameters:   \n",
        "num_simulation=20, stop_factor=25"
      ]
    },
    {
      "cell_type": "code",
      "execution_count": null,
      "metadata": {
        "colab": {
          "base_uri": "https://localhost:8080/",
          "height": 1000
        },
        "id": "RiSCeLRDCcRe",
        "outputId": "512e0807-04a0-4af1-822c-f8403e8f1481"
      },
      "outputs": [
        {
          "output_type": "stream",
          "name": "stdout",
          "text": [
            "Training a BOW model.\n",
            "Device: cuda\n",
            "Loading data...\n",
            "\n",
            "\n",
            "Creating vocabulary from training data...\n",
            "Permuting the word order is disabled!\n"
          ]
        },
        {
          "output_type": "stream",
          "name": "stderr",
          "text": [
            "\r  0%|          | 0/10 [00:00<?, ?it/s]"
          ]
        },
        {
          "output_type": "stream",
          "name": "stdout",
          "text": [
            "Shuffling training data\n",
            "Shuffling training data\n",
            "Shuffling training data\n",
            "Shuffling training data\n",
            "Shuffling training data\n",
            "Shuffling training data\n",
            "Shuffling training data\n",
            "Shuffling training data\n",
            "Shuffling training data\n",
            "Shuffling training data\n",
            "Shuffling training data\n",
            "Shuffling training data\n",
            "Shuffling training data\n",
            "Shuffling training data\n",
            "Shuffling training data\n",
            "Shuffling training data\n",
            "Shuffling training data\n",
            "Shuffling training data\n",
            "Shuffling training data\n",
            "Shuffling training data\n",
            "Stopping because no improvement since last 25000 steps\n"
          ]
        },
        {
          "output_type": "stream",
          "name": "stderr",
          "text": [
            "/usr/local/lib/python3.7/dist-packages/numpy/ma/core.py:2832: UserWarning: Warning: converting a masked element to nan.\n",
            "  order=order, subok=True, ndmin=ndmin)\n",
            "\r 10%|█         | 1/10 [04:55<44:18, 295.39s/it]"
          ]
        },
        {
          "output_type": "stream",
          "name": "stdout",
          "text": [
            "Shuffling training data\n",
            "Shuffling training data\n",
            "Shuffling training data\n",
            "Shuffling training data\n",
            "Shuffling training data\n",
            "Shuffling training data\n",
            "Shuffling training data\n",
            "Shuffling training data\n",
            "Shuffling training data\n",
            "Shuffling training data\n",
            "Shuffling training data\n",
            "Shuffling training data\n",
            "Shuffling training data\n",
            "Shuffling training data\n",
            "Shuffling training data\n",
            "Shuffling training data\n",
            "Shuffling training data\n",
            "Shuffling training data\n",
            "Shuffling training data\n",
            "Shuffling training data\n",
            "Shuffling training data\n",
            "Shuffling training data\n",
            "Shuffling training data\n",
            "Shuffling training data\n",
            "Shuffling training data\n",
            "Shuffling training data\n",
            "Shuffling training data\n",
            "Shuffling training data\n",
            "Shuffling training data\n",
            "Stopping because no improvement since last 25000 steps\n"
          ]
        },
        {
          "output_type": "stream",
          "name": "stderr",
          "text": [
            "\r 20%|██        | 2/10 [11:48<48:37, 364.69s/it]"
          ]
        },
        {
          "output_type": "stream",
          "name": "stdout",
          "text": [
            "Shuffling training data\n",
            "Shuffling training data\n",
            "Shuffling training data\n",
            "Shuffling training data\n",
            "Shuffling training data\n",
            "Shuffling training data\n",
            "Shuffling training data\n",
            "Shuffling training data\n",
            "Shuffling training data\n",
            "Shuffling training data\n",
            "Shuffling training data\n",
            "Shuffling training data\n",
            "Shuffling training data\n",
            "Shuffling training data\n",
            "Shuffling training data\n",
            "Shuffling training data\n",
            "Shuffling training data\n",
            "Shuffling training data\n",
            "Shuffling training data\n",
            "Shuffling training data\n",
            "Shuffling training data\n",
            "Shuffling training data\n",
            "Shuffling training data\n",
            "Shuffling training data\n",
            "Shuffling training data\n",
            "Shuffling training data\n",
            "Shuffling training data\n",
            "Shuffling training data\n",
            "Shuffling training data\n",
            "Shuffling training data\n",
            "Stopping because no improvement since last 25000 steps\n"
          ]
        },
        {
          "output_type": "stream",
          "name": "stderr",
          "text": [
            "\r 30%|███       | 3/10 [18:50<45:36, 390.99s/it]"
          ]
        },
        {
          "output_type": "stream",
          "name": "stdout",
          "text": [
            "Shuffling training data\n",
            "Shuffling training data\n",
            "Shuffling training data\n",
            "Shuffling training data\n",
            "Shuffling training data\n",
            "Shuffling training data\n",
            "Shuffling training data\n",
            "Shuffling training data\n",
            "Shuffling training data\n",
            "Shuffling training data\n",
            "Shuffling training data\n",
            "Shuffling training data\n",
            "Shuffling training data\n",
            "Shuffling training data\n",
            "Shuffling training data\n",
            "Shuffling training data\n",
            "Shuffling training data\n",
            "Shuffling training data\n",
            "Shuffling training data\n",
            "Shuffling training data\n",
            "Shuffling training data\n",
            "Shuffling training data\n",
            "Shuffling training data\n",
            "Shuffling training data\n",
            "Shuffling training data\n",
            "Shuffling training data\n",
            "Shuffling training data\n",
            "Shuffling training data\n",
            "Shuffling training data\n",
            "Shuffling training data\n",
            "Shuffling training data\n",
            "Shuffling training data\n",
            "Shuffling training data\n",
            "Shuffling training data\n",
            "Shuffling training data\n",
            "Stopping because no improvement since last 25000 steps\n"
          ]
        },
        {
          "output_type": "stream",
          "name": "stderr",
          "text": [
            "\r 40%|████      | 4/10 [27:03<43:07, 431.30s/it]"
          ]
        },
        {
          "output_type": "stream",
          "name": "stdout",
          "text": [
            "Shuffling training data\n",
            "Shuffling training data\n",
            "Shuffling training data\n",
            "Shuffling training data\n",
            "Shuffling training data\n",
            "Shuffling training data\n",
            "Shuffling training data\n",
            "Shuffling training data\n",
            "Shuffling training data\n",
            "Shuffling training data\n",
            "Shuffling training data\n",
            "Shuffling training data\n",
            "Shuffling training data\n",
            "Shuffling training data\n",
            "Shuffling training data\n",
            "Shuffling training data\n",
            "Shuffling training data\n",
            "Shuffling training data\n",
            "Shuffling training data\n",
            "Shuffling training data\n",
            "Shuffling training data\n",
            "Shuffling training data\n",
            "Stopping because no improvement since last 25000 steps\n"
          ]
        },
        {
          "output_type": "stream",
          "name": "stderr",
          "text": [
            "\r 50%|█████     | 5/10 [32:13<32:17, 387.42s/it]"
          ]
        },
        {
          "output_type": "stream",
          "name": "stdout",
          "text": [
            "Shuffling training data\n",
            "Shuffling training data\n",
            "Shuffling training data\n",
            "Shuffling training data\n",
            "Shuffling training data\n",
            "Shuffling training data\n",
            "Shuffling training data\n",
            "Shuffling training data\n",
            "Shuffling training data\n",
            "Shuffling training data\n",
            "Shuffling training data\n",
            "Shuffling training data\n",
            "Stopping because no improvement since last 25000 steps\n"
          ]
        },
        {
          "output_type": "stream",
          "name": "stderr",
          "text": [
            "\r 60%|██████    | 6/10 [35:08<21:00, 315.13s/it]"
          ]
        },
        {
          "output_type": "stream",
          "name": "stdout",
          "text": [
            "Shuffling training data\n",
            "Shuffling training data\n",
            "Shuffling training data\n",
            "Shuffling training data\n",
            "Shuffling training data\n",
            "Shuffling training data\n",
            "Shuffling training data\n",
            "Shuffling training data\n",
            "Shuffling training data\n",
            "Shuffling training data\n",
            "Shuffling training data\n",
            "Shuffling training data\n",
            "Shuffling training data\n",
            "Shuffling training data\n",
            "Shuffling training data\n",
            "Shuffling training data\n",
            "Shuffling training data\n",
            "Shuffling training data\n",
            "Shuffling training data\n",
            "Shuffling training data\n",
            "Shuffling training data\n",
            "Shuffling training data\n",
            "Shuffling training data\n",
            "Shuffling training data\n",
            "Stopping because no improvement since last 25000 steps\n"
          ]
        },
        {
          "output_type": "stream",
          "name": "stderr",
          "text": [
            "\r 70%|███████   | 7/10 [40:50<16:11, 323.93s/it]"
          ]
        },
        {
          "output_type": "stream",
          "name": "stdout",
          "text": [
            "Shuffling training data\n",
            "Shuffling training data\n",
            "Shuffling training data\n",
            "Shuffling training data\n",
            "Shuffling training data\n",
            "Shuffling training data\n",
            "Shuffling training data\n",
            "Shuffling training data\n",
            "Shuffling training data\n",
            "Shuffling training data\n",
            "Shuffling training data\n",
            "Shuffling training data\n",
            "Shuffling training data\n",
            "Shuffling training data\n",
            "Shuffling training data\n",
            "Shuffling training data\n",
            "Shuffling training data\n",
            "Shuffling training data\n",
            "Shuffling training data\n",
            "Shuffling training data\n",
            "Shuffling training data\n",
            "Shuffling training data\n",
            "Shuffling training data\n",
            "Stopping because no improvement since last 25000 steps\n"
          ]
        },
        {
          "output_type": "stream",
          "name": "stderr",
          "text": [
            "\r 80%|████████  | 8/10 [46:20<10:52, 326.02s/it]"
          ]
        },
        {
          "output_type": "stream",
          "name": "stdout",
          "text": [
            "Shuffling training data\n",
            "Shuffling training data\n",
            "Shuffling training data\n",
            "Shuffling training data\n",
            "Shuffling training data\n",
            "Shuffling training data\n",
            "Shuffling training data\n",
            "Shuffling training data\n",
            "Shuffling training data\n",
            "Shuffling training data\n",
            "Shuffling training data\n",
            "Shuffling training data\n",
            "Shuffling training data\n",
            "Shuffling training data\n",
            "Shuffling training data\n",
            "Shuffling training data\n",
            "Shuffling training data\n",
            "Shuffling training data\n",
            "Shuffling training data\n",
            "Shuffling training data\n",
            "Shuffling training data\n",
            "Shuffling training data\n",
            "Shuffling training data\n",
            "Shuffling training data\n",
            "Shuffling training data\n",
            "Shuffling training data\n",
            "Shuffling training data\n",
            "Shuffling training data\n",
            "Shuffling training data\n",
            "Shuffling training data\n",
            "Shuffling training data\n",
            "Shuffling training data\n",
            "Stopping because no improvement since last 25000 steps\n"
          ]
        },
        {
          "output_type": "stream",
          "name": "stderr",
          "text": [
            "\r 90%|█████████ | 9/10 [54:00<06:07, 367.70s/it]"
          ]
        },
        {
          "output_type": "stream",
          "name": "stdout",
          "text": [
            "Shuffling training data\n",
            "Shuffling training data\n",
            "Shuffling training data\n",
            "Shuffling training data\n",
            "Shuffling training data\n",
            "Shuffling training data\n",
            "Shuffling training data\n",
            "Shuffling training data\n",
            "Shuffling training data\n",
            "Shuffling training data\n",
            "Shuffling training data\n",
            "Shuffling training data\n",
            "Shuffling training data\n",
            "Shuffling training data\n",
            "Shuffling training data\n",
            "Shuffling training data\n",
            "Shuffling training data\n",
            "Shuffling training data\n",
            "Shuffling training data\n",
            "Shuffling training data\n",
            "Shuffling training data\n",
            "Shuffling training data\n",
            "Stopping because no improvement since last 25000 steps\n"
          ]
        },
        {
          "output_type": "stream",
          "name": "stderr",
          "text": [
            "100%|██████████| 10/10 [59:17<00:00, 355.80s/it]\n"
          ]
        },
        {
          "output_type": "stream",
          "name": "stdout",
          "text": [
            "---------- Printing test accuracies using best model parameters ----------\n",
            "Test accuracy=0.309 +- 0.0259\n",
            "Total time: 3565.528\n"
          ]
        },
        {
          "output_type": "display_data",
          "data": {
            "image/png": "[encoded data removed]",
            "text/plain": [
              "<Figure size 864x864 with 4 Axes>"
            ]
          },
          "metadata": {
            "needs_background": "light"
          }
        }
      ],
      "source": [
        "start = time.time()\n",
        "bow_classifier = Train(model ='BOW', num_simulations= 10, num_iterations =0, sentence_length_evaluate=True,\n",
        "                       eval_every=1000, print_every=1000, stop_factor=25, learning_rate=3e-4, verbose=False, filename_plot='bow.png')\n",
        "bow_time = time.time() - start\n",
        "print('Total time: {:.3f}'.format(bow_time))"
      ]
    },
    {
      "cell_type": "code",
      "execution_count": null,
      "metadata": {
        "id": "jQsmI0iGqL7J"
      },
      "outputs": [],
      "source": []
    },
    {
      "cell_type": "markdown",
      "metadata": {
        "id": "Psxh-Le1BMDQ"
      },
      "source": [
        "Please note that we set the number of iterations to 30K as an indicative value, after which we simply stop training without checking for convergence. You should choose an appropriate number of iterations and motivate your decision. **This holds for all pre-set numbers of iteration in the following code blocks.**"
      ]
    },
    {
      "cell_type": "markdown",
      "metadata": {
        "id": "E9mB1_XhMPNN"
      },
      "source": [
        "# CBOW"
      ]
    },
    {
      "cell_type": "markdown",
      "metadata": {
        "id": "pWk78FvNMw4o"
      },
      "source": [
        "We now continue with a **continuous bag-of-words (CBOW)** model. (*This is not the same as the word2vec CBOW model!*)\n",
        "\n",
        "It is similar to the BOW model above, but now embeddings can have a dimension of *arbitrary size*.\n",
        "This means that we can choose a higher dimensionality and learn more aspects of each word. We will still sum word vectors to get a sentence representation, but now the size of the resulting vector will no longer correspond to the number of sentiment classes.\n",
        "\n",
        "So to turn the size of our summed vector into the number of output classes, we can *learn* a parameter matrix $W$ and multiply it by the sum vector $x$: $$Wx$$\n",
        "If the size of $x$ is `d x 1`, we can set $W$ to be `5 x d`, so that the output of the matrix multiplication will be the of the desired size, `5 x 1`. Then, just like for the BOW model, we can obtain a prediction using the argmax function."
      ]
    },
    {
      "cell_type": "markdown",
      "metadata": {
        "id": "gIjrCPfCwsXI"
      },
      "source": [
        "## Exercise: implement and train the CBOW model\n",
        "\n",
        "Write a class `CBOW` that:\n",
        "\n",
        "- has word embeddings with size 300\n",
        "- sums the word vectors for the input words (just like in `BOW`)\n",
        "- projects the resulting vector down to 5 units using a linear layer and a bias term (check out `nn.Linear`)\n",
        "\n",
        "Train your CBOW model and plot the validation accuracy and training loss over time."
      ]
    },
    {
      "cell_type": "code",
      "execution_count": null,
      "metadata": {
        "id": "Q7VBRhnD8XKL"
      },
      "outputs": [],
      "source": [
        "# YOUR CODE HERE\n",
        "class CBOW(nn.Module):\n",
        "\n",
        "    def __init__(self, vocab_size, embedding_dim, vocab, num_classes):\n",
        "        super(CBOW, self).__init__()\n",
        "\n",
        "        self.vocab = vocab\n",
        "\n",
        "        # this is a trainable look-up table with word embeddings\n",
        "        self.embed = nn.Embedding(vocab_size, embedding_dim)\n",
        "\n",
        "        # linear projection layer\n",
        "        self.linear = nn.Linear(embedding_dim, num_classes)\n",
        "\n",
        "\n",
        "    def forward(self, inputs):\n",
        "        # this is the forward pass of the neural network\n",
        "        # it applies a function to the input and returns the output\n",
        "\n",
        "        # this looks up the embeddings for each word ID in inputs\n",
        "        # the result is a sequence of word embeddings\n",
        "        embeds = self.embed(inputs)\n",
        "\n",
        "        # project from embedding to output space\n",
        "        out = self.linear(embeds)\n",
        "\n",
        "        # the output is the sum across the time dimension (1)\n",
        "        # with the bias term added\n",
        "        logits = out.sum(1)\n",
        "\n",
        "        return logits"
      ]
    },
    {
      "cell_type": "markdown",
      "metadata": {
        "id": "9uJhCX60YLDv"
      },
      "source": [
        "## Only change these parameters:   \n",
        "num_simulation=20, stop_factor=25"
      ]
    },
    {
      "cell_type": "code",
      "execution_count": null,
      "metadata": {
        "colab": {
          "base_uri": "https://localhost:8080/",
          "height": 1000
        },
        "id": "EkIA8CRYuhOY",
        "outputId": "eeb09388-3a2e-4db2-a270-60676b3f8e2c"
      },
      "outputs": [
        {
          "output_type": "stream",
          "name": "stdout",
          "text": [
            "Training a CBOW model.\n",
            "Device: cuda\n",
            "Loading data...\n",
            "\n",
            "\n",
            "Creating vocabulary from training data...\n",
            "Permuting the word order is disabled!\n"
          ]
        },
        {
          "output_type": "stream",
          "name": "stderr",
          "text": [
            "\r  0%|          | 0/10 [00:00<?, ?it/s]"
          ]
        },
        {
          "output_type": "stream",
          "name": "stdout",
          "text": [
            "Shuffling training data\n",
            "Shuffling training data\n",
            "Shuffling training data\n",
            "Shuffling training data\n",
            "Shuffling training data\n",
            "Shuffling training data\n",
            "Shuffling training data\n",
            "Shuffling training data\n",
            "Shuffling training data\n",
            "Shuffling training data\n",
            "Stopping because no improvement since last 25000 steps\n"
          ]
        },
        {
          "output_type": "stream",
          "name": "stderr",
          "text": [
            "/usr/local/lib/python3.7/dist-packages/numpy/ma/core.py:2832: UserWarning: Warning: converting a masked element to nan.\n",
            "  order=order, subok=True, ndmin=ndmin)\n",
            "\r 10%|█         | 1/10 [06:31<58:45, 391.74s/it]"
          ]
        },
        {
          "output_type": "stream",
          "name": "stdout",
          "text": [
            "Shuffling training data\n",
            "Shuffling training data\n",
            "Shuffling training data\n",
            "Shuffling training data\n",
            "Shuffling training data\n",
            "Shuffling training data\n",
            "Shuffling training data\n",
            "Stopping because no improvement since last 25000 steps\n"
          ]
        },
        {
          "output_type": "stream",
          "name": "stderr",
          "text": [
            "\r 20%|██        | 2/10 [10:57<42:19, 317.49s/it]"
          ]
        },
        {
          "output_type": "stream",
          "name": "stdout",
          "text": [
            "Shuffling training data\n",
            "Shuffling training data\n",
            "Shuffling training data\n",
            "Shuffling training data\n",
            "Shuffling training data\n",
            "Shuffling training data\n",
            "Stopping because no improvement since last 25000 steps\n"
          ]
        },
        {
          "output_type": "stream",
          "name": "stderr",
          "text": [
            "\r 30%|███       | 3/10 [14:48<32:27, 278.28s/it]"
          ]
        },
        {
          "output_type": "stream",
          "name": "stdout",
          "text": [
            "Shuffling training data\n",
            "Shuffling training data\n",
            "Shuffling training data\n",
            "Shuffling training data\n",
            "Shuffling training data\n",
            "Shuffling training data\n",
            "Stopping because no improvement since last 25000 steps\n"
          ]
        },
        {
          "output_type": "stream",
          "name": "stderr",
          "text": [
            "\r 40%|████      | 4/10 [18:59<26:43, 267.24s/it]"
          ]
        },
        {
          "output_type": "stream",
          "name": "stdout",
          "text": [
            "Shuffling training data\n",
            "Shuffling training data\n",
            "Shuffling training data\n",
            "Shuffling training data\n",
            "Shuffling training data\n",
            "Shuffling training data\n",
            "Shuffling training data\n",
            "Shuffling training data\n",
            "Stopping because no improvement since last 25000 steps\n"
          ]
        },
        {
          "output_type": "stream",
          "name": "stderr",
          "text": [
            "\r 50%|█████     | 5/10 [24:19<23:51, 286.36s/it]"
          ]
        },
        {
          "output_type": "stream",
          "name": "stdout",
          "text": [
            "Shuffling training data\n",
            "Shuffling training data\n",
            "Shuffling training data\n",
            "Shuffling training data\n",
            "Shuffling training data\n",
            "Shuffling training data\n",
            "Shuffling training data\n",
            "Stopping because no improvement since last 25000 steps\n"
          ]
        },
        {
          "output_type": "stream",
          "name": "stderr",
          "text": [
            "\r 60%|██████    | 6/10 [28:44<18:36, 279.09s/it]"
          ]
        },
        {
          "output_type": "stream",
          "name": "stdout",
          "text": [
            "Shuffling training data\n",
            "Shuffling training data\n",
            "Shuffling training data\n",
            "Shuffling training data\n",
            "Shuffling training data\n",
            "Shuffling training data\n",
            "Shuffling training data\n",
            "Shuffling training data\n",
            "Stopping because no improvement since last 25000 steps\n"
          ]
        },
        {
          "output_type": "stream",
          "name": "stderr",
          "text": [
            "\r 70%|███████   | 7/10 [34:11<14:44, 294.90s/it]"
          ]
        },
        {
          "output_type": "stream",
          "name": "stdout",
          "text": [
            "Shuffling training data\n",
            "Shuffling training data\n",
            "Shuffling training data\n",
            "Shuffling training data\n",
            "Shuffling training data\n",
            "Shuffling training data\n",
            "Shuffling training data\n",
            "Stopping because no improvement since last 25000 steps\n"
          ]
        },
        {
          "output_type": "stream",
          "name": "stderr",
          "text": [
            "\r 80%|████████  | 8/10 [38:41<09:33, 286.90s/it]"
          ]
        },
        {
          "output_type": "stream",
          "name": "stdout",
          "text": [
            "Shuffling training data\n",
            "Shuffling training data\n",
            "Shuffling training data\n",
            "Shuffling training data\n",
            "Shuffling training data\n",
            "Shuffling training data\n",
            "Shuffling training data\n",
            "Shuffling training data\n",
            "Stopping because no improvement since last 25000 steps\n"
          ]
        },
        {
          "output_type": "stream",
          "name": "stderr",
          "text": [
            "\r 90%|█████████ | 9/10 [44:14<05:01, 301.31s/it]"
          ]
        },
        {
          "output_type": "stream",
          "name": "stdout",
          "text": [
            "Shuffling training data\n",
            "Shuffling training data\n",
            "Shuffling training data\n",
            "Shuffling training data\n",
            "Shuffling training data\n",
            "Stopping because no improvement since last 25000 steps\n"
          ]
        },
        {
          "output_type": "stream",
          "name": "stderr",
          "text": [
            "100%|██████████| 10/10 [47:45<00:00, 286.57s/it]\n"
          ]
        },
        {
          "output_type": "stream",
          "name": "stdout",
          "text": [
            "---------- Printing test accuracies using best model parameters ----------\n",
            "Test accuracy=0.357 +- 0.0204\n",
            "Total time: 2872.261\n"
          ]
        },
        {
          "output_type": "display_data",
          "data": {
            "image/png": "[encoded data removed]",
            "text/plain": [
              "<Figure size 864x864 with 4 Axes>"
            ]
          },
          "metadata": {
            "needs_background": "light"
          }
        }
      ],
      "source": [
        "start = time.time()\n",
        "cbow_classifier = Train(model ='CBOW', embed_dim=300, num_simulations= 10, num_iterations =0, sentence_length_evaluate=True,\n",
        "                       eval_every=1000, print_every=1000, stop_factor=25, learning_rate=3e-4, verbose=False,filename_plot='cbow.png')\n",
        "cbow_time = time.time() - start\n",
        "print('Total time: {:.3f}'.format(cbow_time))"
      ]
    },
    {
      "cell_type": "markdown",
      "metadata": {
        "id": "zpFt_Fo2TdN0"
      },
      "source": [
        "# Deep CBOW"
      ]
    },
    {
      "cell_type": "markdown",
      "metadata": {
        "id": "iZanOMesTfEZ"
      },
      "source": [
        "To see if we can squeeze some more performance out of the CBOW model, we can make it deeper and non-linear by adding more layers and, e.g., tanh-activations.\n",
        "By using more parameters we can learn more aspects of the data, and by using more layers and non-linearities, we can try to learn a more complex function.\n",
        "This is not something that always works. If the input-output mapping of your data is simple, then a complicated function could easily overfit on your training set, thereby leading to poor generalization.\n",
        "\n",
        "#### Exercise: write Deep CBOW class and train it\n",
        "\n",
        "Write a class `DeepCBOW`.\n",
        "\n",
        "In your code, make sure that your `output_layer` consists of the following:\n",
        "- A linear transformation from E units to D units.\n",
        "- A Tanh activation\n",
        "- A linear transformation from D units to D units\n",
        "- A Tanh activation\n",
        "- A linear transformation from D units to 5 units (our output classes).\n",
        "\n",
        "E is the size of the word embeddings (please use E=300) and D for the size of a hidden layer (please use D=100).\n",
        "\n",
        "We recommend using [nn.Sequential](https://pytorch.org/docs/stable/nn.html?highlight=sequential#torch.nn.Sequential) to implement this exercise."
      ]
    },
    {
      "cell_type": "code",
      "execution_count": null,
      "metadata": {
        "id": "cBbongjX8lKO"
      },
      "outputs": [],
      "source": [
        "# YOUR CODE HERE\n",
        "class DeepCBOW(nn.Module):\n",
        "\n",
        "    def __init__(self, vocab_size, embedding_dim, output_dim, num_hidden, vocab):\n",
        "        super(DeepCBOW, self).__init__()\n",
        "\n",
        "        self.vocab = vocab\n",
        "\n",
        "        # this is a trainable look-up table with word embeddings\n",
        "        self.embed = nn.Embedding(vocab_size, embedding_dim)\n",
        "\n",
        "        # sequential model\n",
        "        self.net = nn.Sequential(self.embed, nn.Linear(embedding_dim, num_hidden), nn.Tanh(),\\\n",
        "                                 nn.Linear(num_hidden,num_hidden), nn.Tanh(), nn.Linear(num_hidden,output_dim))\n",
        "\n",
        "    def forward(self, inputs):\n",
        "\n",
        "        # pass through net\n",
        "        out = self.net(inputs)\n",
        "\n",
        "        # the output is the sum across the time dimension (1)\n",
        "        # with the bias term added\n",
        "        logits = out.sum(1)\n",
        "\n",
        "        return logits"
      ]
    },
    {
      "cell_type": "markdown",
      "metadata": {
        "id": "eSbdtZbLYXkH"
      },
      "source": [
        "## Only change these parameters:   \n",
        "num_simulation=20, stop_factor=25"
      ]
    },
    {
      "cell_type": "code",
      "execution_count": null,
      "metadata": {
        "id": "g5QjiaKyuhck",
        "colab": {
          "base_uri": "https://localhost:8080/"
        },
        "outputId": "6d9aaf80-49fc-4079-82c5-31dcd980a9aa"
      },
      "outputs": [
        {
          "output_type": "stream",
          "name": "stdout",
          "text": [
            "Training a DeepCBOW model.\n",
            "Device: cuda\n",
            "Loading data...\n",
            "\n",
            "\n",
            "Creating vocabulary from training data...\n",
            "Permuting the word order is disabled!\n"
          ]
        },
        {
          "output_type": "stream",
          "name": "stderr",
          "text": [
            "\r  0%|          | 0/10 [00:00<?, ?it/s]"
          ]
        },
        {
          "output_type": "stream",
          "name": "stdout",
          "text": [
            "Shuffling training data\n",
            "Shuffling training data\n",
            "Shuffling training data\n",
            "Shuffling training data\n",
            "Shuffling training data\n",
            "Shuffling training data\n",
            "Shuffling training data\n",
            "Shuffling training data\n",
            "Shuffling training data\n",
            "Stopping because no improvement since last 25000 steps\n"
          ]
        },
        {
          "output_type": "stream",
          "name": "stderr",
          "text": [
            "/usr/local/lib/python3.7/dist-packages/numpy/ma/core.py:2832: UserWarning: Warning: converting a masked element to nan.\n",
            "  order=order, subok=True, ndmin=ndmin)\n",
            "\r 10%|█         | 1/10 [06:57<1:02:35, 417.23s/it]"
          ]
        },
        {
          "output_type": "stream",
          "name": "stdout",
          "text": [
            "Shuffling training data\n",
            "Shuffling training data\n",
            "Shuffling training data\n",
            "Shuffling training data\n",
            "Shuffling training data\n",
            "Shuffling training data\n",
            "Shuffling training data\n",
            "Shuffling training data\n",
            "Stopping because no improvement since last 25000 steps\n"
          ]
        },
        {
          "output_type": "stream",
          "name": "stderr",
          "text": [
            "\r 20%|██        | 2/10 [13:44<54:50, 411.37s/it]  "
          ]
        },
        {
          "output_type": "stream",
          "name": "stdout",
          "text": [
            "Shuffling training data\n",
            "Shuffling training data\n",
            "Shuffling training data\n",
            "Shuffling training data\n",
            "Shuffling training data\n",
            "Shuffling training data\n",
            "Shuffling training data\n",
            "Stopping because no improvement since last 25000 steps\n"
          ]
        },
        {
          "output_type": "stream",
          "name": "stderr",
          "text": [
            "\r 30%|███       | 3/10 [19:21<44:02, 377.47s/it]"
          ]
        },
        {
          "output_type": "stream",
          "name": "stdout",
          "text": [
            "Shuffling training data\n",
            "Shuffling training data\n",
            "Shuffling training data\n",
            "Shuffling training data\n",
            "Shuffling training data\n",
            "Shuffling training data\n",
            "Stopping because no improvement since last 25000 steps\n"
          ]
        },
        {
          "output_type": "stream",
          "name": "stderr",
          "text": [
            "\r 40%|████      | 4/10 [24:17<34:32, 345.41s/it]"
          ]
        },
        {
          "output_type": "stream",
          "name": "stdout",
          "text": [
            "Shuffling training data\n",
            "Shuffling training data\n",
            "Shuffling training data\n",
            "Shuffling training data\n",
            "Shuffling training data\n",
            "Shuffling training data\n",
            "Shuffling training data\n",
            "Stopping because no improvement since last 25000 steps\n"
          ]
        },
        {
          "output_type": "stream",
          "name": "stderr",
          "text": [
            "\r 50%|█████     | 5/10 [30:01<28:44, 344.91s/it]"
          ]
        },
        {
          "output_type": "stream",
          "name": "stdout",
          "text": [
            "Shuffling training data\n",
            "Shuffling training data\n",
            "Shuffling training data\n",
            "Shuffling training data\n",
            "Shuffling training data\n",
            "Shuffling training data\n",
            "Stopping because no improvement since last 25000 steps\n"
          ]
        },
        {
          "output_type": "stream",
          "name": "stderr",
          "text": [
            "\r 60%|██████    | 6/10 [34:28<21:12, 318.19s/it]"
          ]
        },
        {
          "output_type": "stream",
          "name": "stdout",
          "text": [
            "Shuffling training data\n",
            "Shuffling training data\n",
            "Shuffling training data\n",
            "Shuffling training data\n",
            "Shuffling training data\n",
            "Shuffling training data\n",
            "Stopping because no improvement since last 25000 steps\n"
          ]
        },
        {
          "output_type": "stream",
          "name": "stderr",
          "text": [
            "\r 70%|███████   | 7/10 [39:23<15:32, 310.73s/it]"
          ]
        },
        {
          "output_type": "stream",
          "name": "stdout",
          "text": [
            "Shuffling training data\n",
            "Shuffling training data\n",
            "Shuffling training data\n",
            "Shuffling training data\n",
            "Shuffling training data\n",
            "Shuffling training data\n",
            "Shuffling training data\n",
            "Stopping because no improvement since last 25000 steps\n"
          ]
        },
        {
          "output_type": "stream",
          "name": "stderr",
          "text": [
            "\r 80%|████████  | 8/10 [44:36<10:22, 311.33s/it]"
          ]
        },
        {
          "output_type": "stream",
          "name": "stdout",
          "text": [
            "Shuffling training data\n",
            "Shuffling training data\n",
            "Shuffling training data\n",
            "Shuffling training data\n",
            "Shuffling training data\n",
            "Shuffling training data\n",
            "Shuffling training data\n",
            "Shuffling training data\n",
            "Shuffling training data\n",
            "Stopping because no improvement since last 25000 steps\n"
          ]
        },
        {
          "output_type": "stream",
          "name": "stderr",
          "text": [
            "\r 90%|█████████ | 9/10 [51:29<05:43, 343.05s/it]"
          ]
        },
        {
          "output_type": "stream",
          "name": "stdout",
          "text": [
            "Shuffling training data\n",
            "Shuffling training data\n",
            "Shuffling training data\n",
            "Shuffling training data\n",
            "Shuffling training data\n",
            "Shuffling training data\n",
            "Shuffling training data\n",
            "Stopping because no improvement since last 25000 steps\n"
          ]
        },
        {
          "output_type": "stream",
          "name": "stderr",
          "text": [
            "100%|██████████| 10/10 [56:48<00:00, 340.83s/it]\n"
          ]
        },
        {
          "output_type": "stream",
          "name": "stdout",
          "text": [
            "---------- Printing test accuracies using best model parameters ----------\n",
            "Test accuracy=0.373 +- 0.0158\n",
            "Total time: 3415.523\n"
          ]
        },
        {
          "output_type": "display_data",
          "data": {
            "image/png": "[encoded data removed]",
            "text/plain": [
              "<Figure size 864x864 with 4 Axes>"
            ]
          },
          "metadata": {
            "needs_background": "light"
          }
        }
      ],
      "source": [
        "start = time.time()\n",
        "deep_cbow_classifier = Train(model ='DeepCBOW', embed_dim=300, hidden_dim=100, num_simulations= 10, num_iterations =0, sentence_length_evaluate=True,\n",
        "                       eval_every=1000, print_every=1000, stop_factor=25, learning_rate=3e-4, verbose=False,filename_plot='deep_cbow.png')\n",
        "deep_cbow_time = time.time() - start\n",
        "print('Total time: {:.3f}'.format(deep_cbow_time))"
      ]
    },
    {
      "cell_type": "markdown",
      "metadata": {
        "id": "MQZ5flHwiiHY"
      },
      "source": [
        "# Pre-trained word embeddings"
      ]
    },
    {
      "cell_type": "markdown",
      "metadata": {
        "id": "9NX35vecmHy6"
      },
      "source": [
        "The Stanford Sentiment Treebank is a rather small data set, since it required fine-grained manual annotatation. This makes it difficult for the Deep CBOW model to learn good word embeddings, i.e. to learn good word representations for the words in our vocabulary.\n",
        "In fact, the only error signal that the network receives is from predicting the sentiment of entire sentences!\n",
        "\n",
        "To start off with better word representations, we can download **pre-trained word embeddings**.\n",
        "You can choose which pre-trained word embeddings to use:\n",
        "\n",
        "- **GloVe**. The \"original\" Stanford Sentiment classification [paper](http://aclweb.org/anthology/P/P15/P15-1150.pdf) used Glove embeddings, which are just another method (like *word2vec*) to get word embeddings from unannotated text. Glove is described in the following paper which you should cite if you use them:\n",
        "> Jeffrey Pennington, Richard Socher, and Christopher Manning. [\"Glove: Global vectors for word representation.\"](https://nlp.stanford.edu/pubs/glove.pdf) EMNLP 2014.\n",
        "\n",
        "- **Word2Vec**. This is the method that you learned about in class, described in:\n",
        "> Mikolov, Tomas, et al. [\"Distributed representations of words and phrases and their compositionality.\"](https://papers.nips.cc/paper/5021-distributed-representations-of-words-and-phrases-and-their-compositionality.pdf) Advances in neural information processing systems. 2013.\n",
        "\n",
        "Using these pre-trained word embeddings, we can initialize our word embedding lookup table and start form a point where similar words are already close to one another in the distributional semantic space.\n",
        "\n",
        "You can choose to keep the word embeddings **fixed** or to train them further, specialising them to the task at hand.\n",
        "We will keep them fixed for now.\n",
        "\n",
        "For the purposes of this lab, it is enough if you understand how word2vec works (whichever vectors you use), but if you are interested, we encourage you to also check out the GloVe paper.\n",
        "\n",
        "You can either download the word2vec vectors, or the Glove vectors.\n",
        "If you want to compare your results to the Stanford paper later on, then you should use Glove.\n",
        "**At the end of this lab you have the option to compare which vectors give you the best performance. For now, simply choose one of them and continue with that.**\n",
        "\n",
        "[**OPTIONAL in case you don't want to mount Google Drive:** instead of running all the 5 boxes below, you can 1) download the GloVe and word2vec in your local machine, 2) upload them on your Drive folder (\"My Drive\"). Then, uncomment the first 2 lines in box 6 before writing your code!]\n"
      ]
    },
    {
      "cell_type": "code",
      "execution_count": null,
      "metadata": {
        "id": "lGYr02WWO993",
        "colab": {
          "base_uri": "https://localhost:8080/"
        },
        "outputId": "35a201ff-a196-4693-f591-27ae9f719906"
      },
      "outputs": [
        {
          "output_type": "stream",
          "name": "stdout",
          "text": [
            "--2021-12-14 06:07:41--  https://gist.githubusercontent.com/bastings/b094de2813da58056a05e8e7950d4ad1/raw/3fbd3976199c2b88de2ae62afc0ecc6f15e6f7ce/glove.840B.300d.sst.txt\n",
            "Resolving gist.githubusercontent.com (gist.githubusercontent.com)... 185.199.108.133, 185.199.109.133, 185.199.110.133, ...\n",
            "Connecting to gist.githubusercontent.com (gist.githubusercontent.com)|185.199.108.133|:443... connected.\n",
            "HTTP request sent, awaiting response... 200 OK\n",
            "Length: 53933315 (51M) [text/plain]\n",
            "Saving to: ‘glove.840B.300d.sst.txt’\n",
            "\n",
            "glove.840B.300d.sst 100%[===================>]  51.43M   154MB/s    in 0.3s    \n",
            "\n",
            "2021-12-14 06:07:42 (154 MB/s) - ‘glove.840B.300d.sst.txt’ saved [53933315/53933315]\n",
            "\n"
          ]
        }
      ],
      "source": [
        "# This downloads the Glove 840B 300d embeddings.\n",
        "# The original file is at http://nlp.stanford.edu/data/glove.840B.300d.zip\n",
        "# Since that file is 2GB, we provide you with a *filtered version*\n",
        "# which contains all the words you need for this data set.\n",
        "\n",
        "# You only need to do this once.\n",
        "# Please comment this cell out after downloading.\n",
        "\n",
        "!wget https://gist.githubusercontent.com/bastings/b094de2813da58056a05e8e7950d4ad1/raw/3fbd3976199c2b88de2ae62afc0ecc6f15e6f7ce/glove.840B.300d.sst.txt"
      ]
    },
    {
      "cell_type": "code",
      "execution_count": null,
      "metadata": {
        "id": "6NLsgFGiTjmI",
        "colab": {
          "base_uri": "https://localhost:8080/"
        },
        "outputId": "67dc4b97-02bb-41fb-e9eb-9423ee741ed5"
      },
      "outputs": [
        {
          "output_type": "stream",
          "name": "stdout",
          "text": [
            "--2021-12-14 06:07:42--  https://gist.githubusercontent.com/bastings/4d1c346c68969b95f2c34cfbc00ba0a0/raw/76b4fefc9ef635a79d0d8002522543bc53ca2683/googlenews.word2vec.300d.txt\n",
            "Resolving gist.githubusercontent.com (gist.githubusercontent.com)... 185.199.108.133, 185.199.109.133, 185.199.110.133, ...\n",
            "Connecting to gist.githubusercontent.com (gist.githubusercontent.com)|185.199.108.133|:443... connected.\n",
            "HTTP request sent, awaiting response... 200 OK\n",
            "Length: 66209703 (63M) [text/plain]\n",
            "Saving to: ‘googlenews.word2vec.300d.txt’\n",
            "\n",
            "googlenews.word2vec 100%[===================>]  63.14M   137MB/s    in 0.5s    \n",
            "\n",
            "2021-12-14 06:07:43 (137 MB/s) - ‘googlenews.word2vec.300d.txt’ saved [66209703/66209703]\n",
            "\n"
          ]
        }
      ],
      "source": [
        "# This downloads the word2vec 300D Google News vectors\n",
        "# The file has been truncated to only contain words that appear in our data set.\n",
        "# You can find the original file here: https://code.google.com/archive/p/word2vec/\n",
        "\n",
        "# You only need to do this once.\n",
        "# Please comment this out after downloading.\n",
        "!wget https://gist.githubusercontent.com/bastings/4d1c346c68969b95f2c34cfbc00ba0a0/raw/76b4fefc9ef635a79d0d8002522543bc53ca2683/googlenews.word2vec.300d.txt"
      ]
    },
    {
      "cell_type": "code",
      "execution_count": null,
      "metadata": {
        "cellView": "both",
        "id": "GXBITzPRQUQb"
      },
      "outputs": [],
      "source": [
        "#no need to run\n",
        "# Mount Google Drive (to save the downloaded files)\n",
        "from google.colab import drive\n",
        "drive.mount('/gdrive')"
      ]
    },
    {
      "cell_type": "code",
      "execution_count": null,
      "metadata": {
        "id": "uFvzPuiKSCbl"
      },
      "outputs": [],
      "source": [
        "#no need to run\n",
        "# Copy word vectors *to* Google Drive\n",
        "\n",
        "# You only need to do this once.\n",
        "# Please comment this out after running it.\n",
        "!cp \"glove.840B.300d.sst.txt\" \"/gdrive/My Drive/\"\n",
        "!cp \"googlenews.word2vec.300d.txt\" \"/gdrive/My Drive/\""
      ]
    },
    {
      "cell_type": "code",
      "execution_count": null,
      "metadata": {
        "id": "kUMH0bM6BuY9"
      },
      "outputs": [],
      "source": [
        "#no need to run\n",
        "# If you copied the word vectors to your Drive before,\n",
        "# here is where you copy them back to the Colab notebook.\n",
        "\n",
        "# Copy Glove vectors *from* Google Drive\n",
        "!cp \"/gdrive/My Drive/glove.840B.300d.sst.txt\" .\n",
        "!cp \"/gdrive/My Drive/googlenews.word2vec.300d.txt\" ."
      ]
    },
    {
      "cell_type": "code",
      "execution_count": null,
      "metadata": {
        "id": "xcpkoh6PIjfe"
      },
      "outputs": [],
      "source": [
        "#no need to run\n",
        "# Uncomment these 2 lines below if went for the OPTIONAL method described above\n",
        "!cp \"glove.840B.300d.sst.txt\" \"./\"\n",
        "!cp \"googlenews.word2vec.300d.txt\" \"./\""
      ]
    },
    {
      "cell_type": "markdown",
      "metadata": {
        "id": "MX2GJVHILM8n"
      },
      "source": [
        "At this point you have the pre-trained word embedding files, but what do they look like?"
      ]
    },
    {
      "cell_type": "code",
      "execution_count": null,
      "metadata": {
        "id": "ChsChH14Ruxn"
      },
      "outputs": [],
      "source": [
        "# Exercise: Print the first 4 lines of the files that you downloaded.\n",
        "# What do you see?"
      ]
    },
    {
      "cell_type": "markdown",
      "metadata": {
        "id": "WIVCkUkE_IjR"
      },
      "source": [
        "#### Exercise: New Vocabulary\n",
        "\n",
        "Since we now use pre-trained word embeddings, we need to create a new vocabulary.\n",
        "This is because of two reasons:\n",
        "\n",
        "1. We do not have pre-trained word embeddings for all words in our SST training set, and we do not want words in our vocabulary for which we have no word embeddings.\n",
        "2. We should be able to look up the pre-trained word embedding for words in the validation and test set, even if these words are unseen in training.\n",
        "\n",
        "Now, create a new vocabulary object `v` based on the word set of pre-trained embeddings, and load the corresponding embeddings into a list `vectors`.\n",
        "\n",
        "The vocabulary `v` should consist of:\n",
        " - a  `<unk>` token at position 0,\n",
        " - a  `<pad>` token at position 1,\n",
        " - and then all words in the pre-trained embedding set.\n",
        "\n",
        "\n",
        "After storing each vector in a list `vectors`, turn the list into a numpy matrix like this:\n",
        "```python\n",
        " vectors = np.stack(vectors, axis=0)\n",
        "```\n",
        "\n",
        "Remember to add new embeddings for the `<unk>` and `<pad>` tokens, as they're not part of the word2vec/GloVe embeddings. These embeddings can be randomly initialized or 0-valued, think about what makes sense and see what the effects are.\n",
        ""
      ]
    },
    {
      "cell_type": "code",
      "execution_count": null,
      "metadata": {
        "id": "ITyyCvDnCL4U"
      },
      "outputs": [],
      "source": [
        "# YOUR CODE HERE\n",
        "W2V_PATH = 'googlenews.word2vec.300d.txt'\n",
        "v_pt, vectors = utils.create_pretrained_vocab_emb(W2V_PATH)\n",
        "\n",
        "print(\"Vocabulary size:\", len(v_pt.w2i))\n",
        "print('Vectors shape:',vectors.shape)"
      ]
    },
    {
      "cell_type": "markdown",
      "metadata": {
        "id": "xC-7mRyYNG9b"
      },
      "source": [
        "#### Exercise: words not in our pre-trained set\n",
        "\n",
        "How many words in the training, dev, and test set are also in your vector set?\n",
        "How many words are not there?\n",
        "\n",
        "Store the words that are not in the word vector set in the set below."
      ]
    },
    {
      "cell_type": "code",
      "execution_count": null,
      "metadata": {
        "id": "K6MA3-wF_X5M"
      },
      "outputs": [],
      "source": [
        "words_not_found = set()\n",
        "# YOUR CODE HERE\n",
        "known_words = set()\n",
        "all_sets = (train_data, dev_data, test_data)\n",
        "for data in all_sets:\n",
        "    for data_set in (data,):\n",
        "        for ex in data_set:\n",
        "            for token in ex.tokens:\n",
        "                known_words.add(token)\n",
        "\n",
        "# check for each word in v if it is known\n",
        "words_not_found = {word for word in v_pt.w2i.keys() if word not in known_words}\n",
        "\n",
        "print(words_not_found)\n",
        "print(len(known_words))\n",
        "print(len(v_pt.w2i))"
      ]
    },
    {
      "cell_type": "markdown",
      "metadata": {
        "id": "BfEd38W0NnAI"
      },
      "source": [
        "#### Exercise: train Deep CBOW with (fixed) pre-trained embeddings\n",
        "\n",
        "Now train Deep CBOW again using the pre-trained word vectors.\n"
      ]
    },
    {
      "cell_type": "code",
      "execution_count": null,
      "metadata": {
        "id": "z_6ooqgEsB20"
      },
      "outputs": [],
      "source": [
        "# We define a new class that inherits from DeepCBOW.\n",
        "class PTDeepCBOW(DeepCBOW):\n",
        "  def __init__(self, vocab_size, embedding_dim, hidden_dim, output_dim, vocab):\n",
        "    super(PTDeepCBOW, self).__init__(\n",
        "        vocab_size, embedding_dim, hidden_dim, output_dim, vocab)"
      ]
    },
    {
      "cell_type": "code",
      "execution_count": null,
      "metadata": {
        "id": "YTJtKBzd7Qjr"
      },
      "outputs": [],
      "source": [
        "# plot train loss"
      ]
    },
    {
      "cell_type": "markdown",
      "metadata": {
        "id": "6NTaXueHYvWk"
      },
      "source": [
        "## Only change these parameters:   \n",
        "num_simulation=20, stop_factor=25"
      ]
    },
    {
      "cell_type": "code",
      "execution_count": null,
      "metadata": {
        "id": "n1c8oXQfuhqb"
      },
      "outputs": [],
      "source": [
        "#this one uses word2vec\n",
        "start = time.time()\n",
        "\n",
        "pt1_cbow_classifier = Train(model ='PTDeepCBOW', use_pt_embed=True, hidden_dim=100, num_simulations= 10, num_iterations =0, sentence_length_evaluate=True,\n",
        "                       eval_every=1000, print_every=1000, stop_factor=25, learning_rate=3e-4, verbose=False, filename_plot='w2v_deep_cbow.png')\n",
        "pt1_cbow_time = time.time() - start\n",
        "print('Total time: {:.3f}'.format(pt1_cbow_time))"
      ]
    },
    {
      "cell_type": "markdown",
      "metadata": {
        "id": "iD3DPXWOaVjb"
      },
      "source": [
        "## Only change these parameters:   \n",
        "num_simulation=20, stop_factor=25"
      ]
    },
    {
      "cell_type": "code",
      "execution_count": null,
      "metadata": {
        "id": "ajzFKRhFY0wn"
      },
      "outputs": [],
      "source": [
        "#this one uses glove\n",
        "start = time.time()\n",
        "\n",
        "pt2_cbow_classifier = Train(model ='PTDeepCBOW', use_pt_embed=True, hidden_dim=100, num_simulations= 2, num_iterations =0, sentence_length_evaluate=True,\n",
        "                            embed_path='./glove.840B.300d.sst.txt', eval_every=1000, print_every=1000, stop_factor=2, learning_rate=3e-4, verbose=False, filename_plot='glove_deep_cbow.png')\n",
        "pt2_cbow_time = time.time() - start\n",
        "print('Total time: {:.3f}'.format(pt2_cbow_time))"
      ]
    },
    {
      "cell_type": "markdown",
      "metadata": {
        "id": "yFu8xzCy9XDW"
      },
      "source": [
        "**It looks like we've hit what is possible with just using words.**\n",
        "Let's move on by incorporating word order!"
      ]
    },
    {
      "cell_type": "markdown",
      "metadata": {
        "id": "g41yW4PL9jG0"
      },
      "source": [
        "# LSTM"
      ]
    },
    {
      "cell_type": "markdown",
      "metadata": {
        "id": "ODzXEH0MaGpa"
      },
      "source": [
        "It is time to get more serious. Even with pre-trained word embeddings and multiple layers, we still seem to do pretty badly at sentiment classification.\n",
        "The next step we can take is to introduce word order again, dropping our independence assumptions. In this way, we can get a representation of the sentence as an ordered set of tokens.\n",
        "\n",
        "We will get this representation using a **Long Short-Term Memory** (LSTM). As an exercise, we will code our own LSTM cell, so that we get comfortable with its inner workings.\n",
        "Once we have an LSTM cell, we can call it repeatedly, updating its hidden state one word at a time:\n",
        "\n",
        "```python\n",
        "rnn = MyLSTMCell(input_size, hidden_size)\n",
        "\n",
        "hx = torch.zeros(1, hidden_size)  # initial hidden state\n",
        "cx = torch.zeros(1, hidden_size)  # initial memory cell\n",
        "output = []                       # to save intermediate LSTM states\n",
        "\n",
        "# feed one word at a time\n",
        "for i in range(n_timesteps):\n",
        "  hx, cx = rnn(input[i], (hx, cx))\n",
        "  output.append(hx)\n",
        "```\n",
        "\n",
        "If you need some more help understanding LSTMs, you can check out these resources:\n",
        "- Blog post (highly recommended): http://colah.github.io/posts/2015-08-Understanding-LSTMs/\n",
        "- Paper covering LSTM formulas in detail: https://arxiv.org/abs/1503.04069\n"
      ]
    },
    {
      "cell_type": "markdown",
      "metadata": {
        "id": "v9f4b45BXKFC"
      },
      "source": [
        "#### Exercise: Finish the LSTM cell below.\n",
        "You will need to implement the LSTM formulas:\n",
        "\n",
        "$$\n",
        "\\begin{array}{ll}\n",
        "        i = \\sigma(W_{ii} x + b_{ii} + W_{hi} h + b_{hi}) \\\\\n",
        "        f = \\sigma(W_{if} x + b_{if} + W_{hf} h + b_{hf}) \\\\\n",
        "        g = \\tanh(W_{ig} x + b_{ig} + W_{hg} h + b_{hg}) \\\\\n",
        "        o = \\sigma(W_{io} x + b_{io} + W_{ho} h + b_{ho}) \\\\\n",
        "        c' = f * c + i * g \\\\\n",
        "        h' = o \\tanh(c') \\\\\n",
        "\\end{array}\n",
        " $$\n",
        "\n",
        "where $\\sigma$ is the sigmoid function.\n",
        "\n",
        "*Note that the LSTM formulas can differ slightly between different papers. We use the PyTorch LSTM formulation here.*"
      ]
    },
    {
      "cell_type": "code",
      "execution_count": null,
      "metadata": {
        "id": "zJ9m5kLMd7-v"
      },
      "outputs": [],
      "source": [
        "class MyLSTMCell(nn.Module):\n",
        "  \"\"\"Our own LSTM cell\"\"\"\n",
        "\n",
        "  def __init__(self, input_size, hidden_size, bias=True):\n",
        "    \"\"\"Creates the weights for this LSTM\"\"\"\n",
        "    super(MyLSTMCell, self).__init__()\n",
        "\n",
        "    self.input_size = input_size\n",
        "    self.hidden_size = hidden_size\n",
        "    self.bias = bias\n",
        "\n",
        "    # YOUR CODE HERE\n",
        "    self.linear_ii = torch.nn.Linear(input_size, hidden_size, bias)\n",
        "    self.linear_ih = torch.nn.Linear(hidden_size, hidden_size, bias)\n",
        "    self.linear_fi = torch.nn.Linear(input_size, hidden_size, bias)\n",
        "    self.linear_fh = torch.nn.Linear(hidden_size, hidden_size, bias)\n",
        "    self.linear_gi = torch.nn.Linear(input_size, hidden_size, bias)\n",
        "    self.linear_gh = torch.nn.Linear(hidden_size, hidden_size, bias)\n",
        "    self.linear_oi = torch.nn.Linear(input_size, hidden_size, bias)\n",
        "    self.linear_oh = torch.nn.Linear(hidden_size, hidden_size, bias)\n",
        "\n",
        "    self.reset_parameters()\n",
        "\n",
        "  def reset_parameters(self):\n",
        "    \"\"\"This is PyTorch's default initialization method\"\"\"\n",
        "    stdv = 1.0 / math.sqrt(self.hidden_size)\n",
        "    for weight in self.parameters():\n",
        "      weight.data.uniform_(-stdv, stdv)\n",
        "\n",
        "  def forward(self, input_, hx, mask=None):\n",
        "    \"\"\"\n",
        "    input is (batch, input_size)\n",
        "    hx is ((batch, hidden_size), (batch, hidden_size))\n",
        "    \"\"\"\n",
        "    prev_h, prev_c = hx\n",
        "\n",
        "    # project input and prev state\n",
        "    # YOUR CODE HERE\n",
        "    sig = torch.nn.Sigmoid()\n",
        "    tanh = torch.nn.Tanh()\n",
        "\n",
        "\n",
        "    #raise NotImplementedError(\"Implement this\")\n",
        "\n",
        "    # main LSTM computation\n",
        "    i = sig(self.linear_ii(input_) + self.linear_ih(prev_h))\n",
        "\n",
        "    f = sig(self.linear_fi(input_) + self.linear_fh(prev_h))\n",
        "\n",
        "    g = tanh(self.linear_gi(input_) + self.linear_gh(prev_h))\n",
        "\n",
        "    o = sig(self.linear_oi(input_) + self.linear_oh(prev_h))\n",
        "\n",
        "    c = f * prev_c + i * g\n",
        "    h = o * tanh(c)\n",
        "\n",
        "    return h, c\n",
        "\n",
        "  def __repr__(self):\n",
        "    return \"{}({:d}, {:d})\".format(\n",
        "        self.__class__.__name__, self.input_size, self.hidden_size)"
      ]
    },
    {
      "cell_type": "markdown",
      "metadata": {
        "id": "4JM7xPhkQeE5"
      },
      "source": [
        "#### Optional: Efficient Matrix Multiplication\n",
        "\n",
        "It is more efficient to do a few big matrix multiplications than to do many smaller ones. So we will implement the above cell using just **two** linear layers.\n",
        "\n",
        "This is possible because the eight linear transformations contained in one forward pass through an LSTM cell can be reduced to just two:\n",
        "$$W_h h + b_h$$\n",
        "$$W_i x + b_i $$\n",
        "\n",
        "with $h = $ `prev_h` and $x = $ `input_`.\n",
        "\n",
        "and where:\n",
        "\n",
        "$W_h =  \\begin{pmatrix}\n",
        "W_{hi}\\\\\n",
        "W_{hf}\\\\\n",
        "W_{hg}\\\\\n",
        "W_{ho}\n",
        "\\end{pmatrix}$, $b_h = \\begin{pmatrix}\n",
        "b_{hi}\\\\\n",
        "b_{hf}\\\\\n",
        "b_{hg}\\\\\n",
        "b_{ho}\n",
        "\\end{pmatrix}$,  $W_i = \\begin{pmatrix}\n",
        "W_{ii}\\\\\n",
        "W_{if}\\\\\n",
        "W_{ig}\\\\\n",
        "W_{io}\n",
        "\\end{pmatrix}$ and $b_i = \\begin{pmatrix}\n",
        "b_{ii}\\\\\n",
        "b_{if}\\\\\n",
        "b_{ig}\\\\\n",
        "b_{io}\n",
        "\\end{pmatrix}$.\n",
        "\n",
        "Convince yourself that, after chunking with [torch.chunk](https://pytorch.org/docs/stable/torch.html?highlight=chunk#torch.chunk), the output of those two linear transformations is equivalent to the output of the eight linear transformations in the LSTM cell calculations above."
      ]
    },
    {
      "cell_type": "markdown",
      "metadata": {
        "id": "X9gA-UcqSBe0"
      },
      "source": [
        "#### LSTM Classifier\n",
        "\n",
        "Having an LSTM cell is not enough: we still need some code that calls it repeatedly, and then makes a prediction from the final hidden state.\n",
        "You will find that code below. Make sure that you understand it."
      ]
    },
    {
      "cell_type": "code",
      "execution_count": null,
      "metadata": {
        "id": "3iuYZm5poEn5"
      },
      "outputs": [],
      "source": [
        "class LSTMClassifier(nn.Module):\n",
        "  \"\"\"Encodes sentence with an LSTM and projects final hidden state\"\"\"\n",
        "\n",
        "  def __init__(self, vocab_size, embedding_dim, hidden_dim, output_dim, vocab):\n",
        "    super(LSTMClassifier, self).__init__()\n",
        "    self.vocab = vocab\n",
        "    self.hidden_dim = hidden_dim\n",
        "    self.embed = nn.Embedding(vocab_size, embedding_dim, padding_idx=1)\n",
        "    self.rnn = MyLSTMCell(embedding_dim, hidden_dim)\n",
        "\n",
        "    self.output_layer = nn.Sequential(\n",
        "        nn.Dropout(p=0.5),  # explained later\n",
        "        nn.Linear(hidden_dim, output_dim)\n",
        "    )\n",
        "\n",
        "  def forward(self, x):\n",
        "\n",
        "    B = x.size(0)  # batch size (this is 1 for now, i.e. 1 single example)\n",
        "    T = x.size(1)  # timesteps (the number of words in the sentence)\n",
        "\n",
        "    input_ = self.embed(x)\n",
        "\n",
        "    # here we create initial hidden states containing zeros\n",
        "    # we use a trick here so that, if input is on the GPU, then so are hx and cx\n",
        "    hx = input_.new_zeros(B, self.rnn.hidden_size)\n",
        "    cx = input_.new_zeros(B, self.rnn.hidden_size)\n",
        "\n",
        "    # process input sentences one word/timestep at a time\n",
        "    # input is batch-major (i.e., batch size is the first dimension)\n",
        "    # so the first word(s) is (are) input_[:, 0]\n",
        "    outputs = []\n",
        "    for i in range(T):\n",
        "      hx, cx = self.rnn(input_[:, i], (hx, cx))\n",
        "      outputs.append(hx)\n",
        "\n",
        "    # if we have a single example, our final LSTM state is the last hx\n",
        "    if B == 1:\n",
        "      final = hx\n",
        "    else:\n",
        "      #\n",
        "      # This part is explained in next section, ignore this else-block for now.\n",
        "      #\n",
        "      # We processed sentences with different lengths, so some of the sentences\n",
        "      # had already finished and we have been adding padding inputs to hx.\n",
        "      # We select the final state based on the length of each sentence.\n",
        "\n",
        "      # two lines below not needed if using LSTM from pytorch\n",
        "      outputs = torch.stack(outputs, dim=0)           # [T, B, D]\n",
        "      outputs = outputs.transpose(0, 1).contiguous()  # [B, T, D]\n",
        "\n",
        "      # to be super-sure we're not accidentally indexing the wrong state\n",
        "      # we zero out positions that are invalid\n",
        "      pad_positions = (x == 1).unsqueeze(-1)\n",
        "\n",
        "      outputs = outputs.contiguous()\n",
        "      outputs = outputs.masked_fill_(pad_positions, 0.)\n",
        "\n",
        "      mask = (x != 1)  # true for valid positions [B, T]\n",
        "      lengths = mask.sum(dim=1)                 # [B, 1]\n",
        "\n",
        "      indexes = (lengths - 1) + torch.arange(B, device=x.device, dtype=x.dtype) * T\n",
        "      final = outputs.view(-1, self.hidden_dim)[indexes]  # [B, D]\n",
        "\n",
        "    # we use the last hidden state to classify the sentence\n",
        "    logits = self.output_layer(final)\n",
        "    return logits"
      ]
    },
    {
      "cell_type": "markdown",
      "metadata": {
        "id": "FxFoVpvMPB6g"
      },
      "source": [
        "#### Dropout\n",
        "\n",
        "Data sparsity and a small data set can cause *overfitting*. This is a phenomenom that is very likely to occur when training strong and expressive models, like LSTMs, on small data. In practice, if your model overfits, this means that it will be very good at predicting (or \"remembering\") the sentiment of the training set, but unable to generalise to new, unseen data in the test set. This is undesirable and one technique to mitigate this issue is *dropout*.\n",
        "\n",
        "A dropout layer is defined by the following formula, which can be applied, for example, to a linear layer:\n",
        "\n",
        "$$\\text{tanh}(W(\\mathbf{h}\\odot \\mathbf{d}) + \\mathbf{b})$$\n",
        "\n",
        "where $\\mathbf{d} \\in \\{0, 1\\}^n$, with $d_j \\sim \\text{Bernoulli}(p)$,\n",
        "\n",
        "These formula simply means that we *drop* certain parameters during training (by setting them to zero). Which parameters we drop is stochastically determined by a Bernoulli distribution and the probability of each parameter being dropped is set to $p = 0.5$ in our experiments (see the previous cell of code where we define our output layer). A dropout layer can be applied at many different places in our models. This technique helps against the undesirable effect that a model relies on single parameters for prediction (e.g. if $h^{\\prime}_j$ is large, always predict positive). If we use dropout, the model needs to learn to rely on different parameters, which is desirable to obtain better generalisation to unseen data."
      ]
    },
    {
      "cell_type": "markdown",
      "metadata": {
        "id": "XQjEjLt9z0XW"
      },
      "source": [
        "**Let's train our LSTM!** Note that is will be a lot slower than previous models because we need to do many more computations per sentence.\n",
        "\n",
        "#### Training"
      ]
    },
    {
      "cell_type": "markdown",
      "metadata": {
        "id": "rI7Cf1z7h2Zk"
      },
      "source": [
        "### we dont do large itertions with the unbatched LSTM because it is too slow. We just use few to get an indication of the time."
      ]
    },
    {
      "cell_type": "code",
      "execution_count": null,
      "metadata": {
        "id": "KkFq6ZyqGyFI"
      },
      "outputs": [],
      "source": [
        "'''We train with very less iterations because LSTM is slow without batching'''\n",
        "\n",
        "lstm_kwargs = {'v_pt':v_pt, 'embed_vectors':vectors, 'embed_dim':vectors.shape[1],\n",
        "                'hidden_dim':150, 'output_dim':len(t2i)}\n",
        "\n",
        "start = time.time()\n",
        "results = utils.simulator(utils.generate_lstm,\n",
        "                          lambda model: optim.Adam(model.parameters(), lr=3e-4),\n",
        "                          train_data, dev_data, test_data,\n",
        "                          model_generator_kwargs = lstm_kwargs,\n",
        "                          batch_fun = utils.get_examples, prep_fun=utils.prepare_example,\n",
        "                          eval_fun= utils.simple_evaluate,\n",
        "                          eval_fun_sentence_length = utils.sentence_length_evaluate,\n",
        "                          n_sims = 2,\n",
        "                          n_iter=10000,\n",
        "                          print_each=1000, eval_each=1000,\n",
        "                          verb = False, stop_factor=2)\n",
        "utils.plot_results(results,1000,1000)\n",
        "lstm_unbatched_time = time.time-start\n",
        "print('Total time: ', lstm_unbatched_time)"
      ]
    },
    {
      "cell_type": "markdown",
      "metadata": {
        "id": "YEw6XHQY_AAQ"
      },
      "source": [
        "# Mini-batching\n",
        "\n"
      ]
    },
    {
      "cell_type": "markdown",
      "metadata": {
        "id": "FPf96wGzBTQJ"
      },
      "source": [
        "**Why is the LSTM so slow?** Despite our best efforts, we still need to make a lot of matrix multiplications per example (linear in the length of the example) just to get a single classification, and we can only process the 2nd word once we have computed the hidden state for the 1st word (sequential computation).\n",
        "\n",
        "GPUs are more efficient if we do a few big matrix multiplications, rather than lots of small ones. If we could process multiple examples at the same time, then we could exploit that. That is, we could still process the input sequentially, but doing so for multiple sentences at the same time.\n",
        "\n",
        "Up to now our \"mini-batches\" consisted of a single example. This was for a reason: the sentences in our data sets have **different lengths**, and this makes it difficult to process them at the same time.\n",
        "\n",
        "Consider a batch of 2 sentences:\n",
        "\n",
        "```\n",
        "this movie is bad\n",
        "this movie is super cool !\n",
        "```\n",
        "\n",
        "Let's say the IDs for these sentences are:\n",
        "\n",
        "```\n",
        "2 3 4 5\n",
        "2 3 4 6 7 8\n",
        "```\n",
        "\n",
        "We cannot feed PyTorch an object with rows of variable length! We need to turn this into a matrix.\n",
        "\n",
        "The solution is to add **padding values** to our mini-batch:\n",
        "\n",
        "```\n",
        "2 3 4 5 1 1\n",
        "2 3 4 6 7 8\n",
        "```\n",
        "\n",
        "Whenever a sentence is shorter than the longest sentence in a mini-batch, we just use a padding value (here: 1) to fill the matrix.\n",
        "\n",
        "In our computation, we should **ignore** the padding positions (e.g. mask them out) so that paddings do not contribute to the loss.\n",
        "\n",
        "#### Mini-batch feed\n",
        "We will now implement a `get_minibatch` function which will replace `get_example` and returns a mini-batch of the requested size."
      ]
    },
    {
      "cell_type": "markdown",
      "metadata": {
        "id": "DwZM-XYkT8Zx"
      },
      "source": [
        "#### Padding function\n",
        "We will need a function that adds padding 1s to a sequence of IDs so that\n",
        "it becomes as long as the longest sequence in the minibatch."
      ]
    },
    {
      "cell_type": "markdown",
      "metadata": {
        "id": "SL2iixMYUgfh"
      },
      "source": [
        "#### New `prepare` function\n",
        "\n",
        "We will also need a new function that turns a mini-batch into PyTorch tensors."
      ]
    },
    {
      "cell_type": "code",
      "execution_count": null,
      "metadata": {
        "id": "OwDAtCv1x2hB"
      },
      "outputs": [],
      "source": [
        "# Let's test our new function.\n",
        "# This should give us 3 examples.\n",
        "mb = next(utils.get_minibatch(train_data, batch_size=3, shuffle=False))\n",
        "for ex in mb:\n",
        "  print(ex)"
      ]
    },
    {
      "cell_type": "code",
      "execution_count": null,
      "metadata": {
        "id": "dg8zEK8zyUCH"
      },
      "outputs": [],
      "source": [
        "# We should find padding 1s at the end\n",
        "x, y = utils.prepare_minibatch(mb, v)\n",
        "print(\"x\", x)\n",
        "print(\"y\", y)"
      ]
    },
    {
      "cell_type": "markdown",
      "metadata": {
        "id": "xYBJEoSNUwI0"
      },
      "source": [
        "#### Evaluate (mini-batch version)\n",
        "\n",
        "We can now update our evaluation function to use mini-batches"
      ]
    },
    {
      "cell_type": "markdown",
      "metadata": {
        "id": "23wAZomozh_2"
      },
      "source": [
        "# LSTM (Mini-batched)"
      ]
    },
    {
      "cell_type": "markdown",
      "metadata": {
        "id": "B-gkPU7jzBe2"
      },
      "source": [
        "With this, let's run the LSTM again but now using mini-batches!"
      ]
    },
    {
      "cell_type": "markdown",
      "metadata": {
        "id": "AaB4i3p6bFf4"
      },
      "source": [
        "## Only change these parameters:   \n",
        "num_simulations=20, stop_factor=25"
      ]
    },
    {
      "cell_type": "code",
      "execution_count": null,
      "metadata": {
        "id": "F_LAi0kJy_bd"
      },
      "outputs": [],
      "source": [
        "start = time.time()\n",
        "LSTM = Train(model ='LSTM', use_pt_embed=True, sentence_length_evaluate=True,\n",
        "                       hidden_dim =150, batch_size=25, num_simulations= 10, num_iterations =0,\n",
        "                       eval_every=50, print_every=50, stop_factor=25, learning_rate=3e-4, verbose=False,filename_plot='lstm.png')\n",
        "lstm_batched_time = time.time() - start\n",
        "print('Total time: {:.3f}'.format(lstm_batched_time))"
      ]
    },
    {
      "cell_type": "markdown",
      "metadata": {
        "id": "ZlOw879PMp4A"
      },
      "source": [
        "## Only change these parameters:   \n",
        "num_simulations=20, stop_factor=25"
      ]
    },
    {
      "cell_type": "code",
      "execution_count": null,
      "metadata": {
        "id": "1je5S1RHVC5R"
      },
      "outputs": [],
      "source": [
        "# plot training loss\n",
        "start = time.time()\n",
        "LSTM_permute_both = Train(model ='LSTM', use_pt_embed=True, sentence_length_evaluate=True,\n",
        "                       hidden_dim =150, batch_size=25, num_simulations= 10, num_iterations =0, permute=True,\n",
        "                       eval_every=50, print_every=50, stop_factor=25, learning_rate=3e-4, verbose=False,filename_plot='lstm_permute_both.png')\n",
        "lstm_time1 = time.time() - start\n",
        "print('Total time: {:.3f}'.format(lstm_time1))"
      ]
    },
    {
      "cell_type": "markdown",
      "metadata": {
        "id": "ASLtE9A1MrRa"
      },
      "source": [
        "## Only change these parameters:   \n",
        "num_simulations=20, stop_factor=25"
      ]
    },
    {
      "cell_type": "code",
      "execution_count": null,
      "metadata": {
        "id": "cQd0hQp3MLqG"
      },
      "outputs": [],
      "source": [
        "start = time.time()\n",
        "LSTM_permute_train = Train(model ='LSTM', use_pt_embed=True, sentence_length_evaluate=True,\n",
        "                       hidden_dim =150, batch_size=25, num_simulations= 10, num_iterations =0, permute=True, permute_only_train=True,\n",
        "                       eval_every=50, print_every=50, stop_factor=25, learning_rate=3e-4, verbose=False,filename_plot='lstm_permute_train.png')\n",
        "lstm_time2 = time.time() - start\n",
        "print('Total time: {:.3f}'.format(lstm_time2))"
      ]
    },
    {
      "cell_type": "markdown",
      "metadata": {
        "id": "q7WjcxXntMi5"
      },
      "source": [
        "# Tree-LSTM"
      ]
    },
    {
      "cell_type": "markdown",
      "metadata": {
        "id": "jyj_UD6GtO5M"
      },
      "source": [
        "In the final part of this lab we will exploit the tree structure of the SST data.\n",
        "Until now we only used the surface tokens, but remember that our data examples include binary trees with a sentiment score at every node.\n",
        "\n",
        "In particular, we will implement **N-ary Tree-LSTMs** which are described in:\n",
        "\n",
        "> Kai Sheng Tai, Richard Socher, and Christopher D. Manning. [Improved Semantic Representations From Tree-Structured Long Short-Term Memory Networks](http://aclweb.org/anthology/P/P15/P15-1150.pdf) ACL 2015.\n",
        "\n",
        "Since our trees are binary (i.e., N=2), we can refer to these as *Binary Tree-LSTMs*. If you study equations (9) to (14) in the paper, you will find that they are not all too different from the original LSTM that you already have.\n",
        "\n",
        "You should read this paper carefully and make sure that you understand the approach. You will also find our LSTM baseline there.\n",
        "Note however that Tree-LSTMs were proposed around the same time by two other groups:\n",
        "\n",
        "> Phong Le and Willem Zuidema. [Compositional distributional semantics with long short term memory](http://anthology.aclweb.org/S/S15/S15-1002.pdf). *SEM 2015.\n",
        "\n",
        "> Xiaodan Zhu, Parinaz Sobihani,  and Hongyu Guo. [Long short-term memory over recursive structures](http://proceedings.mlr.press/v37/zhub15.pdf). ICML 2015.\n",
        "\n",
        "It is good scientific practice to cite all three papers in your report.\n",
        "\n",
        "\n"
      ]
    },
    {
      "cell_type": "markdown",
      "metadata": {
        "id": "1rDzvSos3JFp"
      },
      "source": [
        "## Computation\n",
        "\n",
        "Do you remember the `transitions_from_treestring` function all the way in the beginning of this lab? Every example contains a **transition sequence** produced by this function. Let's look at it again:\n",
        "\n"
      ]
    },
    {
      "cell_type": "code",
      "execution_count": null,
      "metadata": {
        "id": "5pg0Xumc3ZUS"
      },
      "outputs": [],
      "source": [
        "ex = next(utils.examplereader(\"trees/dev.txt\"))\n",
        "print(TreePrettyPrinter(ex.tree))\n",
        "print(\"Transitions:\")\n",
        "print(ex.transitions)"
      ]
    },
    {
      "cell_type": "markdown",
      "metadata": {
        "id": "ceBFe9fU4BI_"
      },
      "source": [
        "Note that the tree is **binary**. Every node has two children, except for pre-terminal nodes.\n",
        "\n",
        "A tree like this can be described by a sequence of **SHIFT (0)** and **REDUCE (1)** actions.\n",
        "\n",
        "To construct a tree, we can use the transitions as follows:\n",
        "- **reverse** the sentence (a list of tokens) and call this the **buffer**\n",
        "   - the first word is now on top (last in the list), and we would get it when calling pop() on the buffer\n",
        "- create an empty list and call it the **stack**\n",
        "- iterate through the transition sequence:\n",
        "  - if it says SHIFT(0), we pop a word from the buffer, and push it to the stack\n",
        "  - if it says REDUCE(1), we pop the **top two items** from the stack, and combine them (e.g. with a Tree-LSTM!), creating a new node that we push back on the stack\n",
        "  \n",
        "Convince yourself that going through the transition sequence above will result in the tree that you see.\n",
        "For example, we would start by putting the following words on the stack (by shifting 5 times, starting with `It`):\n",
        "\n",
        "```\n",
        "Top of the stack:\n",
        "-----------------\n",
        "film\n",
        "lovely\n",
        "a\n",
        "'s  \n",
        "It\n",
        "```\n",
        "Now we find a REDUCE in the transition sequence, so we get the top two words (film and lovely), and combine them, so our new stack becomes:\n",
        "```\n",
        "Top of the stack:\n",
        "-----------------\n",
        "lovely film\n",
        "a\n",
        "'s  \n",
        "It\n",
        "```\n",
        "\n",
        "We will use this approach when encoding sentences with our Tree-LSTM.\n",
        "Now, our sentence is a reversed list of word embeddings.\n",
        "When we shift, we move a word embedding to the stack.\n",
        "When we reduce, we apply the Tree-LSTM to the top two vectors, and the result is a single vector that we put back on the stack.\n",
        "After going through the whole transition sequence, we will have the root node on our stack! We can use that to classify the sentence.\n",
        "\n"
      ]
    },
    {
      "cell_type": "markdown",
      "metadata": {
        "id": "pDWKShm1AfmR"
      },
      "source": [
        "## Obtaining the transition sequence\n"
      ]
    },
    {
      "cell_type": "markdown",
      "metadata": {
        "id": "fO7VKWVpAbWj"
      },
      "source": [
        "\n",
        "So what goes on in the `transitions_from_treestring` function?\n",
        "\n",
        "The idea ([explained in this blog post](https://devblogs.nvidia.com/recursive-neural-networks-pytorch/)) is that, if we had a tree, we could traverse through the tree, and every time that we find a node containing only a word, we output a SHIFT.\n",
        "Every time **after** we have finished visiting the children of a node, we output a REDUCE.\n",
        "(What is this tree traversal called?)\n",
        "\n",
        "However, our `transitions_from_treestring` function operates directly on the string representation. It works as follows.\n",
        "\n",
        "We start with the representation:\n",
        "\n",
        "```\n",
        "(3 (2 It) (4 (4 (2 's) (4 (3 (2 a) (4 (3 lovely) (2 film))) (3 (2 with) (4 (3 (3 lovely) (2 performances)) (2 (2 by) (2 (2 (2 Buy) (2 and)) (2 Accorsi))))))) (2 .)))\n",
        "```\n",
        "\n",
        "First we remove pre-terminal nodes (and add spaces before closing brackets):\n",
        "\n",
        "```\n",
        "(3 It (4 (4 's (4 (3 a (4 lovely film ) ) (3 with (4 (3 lovely performances ) (2 by (2 (2 Buy and )  Accorsi ) ) ) ) ) ) . ) )\n",
        "```\n",
        "\n",
        "Then we remove node labels:\n",
        "\n",
        "```\n",
        "( It ( ( 's ( ( a ( lovely film ) ) ( with ( ( lovely performances) ( by ( ( Buy and )  Accorsi ) ) ) ) ) ) . ) )\n",
        "```\n",
        "\n",
        "Then we remove opening brackets:\n",
        "\n",
        "```\n",
        "It 's a lovely film ) ) with lovely performances ) by Buy and ) Accorsi ) ) ) ) ) ) . ) )\n",
        "```\n",
        "\n",
        "Now we replace words by S (for SHIFT), and closing brackets by R (for REDUCE):\n",
        "\n",
        "```\n",
        "S S S S S R R S S S R S S S R S R R R R R R S R R\n",
        "0 0 0 0 0 1 1 0 0 0 1 0 0 0 1 0 1 1 1 1 1 1 0 1 1\n",
        "```\n",
        "\n",
        "Et voilà. We just obtained the transition sequence!"
      ]
    },
    {
      "cell_type": "code",
      "execution_count": null,
      "metadata": {
        "id": "1y069gM4_v64"
      },
      "outputs": [],
      "source": [
        "# for comparison\n",
        "seq = ex.transitions\n",
        "s = \" \".join([\"S\" if t == 0 else \"R\" for t in seq])\n",
        "print(s)\n",
        "print(\" \".join(map(str, seq)))"
      ]
    },
    {
      "cell_type": "markdown",
      "metadata": {
        "id": "d-qOuKbDAiBn"
      },
      "source": [
        "## Coding the Tree-LSTM\n",
        "\n",
        "The code below contains a Binary Tree-LSTM cell.\n",
        "It is used in the TreeLSTM class below it, which in turn is used in the TreeLSTMClassifier.\n",
        "The job of the TreeLSTM class is to encode a complete sentence and return the root node.\n",
        "The job of the TreeLSTMCell is to return a new state when provided with two children (a reduce action). By repeatedly calling the TreeLSTMCell, the TreeLSTM will encode a sentence. This can be done for multiple sentences at the same time.\n",
        "\n",
        "\n",
        "#### Exercise\n",
        "Check the `forward` function and complete the Tree-LSTM formulas.\n",
        "You can see that we defined a large linear layer for you, that projects the *concatenation* of the left and right child into the input gate, left forget gate, right forget gate, candidate, and output gate."
      ]
    },
    {
      "cell_type": "code",
      "execution_count": null,
      "metadata": {
        "id": "J9b9mjMlN7Pb"
      },
      "outputs": [],
      "source": [
        "class TreeLSTMCell(nn.Module):\n",
        "  \"\"\"A Binary Tree LSTM cell\"\"\"\n",
        "\n",
        "  def __init__(self, input_size, hidden_size, bias=True):\n",
        "    \"\"\"Creates the weights for this LSTM\"\"\"\n",
        "    super(TreeLSTMCell, self).__init__()\n",
        "\n",
        "    self.input_size = input_size\n",
        "    self.hidden_size = hidden_size\n",
        "    self.bias = bias\n",
        "\n",
        "    self.reduce_layer = nn.Linear(2 * hidden_size, 5 * hidden_size)\n",
        "    self.dropout_layer = nn.Dropout(p=0.25)\n",
        "\n",
        "    self.reset_parameters()\n",
        "\n",
        "  def reset_parameters(self):\n",
        "    \"\"\"This is PyTorch's default initialization method\"\"\"\n",
        "    stdv = 1.0 / math.sqrt(self.hidden_size)\n",
        "    for weight in self.parameters():\n",
        "      weight.data.uniform_(-stdv, stdv)\n",
        "\n",
        "  def forward(self, hx_l, hx_r, mask=None):\n",
        "    \"\"\"\n",
        "    hx_l is ((batch, hidden_size), (batch, hidden_size))\n",
        "    hx_r is ((batch, hidden_size), (batch, hidden_size))\n",
        "    \"\"\"\n",
        "    prev_h_l, prev_c_l = hx_l  # left child\n",
        "    prev_h_r, prev_c_r = hx_r  # right child\n",
        "\n",
        "    B = prev_h_l.size(0)\n",
        "\n",
        "    # we concatenate the left and right children\n",
        "    # you can also project from them separately and then sum\n",
        "    children = torch.cat([prev_h_l, prev_h_r], dim=1)\n",
        "\n",
        "    # project the combined children into a 5D tensor for i,fl,fr,g,o\n",
        "    # this is done for speed, and you could also do it separately\n",
        "    proj = self.reduce_layer(children)  # shape: B x 5D\n",
        "\n",
        "    # each shape: B x D\n",
        "    i, f_l, f_r, g, o = torch.chunk(proj, 5, dim=-1)\n",
        "\n",
        "    # main Tree LSTM computation\n",
        "\n",
        "    # YOUR CODE HERE\n",
        "    # You only need to complete the commented lines below.\n",
        "    #raise NotImplementedError(\"Implement this.\")\n",
        "\n",
        "    # The shape of each of these is [batch_size, hidden_size]\n",
        "    i = torch.sigmoid(i)\n",
        "    f_l = torch.sigmoid(f_l)\n",
        "    f_r = torch.sigmoid(f_r)\n",
        "    g = torch.tanh(g)\n",
        "    o = torch.sigmoid(o)\n",
        "\n",
        "    c = i * g + f_r * prev_c_r + f_l * prev_c_l\n",
        "    h = o * torch.tanh(c)\n",
        "\n",
        "    return h, c\n",
        "\n",
        "  def __repr__(self):\n",
        "    return \"{}({:d}, {:d})\".format(\n",
        "        self.__class__.__name__, self.input_size, self.hidden_size)"
      ]
    },
    {
      "cell_type": "code",
      "execution_count": null,
      "metadata": {
        "id": "EgnZJM34gZIx"
      },
      "outputs": [],
      "source": [
        "class ChildsumTreeLSTMCell(nn.Module):\n",
        "    \"\"\"A Binary Tree LSTM cell\"\"\"\n",
        "\n",
        "    def __init__(self, input_size, hidden_size, bias=True):\n",
        "        \"\"\"Creates the weights for this LSTM\"\"\"\n",
        "        super(ChildsumTreeLSTMCell, self).__init__()\n",
        "\n",
        "        self.input_size = input_size\n",
        "        self.hidden_size = hidden_size\n",
        "        self.bias = bias\n",
        "\n",
        "        self.reduce_layer = nn.Linear(hidden_size, 5 * hidden_size)\n",
        "        self.dropout_layer = nn.Dropout(p=0.25)\n",
        "\n",
        "        self.reset_parameters()\n",
        "\n",
        "    def reset_parameters(self):\n",
        "        \"\"\"This is PyTorch's default initialization method\"\"\"\n",
        "        stdv = 1.0 / math.sqrt(self.hidden_size)\n",
        "        for weight in self.parameters():\n",
        "            weight.data.uniform_(-stdv, stdv)\n",
        "\n",
        "    def forward(self, hx_l, hx_r, mask=None):\n",
        "        \"\"\"\n",
        "        hx_l is ((batch, hidden_size), (batch, hidden_size))\n",
        "        hx_r is ((batch, hidden_size), (batch, hidden_size))\n",
        "        \"\"\"\n",
        "        prev_h_l, prev_c_l = hx_l  # left child\n",
        "        prev_h_r, prev_c_r = hx_r  # right child\n",
        "\n",
        "        B = prev_h_l.size(0)\n",
        "\n",
        "        # we sum the left and right children\n",
        "        children = prev_h_l + prev_h_r\n",
        "\n",
        "        # project the combined children into a 5D tensor for i,fl,fr,g,o\n",
        "        # this is done for speed, and you could also do it separately\n",
        "        proj = self.reduce_layer(children)  # shape: B x 5D\n",
        "\n",
        "        # each shape: B x D\n",
        "        i, f_l, f_r, g, o = torch.chunk(proj, 5, dim=-1)\n",
        "\n",
        "        # main Tree LSTM computation\n",
        "\n",
        "        # YOUR CODE HERE\n",
        "        # You only need to complete the commented lines below.\n",
        "\n",
        "        # The shape of each of these is [batch_size, hidden_size]\n",
        "        i = torch.sigmoid(i)\n",
        "        f_l = torch.sigmoid(f_l)\n",
        "        f_r = torch.sigmoid(f_r)\n",
        "        g = torch.tanh(g)\n",
        "        o = torch.sigmoid(o)\n",
        "\n",
        "        c = i * g + f_r * prev_c_r + f_l * prev_c_l\n",
        "        h = o * torch.tanh(c)\n",
        "\n",
        "        return h, c\n",
        "\n",
        "    def __repr__(self):\n",
        "        return \"{}({:d}, {:d})\".format(\n",
        "                self.__class__.__name__, self.input_size, self.hidden_size)"
      ]
    },
    {
      "cell_type": "markdown",
      "metadata": {
        "id": "Dj5dYSGh_643"
      },
      "source": [
        "## Explanation of the TreeLSTM class\n",
        "\n",
        "\n",
        "The code below contains the TreeLSTM class, which implements everything we need in order to encode a sentence from word embeddings. The calculations are the same as in the paper, implemented such that the class `TreeLSTMCell` above is as general as possible and only takes two children to reduce them into a parent.\n",
        "\n",
        "\n",
        "**Initialize $\\mathbf{h}$ and $\\mathbf{c}$ outside of the cell for the leaves**\n",
        "\n",
        "At the leaves of each tree the children nodes are **empty**, whereas in higher levels the nodes are binary tree nodes that *do* have a left and right child (but no input $x$). By initializing the leaf nodes outside of the cell class (`TreeLSTMCell`), we avoid if-else statements in the forward pass.\n",
        "\n",
        "The `TreeLSTM` class (among other things) pre-calculates an initial $h$ and $c$ for every word in the sentence. Since the initial left and right child are 0, the only calculations we need to do are based on $x$, and we can drop the forget gate calculation (`prev_c_l` and `prev_c_r` are zero). The calculations we do in order to initalize $h$ and $c$ are then:\n",
        "\n",
        "$$\n",
        "c_1 =  W^{(u)}x_1 \\\\\n",
        "o_1 = \\sigma (W^{(i)}x_1) \\\\\n",
        "h_1 = o_1 \\odot \\text{tanh}(c_1)$$\n",
        "*NB: note that these equations are chosen as initializations of $c$ and $h$, other initializations are possible and might work equally well.*\n",
        "\n",
        "**Sentence Representations**\n",
        "\n",
        "All our leaf nodes are now initialized, so we can start processing the sentence in its tree form. Each sentence is represented by a buffer (initially a list with a concatenation of $[h_1, c_1]$ for every word in the reversed sentence), a stack (initially an empty list) and a transition sequence. To encode our sentence, we construct the tree from its transition sequence as explained earlier.\n",
        "\n",
        "*A short example that constructs a tree:*\n",
        "\n",
        "We loop over the time dimension of the batched transition sequences (i.e. row by row), which contain values of 0's, 1's and 2's (representing SHIFT, REDUCE and padding respectively). If we have a batch of size 2 where the first example has a transition sequence given by [0, 0, 1, 0, 0, 0, 1] and the second by [0, 0, 1, 0, 0, 1], our transition batch will be given by the following two-dimensional numpy array:\n",
        "\n",
        "$$\n",
        "\\text{transitions} =\n",
        "\\begin{pmatrix}\n",
        "0 & 0\\\\\n",
        "0 & 0\\\\\n",
        "1 & 1\\\\\n",
        "0 & 0\\\\\n",
        "0 & 0\\\\\n",
        "0 & 1\\\\\n",
        "1 & 2\n",
        "\\end{pmatrix}\n",
        "$$\n",
        "The inner loop (`for transition, buffer, stack in zip(t_batch, buffers, stacks)`) goes over each example in the batch and updates its buffer and stack. The nested loop for this example will then do roughy the following:\n",
        "\n",
        "```\n",
        "Time = 0:  t_batch = [0, 0], the inner loop performs 2 SHIFTs.\n",
        "\n",
        "Time = 1:  t_batch = [0, 0], \"..\"\n",
        "\n",
        "Time = 2:  t_batch = [1, 1], causing the inner loop to fill the list child_l and child_r for both examples in the batch. Now the statement if child_l will return True, triggering a REDUCE action to be performed by our Tree LSTM cell with a batch size of 2.\n",
        "\n",
        "Time = 3:  t_batch = [0, 0], \"..\".\n",
        "\n",
        "Time = 4:  t_batch = [0, 0], \"..\"\n",
        "\n",
        "Time = 5:  t_batch = [0, 1], one SHIFT will be done and another REDUCE action will be performed by our Tree LSTM, this time of batch size 1.  \n",
        "\n",
        "Time = 6:  t_batch = [1, 2], triggering another REDUCE action with batch size 1.\n",
        "```\n",
        "*NB: note that this was an artificial example for the purpose of demonstrating parts of the code, the transition sequences do not necessarily represent actual trees.*\n",
        "\n",
        "**Batching and Unbatching**\n",
        "\n",
        "Within the body of the outer loop over time, we use the functions for batching and unbatching.\n",
        "\n",
        "*Batching*\n",
        "\n",
        "Before passing two lists of children to the reduce layer (an instance of `TreeLSTMCell`), we batch the children as they are at this point a list of tensors of variable length based on how many REDUCE actions there are to perform at a certain time step across the batch (let's call the length `L`). To do an efficient forward pass we want to transform the list to a pair of tensors of shape `([L, D], [L, D])`, which the function `batch` achieves.\n",
        "\n",
        "*Unbatching*\n",
        "\n",
        "In the same line where we batched the children, we unbatch the output of the forward pass to become a list of states of length `L` again. We do this because we need to loop over each example's transition at the current time step and push the children that are reduced into a parent to the stack.\n",
        "\n",
        "*The batch and unbatch functions let us switch between the \"PyTorch world\" (Tensors) and the Python world (easy to manipulate lists).*\n"
      ]
    },
    {
      "cell_type": "markdown",
      "metadata": {
        "id": "CynltDasaLPt"
      },
      "source": [
        "Take some time to understand the class below, having read the explanation above."
      ]
    },
    {
      "cell_type": "code",
      "execution_count": null,
      "metadata": {
        "id": "rQOqMXG4gX5G"
      },
      "outputs": [],
      "source": [
        "class TreeLSTM(nn.Module):\n",
        "  \"\"\"Encodes a sentence using a TreeLSTMCell\"\"\"\n",
        "\n",
        "  def __init__(self, input_size, hidden_size, bias=True, childsum=False):\n",
        "    \"\"\"Creates the weights for this LSTM\"\"\"\n",
        "    super(TreeLSTM, self).__init__()\n",
        "\n",
        "    self.input_size = input_size\n",
        "    self.hidden_size = hidden_size\n",
        "    self.bias = bias\n",
        "    if childsum: self.reduce = ChildsumTreeLSTMCell(input_size, hidden_size)\n",
        "    else: self.reduce = TreeLSTMCell(input_size, hidden_size)\n",
        "\n",
        "    # project word to initial c\n",
        "    self.proj_x = nn.Linear(input_size, hidden_size)\n",
        "    self.proj_x_gate = nn.Linear(input_size, hidden_size)\n",
        "\n",
        "    self.buffers_dropout = nn.Dropout(p=0.5)\n",
        "\n",
        "  def forward(self, x, transitions):\n",
        "    \"\"\"\n",
        "    WARNING: assuming x is reversed!\n",
        "    :param x: word embeddings [B, T, E]\n",
        "    :param transitions: [2T-1, B]\n",
        "    :return: root states\n",
        "    \"\"\"\n",
        "\n",
        "    B = x.size(0)  # batch size\n",
        "    T = x.size(1)  # time\n",
        "\n",
        "    # compute an initial c and h for each word\n",
        "    # Note: this corresponds to input x in the Tai et al. Tree LSTM paper.\n",
        "    # We do not handle input x in the TreeLSTMCell itself.\n",
        "    buffers_c = self.proj_x(x)\n",
        "    buffers_h = buffers_c.tanh()\n",
        "    buffers_h_gate = self.proj_x_gate(x).sigmoid()\n",
        "    buffers_h = buffers_h_gate * buffers_h\n",
        "\n",
        "    # concatenate h and c for each word\n",
        "    buffers = torch.cat([buffers_h, buffers_c], dim=-1)\n",
        "\n",
        "    D = buffers.size(-1) // 2\n",
        "\n",
        "    # we turn buffers into a list of stacks (1 stack for each sentence)\n",
        "    # first we split buffers so that it is a list of sentences (length B)\n",
        "    # then we split each sentence to be a list of word vectors\n",
        "    buffers = buffers.split(1, dim=0)  # Bx[T, 2D]\n",
        "    buffers = [list(b.squeeze(0).split(1, dim=0)) for b in buffers]  # BxTx[2D]\n",
        "\n",
        "    # create B empty stacks\n",
        "    stacks = [[] for _ in buffers]\n",
        "    utils = Utility()\n",
        "\n",
        "    # t_batch holds 1 transition for each sentence\n",
        "    for t_batch in transitions:\n",
        "\n",
        "      child_l = []  # contains the left child for each sentence with reduce action\n",
        "      child_r = []  # contains the corresponding right child\n",
        "\n",
        "      # iterate over sentences in the batch\n",
        "      # each has a transition t, a buffer and a stack\n",
        "      for transition, buffer, stack in zip(t_batch, buffers, stacks):\n",
        "        if transition == SHIFT:\n",
        "          stack.append(buffer.pop())\n",
        "        elif transition == REDUCE:\n",
        "          assert len(stack) >= 2, \\\n",
        "            \"Stack too small! Should not happen with valid transition sequences\"\n",
        "          child_r.append(stack.pop())  # right child is on top\n",
        "          child_l.append(stack.pop())\n",
        "\n",
        "      # if there are sentences with reduce transition, perform them batched\n",
        "      if child_l:\n",
        "        reduced = iter(utils.unbatch(self.reduce(utils.batch(child_l), utils.batch(child_r))))\n",
        "        for transition, stack in zip(t_batch, stacks):\n",
        "          if transition == REDUCE:\n",
        "            stack.append(next(reduced))\n",
        "\n",
        "    final = [stack.pop().chunk(2, -1)[0] for stack in stacks]\n",
        "    final = torch.cat(final, dim=0)  # tensor [B, D]\n",
        "\n",
        "    return final"
      ]
    },
    {
      "cell_type": "markdown",
      "metadata": {
        "id": "s4EzbVzqaXkw"
      },
      "source": [
        "Just like the LSTM before, we will need an extra class that does the classifications."
      ]
    },
    {
      "cell_type": "code",
      "execution_count": null,
      "metadata": {
        "id": "nLxpYRvtQKge"
      },
      "outputs": [],
      "source": [
        "class TreeLSTMClassifier(nn.Module):\n",
        "  \"\"\"Encodes sentence with a TreeLSTM and projects final hidden state\"\"\"\n",
        "\n",
        "  def __init__(self, vocab_size, embedding_dim, hidden_dim, output_dim, vocab, childsum=False):\n",
        "    super(TreeLSTMClassifier, self).__init__()\n",
        "    self.vocab = vocab\n",
        "    self.hidden_dim = hidden_dim\n",
        "    self.embed = nn.Embedding(vocab_size, embedding_dim, padding_idx=1)\n",
        "    self.treelstm = TreeLSTM(embedding_dim, hidden_dim, childsum=childsum)\n",
        "    self.output_layer = nn.Sequential(\n",
        "        nn.Dropout(p=0.5),\n",
        "        nn.Linear(hidden_dim, output_dim, bias=True))\n",
        "\n",
        "  def forward(self, x):\n",
        "\n",
        "    # x is a pair here of words and transitions; we unpack it here.\n",
        "    # x is batch-major: [B, T], transitions is time major [2T-1, B]\n",
        "    x, transitions = x\n",
        "    emb = self.embed(x)\n",
        "\n",
        "    # we use the root/top state of the Tree LSTM to classify the sentence\n",
        "    root_states = self.treelstm(emb, transitions)\n",
        "\n",
        "    # we use the last hidden state to classify the sentence\n",
        "    logits = self.output_layer(root_states)\n",
        "    return logits"
      ]
    },
    {
      "cell_type": "markdown",
      "metadata": {
        "id": "gh9RbhGwaiLg"
      },
      "source": [
        "## Special `prepare` function for Tree-LSTM\n",
        "\n",
        "We need yet another `prepare` function. For our implementation, sentences need to be *reversed*. We will do that here."
      ]
    },
    {
      "cell_type": "markdown",
      "metadata": {
        "id": "IMUsrlL9ayVe"
      },
      "source": [
        "## Training"
      ]
    },
    {
      "cell_type": "markdown",
      "metadata": {
        "id": "ohXTwuXCcLNu"
      },
      "source": [
        "## Only change these parameters:   \n",
        "num_simulation=20, stop_factor=25"
      ]
    },
    {
      "cell_type": "code",
      "execution_count": null,
      "metadata": {
        "id": "v_-GwrLaeiTO"
      },
      "outputs": [],
      "source": [
        "start = time.time()\n",
        "treeLSTM = Train(model ='TreeLSTM', use_pt_embed=True, sentence_length_evaluate=True,\n",
        "                       hidden_dim =150, batch_size=25, num_simulations= 10, num_iterations =0,\n",
        "                       eval_every=50, print_every=50, stop_factor=25, learning_rate=3e-4, verbose=False,filename_plot='tree_lstm.png')\n",
        "treelstm_time = time.time() - start\n",
        "print('Total time: {:.3f}'.format(treelstm_time))"
      ]
    },
    {
      "cell_type": "markdown",
      "metadata": {
        "id": "Q5wtxQPXNFEv"
      },
      "source": [
        "num_simulation=20, stop_factor=25"
      ]
    },
    {
      "cell_type": "code",
      "execution_count": null,
      "metadata": {
        "id": "bGCqPCGpNEmq"
      },
      "outputs": [],
      "source": [
        "start = time.time()\n",
        "treeLSTM_subtrees = Train(model ='TreeLSTM', use_pt_embed=True, sentence_length_evaluate=True, create_subtrees=True,\n",
        "                       hidden_dim =150, batch_size=25, num_simulations= 2, num_iterations =0,\n",
        "                       eval_every=50, print_every=50, stop_factor=2, learning_rate=3e-4, verbose=False,filename_plot='tree_lstm_subtrees.png')\n",
        "treelstm_time1 = time.time() - start\n",
        "print('Total time: {:.3f}'.format(treelstm_time1))"
      ]
    },
    {
      "cell_type": "markdown",
      "metadata": {
        "id": "F10I0DjQcUyY"
      },
      "source": [
        "## Only change these parameters:   \n",
        "num_simulation=20, stop_factor=25"
      ]
    },
    {
      "cell_type": "code",
      "execution_count": null,
      "metadata": {
        "id": "-1I_dZjBq3Cc"
      },
      "outputs": [],
      "source": [
        "start = time.time()\n",
        "treeLSTM_childsum = Train(model ='TreeLSTM', use_pt_embed=True, sentence_length_evaluate=True, childsum=True,\n",
        "                       hidden_dim =150, batch_size=25, num_simulations= 10, num_iterations =0,\n",
        "                       eval_every=50, print_every=50, stop_factor=25, learning_rate=3e-4, verbose=False,filename_plot='childsum_tree_lstm.png')\n",
        "treelstm_childsum_time = time.time() - start\n",
        "print('Total time: {:.3f}'.format(treelstm_childsum_time))"
      ]
    },
    {
      "cell_type": "code",
      "execution_count": null,
      "metadata": {
        "id": "YnrlJ6rrWV3i"
      },
      "outputs": [],
      "source": [
        "all_results = [bow_classifier.Results, cbow_classifier.Results, deep_cbow_classifier.Results, pt1_cbow_classifier.Results,\n",
        "               pt2_cbow_classifier.Results, LSTM.Results, treeLSTM.Results, treeLSTM_childsum.Results]"
      ]
    },
    {
      "cell_type": "code",
      "execution_count": null,
      "metadata": {
        "id": "o1Yv_rfjjzc6"
      },
      "outputs": [],
      "source": [
        "utils.plot_all(all_results, print_means=True)"
      ]
    },
    {
      "cell_type": "code",
      "execution_count": null,
      "metadata": {
        "id": "_sqsomvhoU0w"
      },
      "outputs": [],
      "source": [
        "fig, ax = plt.subplots(figsize=(14,6))\n",
        "\n",
        "ax.bar(range(7),[bow_time, cbow_time, deep_cbow_time, pt1_cbow_time, lstm_batched_time, treelstm_time, treelstm_childsum_time])\n",
        "ax.set_xticks(ticks = range(7))\n",
        "ax.set_ylabel('Time (in sec)')\n",
        "ax.set_xticklabels(labels=['Bow','CBoW','DeepCBoW','Pretrained CBoW','LSTM','BinaryTreeLSTM','ChildsumTreeLSTM'])\n",
        "ax.grid(alpha=0.5)\n",
        "plt.savefig(\"trainingtimes.png\",dpi=400)\n",
        "plt.show()"
      ]
    },
    {
      "cell_type": "markdown",
      "metadata": {
        "id": "f7QZZH86eHqu"
      },
      "source": [
        "# Further experiments and report\n",
        "\n",
        "For your report, you are expected to answer research questions by doing further experiments.\n",
        "\n",
        "## Research Questions\n",
        "\n",
        "Make sure you cover at least the following:\n",
        "\n",
        "- How important is word order for this task?\n",
        "- Does the tree structure help to get a better accuracy?\n",
        "- How does performance depend on the sentence length? Compare the various models. Is there a model that does better on longer sentences? If so, why?\n",
        "- Do you get better performance if you supervise the sentiment **at each node in the tree**? You can extract more training examples by treating every node in each tree as a separate tree. You will need to write a function that extracts all subtrees given a treestring.\n",
        "    - Warning: NLTK's Tree function seems to result in invalid trees in some cases, so be careful if you want to parse the string to a tree structure before extraction the phrases.\n",
        "\n",
        "**To be able to obtain a full grade (10), you should conduct further investigations.** For example, you can also investigate one the following:\n",
        "\n",
        "- When making a wrong prediction, can you figure out at what point in the tree (sentence) the model fails? You can make a prediction at each node to investigate.\n",
        "- How does N-ary Tree LSTM compare to the Child-Sum Tree LSTM?\n",
        "- How do the Tai et al. Tree LSTMs compare to Le & Zuidema's formulation?\n",
        "- Or... your own research question!\n",
        "\n",
        "These examples should give you an idea of the expected scope of your further investigations.\n",
        "\n",
        "In general:\n",
        "\n",
        "- ***When you report numbers, please report the mean accuracy across 3 (or more) runs with different random seed, together with the standard deviation.*** This is because the final performance may vary per random seed.\n",
        "More precisely, you should run each model with 3 different seeds, and for each of these 3 runs, evaluate the best model (according to the validation) on the test dataset. The validation dataset is used for finding the best model over iterations, but the accuracy you report should be on the test dataset.\n",
        "\n",
        "## Report instructions\n",
        "\n",
        "Your report needs to be written in LaTeX. You are required to use the ACL 2020 template which you can download from or edit directly on [Overleaf](https://www.overleaf.com/latex/templates/instructions-for-acl-2018-proceedings/xzmhqgnmkppc). Make sure your names and student numbers are visible at the top. (Tip: you need to uncomment `\\aclfinalcopy`).\n",
        "You can find some general tips about writing a research paper [here](https://www.microsoft.com/en-us/research/academic-program/write-great-research-paper/), but note that you need to make your own judgment about what is appropriate for this project.\n",
        "\n",
        "We expect you to use the following structure:\n",
        "1. Introduction (~1 page) - describe the problem, your research questions and goals, a summary of your findings and contributions. Please cite related work (models, data set) as part of your introduction here, since this is a short paper.\n",
        "    - Introduce the task and the main goal\n",
        "    - Present your research questions\n",
        "    - Motivate the importance of the questions\n",
        "    - Present and explain your expectations\n",
        "    - Make clear whether the research questions are addressed or not addressed in the literature\n",
        "    - Describe the approach you use to answer the research questions\n",
        "    - Summarise your findings\n",
        "2. Background (~1/2-1 page) -\n",
        "cover the main techniques (\"building blocks\") used in your project (e.g. word embeddings, LSTM, Tree-LSTM) and intuitions behind them. Be accurate and concise.\n",
        "    - How does each technique work? (Don't just copy the formulas)\n",
        "    - What is the relation between the techniques?\n",
        "3. Models (~1/2 page) - Describe the architecture of the final models.\n",
        "    - How do you use LSTM or Tree-LSTM for the sentiment classification task?\n",
        "    - What layers do you have, how do you do classification?\n",
        "    - What is your loss function?\n",
        "    - Etc.\n",
        "4. Experiments (~1/2 page) - Describe your experimental setup. This section should allow someone else to reproduce your experiments. Describe how you evaluate the models.\n",
        "    - Task and the data\n",
        "    - Training (model, data, parameters and hyper parameters, training algorithms, supervision signals, etc.)\n",
        "    - Evaluation (e.g. metrics)\n",
        "5. Results and Analysis (~1 page). Present the results and analyse your findings.\n",
        "    - Answer each of the research questions you raised in the introduction.\n",
        "    - Use figures and tables to highlight interesting patterns\n",
        "    - What are the factors that make model A better than model B in task C? Investigate to prove their effect!\n",
        "6. Conclusion (~1/4 page). Present the conclusions that can be drawn from your experiments.\n",
        "    - What have you learned from you experiments?\n",
        "    - How do your findings relate to what is already known in the literature?\n",
        "    - Were the results as expected? Any surprising results? Why?\n",
        "    - Based on what you learned, what would you suggest doing next?\n",
        "\n",
        "\n",
        "General Tips:\n",
        "\n",
        "- Math notation – define each variable (either in running text, or in a pseudo-legenda after or before the equation).\n",
        "- Define technical terminology you need.\n",
        "- Avoid colloquial language – everything can be said in a scientific-sounding way.\n",
        "- Avoid lengthy sentences, stay to the point.\n",
        "- Do not spend space on \"obvious\" things.\n",
        "- Do not go over the page limit. (We will deduct points for that.)\n",
        "- The page limit is 4 pages excluding references and appendix. This is a strict limit; points will be deducted for longer reports.\n",
        "- There is no strict limit to references and appendix. However, the report needs to remain fully self-contained: the appendix should only include content that is not necessary to understand your work. For example, preprocessing decisions, model parameters, pseudocode, sample system inputs/outputs, and other details that are necessary for the exact replication of your work can be put into the appendix.\n",
        "\n",
        "\n",
        "An ideal report:\n",
        "- Precise, scientific-sounding, technical, to the point\n",
        "  - Little general “waffle”/chit-chat\n",
        "- Not boring – because you don’t explain obvious things too much\n",
        "- Efficient delivery of (only) the facts that we need to know to understand/reimplement\n",
        "- Results visually well-presented and described with the correct priority of importance of sub-results\n",
        "- Insightful analysis – speculation should connect to something interesting and not be too much; the reader “learns something new”\n",
        "- No typos, no colloquialisms – well-considered language\n",
        "- This normally means several re-draftings (re-orderings of information)\n"
      ]
    },
    {
      "cell_type": "code",
      "execution_count": null,
      "metadata": {
        "id": "uCINIXV1q1oe"
      },
      "outputs": [],
      "source": []
    }
  ],
  "metadata": {
    "colab": {
      "provenance": [],
      "toc_visible": true
    },
    "kernelspec": {
      "display_name": "Python 3",
      "name": "python3"
    }
  },
  "nbformat": 4,
  "nbformat_minor": 0
}